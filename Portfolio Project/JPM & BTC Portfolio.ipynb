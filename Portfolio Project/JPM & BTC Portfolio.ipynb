{
 "cells": [
  {
   "cell_type": "markdown",
   "id": "c38cf994",
   "metadata": {},
   "source": [
    "### Import packages"
   ]
  },
  {
   "cell_type": "code",
   "execution_count": 1,
   "id": "9e7cd94b",
   "metadata": {},
   "outputs": [],
   "source": [
    "import datetime\n",
    "import numpy as np\n",
    "import pandas as pd\n",
    "import pandas_datareader.data as web\n",
    "import seaborn as sns\n",
    "import math\n",
    "import matplotlib.pyplot as plt\n",
    "import yfinance as yf\n",
    "import statsmodels.api as sm\n",
    "import pylab as py\n",
    "\n"
   ]
  },
  {
   "cell_type": "code",
   "execution_count": 2,
   "id": "f68d2123",
   "metadata": {},
   "outputs": [],
   "source": [
    "## We will assume we bought 100 shares 5 years ago\n"
   ]
  },
  {
   "cell_type": "code",
   "execution_count": 3,
   "id": "5a899c1c",
   "metadata": {},
   "outputs": [],
   "source": [
    "# JPM_5yrs = yf.download(tickers = 'JPM', period='5y', interval = \"1d\")\n",
    "\n",
    "# JPM_5yrs"
   ]
  },
  {
   "cell_type": "code",
   "execution_count": 4,
   "id": "11bfbfd5",
   "metadata": {},
   "outputs": [],
   "source": [
    "start = datetime.date(2016, 1, 29)\n",
    "end = datetime.date(2021, 1, 2)\n",
    "# start = datetime.date.today()-datetime.timedelta(365*10)\n",
    "# end = datetime.date.today()\n",
    "prices = web.DataReader([\"JPM\", \"BTC-USD\"], \"yahoo\", start, end)[\"Adj Close\"]\n",
    "prices = prices.rename(columns={\"BTC-USD\": \"BTC\"})\n",
    "prices = prices.dropna()\n",
    "returns = prices.pct_change()"
   ]
  },
  {
   "cell_type": "code",
   "execution_count": 5,
   "id": "2167fd16",
   "metadata": {},
   "outputs": [
    {
     "data": {
      "text/html": [
       "<div>\n",
       "<style scoped>\n",
       "    .dataframe tbody tr th:only-of-type {\n",
       "        vertical-align: middle;\n",
       "    }\n",
       "\n",
       "    .dataframe tbody tr th {\n",
       "        vertical-align: top;\n",
       "    }\n",
       "\n",
       "    .dataframe thead th {\n",
       "        text-align: right;\n",
       "    }\n",
       "</style>\n",
       "<table border=\"1\" class=\"dataframe\">\n",
       "  <thead>\n",
       "    <tr style=\"text-align: right;\">\n",
       "      <th>Symbols</th>\n",
       "      <th>JPM</th>\n",
       "      <th>BTC</th>\n",
       "    </tr>\n",
       "    <tr>\n",
       "      <th>Date</th>\n",
       "      <th></th>\n",
       "      <th></th>\n",
       "    </tr>\n",
       "  </thead>\n",
       "  <tbody>\n",
       "    <tr>\n",
       "      <th>2016-01-29</th>\n",
       "      <td>NaN</td>\n",
       "      <td>NaN</td>\n",
       "    </tr>\n",
       "    <tr>\n",
       "      <th>2016-02-01</th>\n",
       "      <td>-0.010756</td>\n",
       "      <td>-0.016913</td>\n",
       "    </tr>\n",
       "    <tr>\n",
       "      <th>2016-02-02</th>\n",
       "      <td>-0.031090</td>\n",
       "      <td>0.003731</td>\n",
       "    </tr>\n",
       "    <tr>\n",
       "      <th>2016-02-03</th>\n",
       "      <td>0.006663</td>\n",
       "      <td>-0.012015</td>\n",
       "    </tr>\n",
       "    <tr>\n",
       "      <th>2016-02-04</th>\n",
       "      <td>0.017244</td>\n",
       "      <td>0.053102</td>\n",
       "    </tr>\n",
       "  </tbody>\n",
       "</table>\n",
       "</div>"
      ],
      "text/plain": [
       "Symbols          JPM       BTC\n",
       "Date                          \n",
       "2016-01-29       NaN       NaN\n",
       "2016-02-01 -0.010756 -0.016913\n",
       "2016-02-02 -0.031090  0.003731\n",
       "2016-02-03  0.006663 -0.012015\n",
       "2016-02-04  0.017244  0.053102"
      ]
     },
     "execution_count": 5,
     "metadata": {},
     "output_type": "execute_result"
    }
   ],
   "source": [
    "# observe data\n",
    "returns.head()"
   ]
  },
  {
   "cell_type": "markdown",
   "id": "5772d0c0",
   "metadata": {},
   "source": [
    "###  Determine Initial Investment"
   ]
  },
  {
   "cell_type": "code",
   "execution_count": 6,
   "id": "70e47394",
   "metadata": {},
   "outputs": [
    {
     "data": {
      "text/plain": [
       "6818.367614746094"
      ]
     },
     "execution_count": 6,
     "metadata": {},
     "output_type": "execute_result"
    }
   ],
   "source": [
    "# Determine weights\n",
    "initialJPM = prices.JPM[0] * 100\n",
    "initialBTC = prices.BTC[0] * 5\n",
    "initialInvestment = initialJPM + initialBTC\n",
    "initialInvestment"
   ]
  },
  {
   "cell_type": "code",
   "execution_count": 7,
   "id": "d579fcde",
   "metadata": {},
   "outputs": [
    {
     "name": "stdout",
     "output_type": "stream",
     "text": [
      "This would make the weights 0.722 and 0.278 for JPM and BTC respectively\n"
     ]
    }
   ],
   "source": [
    "weightJPM = initialJPM / (initialBTC + initialJPM)\n",
    "weightBTC = 1 - weightJPM\n",
    "print(\n",
    "    \"This would make the weights %.3f and %.3f for JPM and BTC respectively\"\n",
    "    % (weightJPM, weightBTC)\n",
    ")"
   ]
  },
  {
   "cell_type": "markdown",
   "id": "b0a499ea",
   "metadata": {},
   "source": [
    "### Calculate Portfolio Daily Returns\n"
   ]
  },
  {
   "cell_type": "code",
   "execution_count": 8,
   "id": "ddf4fb6e",
   "metadata": {
    "scrolled": true
   },
   "outputs": [
    {
     "data": {
      "text/html": [
       "<div>\n",
       "<style scoped>\n",
       "    .dataframe tbody tr th:only-of-type {\n",
       "        vertical-align: middle;\n",
       "    }\n",
       "\n",
       "    .dataframe tbody tr th {\n",
       "        vertical-align: top;\n",
       "    }\n",
       "\n",
       "    .dataframe thead th {\n",
       "        text-align: right;\n",
       "    }\n",
       "</style>\n",
       "<table border=\"1\" class=\"dataframe\">\n",
       "  <thead>\n",
       "    <tr style=\"text-align: right;\">\n",
       "      <th>Symbols</th>\n",
       "      <th>JPM</th>\n",
       "      <th>BTC</th>\n",
       "      <th>Portfolio</th>\n",
       "    </tr>\n",
       "    <tr>\n",
       "      <th>Date</th>\n",
       "      <th></th>\n",
       "      <th></th>\n",
       "      <th></th>\n",
       "    </tr>\n",
       "  </thead>\n",
       "  <tbody>\n",
       "    <tr>\n",
       "      <th>2016-01-29</th>\n",
       "      <td>NaN</td>\n",
       "      <td>NaN</td>\n",
       "      <td>NaN</td>\n",
       "    </tr>\n",
       "    <tr>\n",
       "      <th>2016-02-01</th>\n",
       "      <td>0.989244</td>\n",
       "      <td>0.983087</td>\n",
       "      <td>0.987530</td>\n",
       "    </tr>\n",
       "    <tr>\n",
       "      <th>2016-02-02</th>\n",
       "      <td>0.968910</td>\n",
       "      <td>1.003731</td>\n",
       "      <td>0.978600</td>\n",
       "    </tr>\n",
       "    <tr>\n",
       "      <th>2016-02-03</th>\n",
       "      <td>1.006663</td>\n",
       "      <td>0.987985</td>\n",
       "      <td>1.001466</td>\n",
       "    </tr>\n",
       "    <tr>\n",
       "      <th>2016-02-04</th>\n",
       "      <td>1.017244</td>\n",
       "      <td>1.053102</td>\n",
       "      <td>1.027223</td>\n",
       "    </tr>\n",
       "  </tbody>\n",
       "</table>\n",
       "</div>"
      ],
      "text/plain": [
       "Symbols          JPM       BTC  Portfolio\n",
       "Date                                     \n",
       "2016-01-29       NaN       NaN        NaN\n",
       "2016-02-01  0.989244  0.983087   0.987530\n",
       "2016-02-02  0.968910  1.003731   0.978600\n",
       "2016-02-03  1.006663  0.987985   1.001466\n",
       "2016-02-04  1.017244  1.053102   1.027223"
      ]
     },
     "execution_count": 8,
     "metadata": {},
     "output_type": "execute_result"
    }
   ],
   "source": [
    "returns[\"Portfolio\"] = (returns.JPM * weightJPM) + (returns.BTC * weightBTC)\n",
    "returns = returns + 1\n",
    "returns.head()\n"
   ]
  },
  {
   "cell_type": "code",
   "execution_count": 9,
   "id": "0800f0e0",
   "metadata": {},
   "outputs": [],
   "source": [
    "# AVG=returns['JPM'].mean()*weightJPM+(returns['BTC'].mean()*weightBTC)\n",
    "# AVG"
   ]
  },
  {
   "cell_type": "code",
   "execution_count": 10,
   "id": "7ea19032",
   "metadata": {},
   "outputs": [
    {
     "data": {
      "text/plain": [
       "1.0019279133890788"
      ]
     },
     "execution_count": 10,
     "metadata": {},
     "output_type": "execute_result"
    }
   ],
   "source": [
    "Average_portfolio_returns=returns['Portfolio'].mean()\n",
    "Average_portfolio_returns"
   ]
  },
  {
   "cell_type": "code",
   "execution_count": 11,
   "id": "96eb3611",
   "metadata": {},
   "outputs": [],
   "source": [
    "portfolio_returns=returns[\"Portfolio\"]"
   ]
  },
  {
   "cell_type": "markdown",
   "id": "2432cf68",
   "metadata": {},
   "source": [
    "## Set our starting position of $10,000"
   ]
  },
  {
   "cell_type": "code",
   "execution_count": 12,
   "id": "7481408c",
   "metadata": {},
   "outputs": [
    {
     "data": {
      "text/html": [
       "<div>\n",
       "<style scoped>\n",
       "    .dataframe tbody tr th:only-of-type {\n",
       "        vertical-align: middle;\n",
       "    }\n",
       "\n",
       "    .dataframe tbody tr th {\n",
       "        vertical-align: top;\n",
       "    }\n",
       "\n",
       "    .dataframe thead th {\n",
       "        text-align: right;\n",
       "    }\n",
       "</style>\n",
       "<table border=\"1\" class=\"dataframe\">\n",
       "  <thead>\n",
       "    <tr style=\"text-align: right;\">\n",
       "      <th>Symbols</th>\n",
       "      <th>JPM</th>\n",
       "      <th>BTC</th>\n",
       "      <th>Portfolio</th>\n",
       "    </tr>\n",
       "    <tr>\n",
       "      <th>Date</th>\n",
       "      <th></th>\n",
       "      <th></th>\n",
       "      <th></th>\n",
       "    </tr>\n",
       "  </thead>\n",
       "  <tbody>\n",
       "    <tr>\n",
       "      <th>2016-01-29</th>\n",
       "      <td>10000.000000</td>\n",
       "      <td>10000.000000</td>\n",
       "      <td>10000.000000</td>\n",
       "    </tr>\n",
       "    <tr>\n",
       "      <th>2016-02-01</th>\n",
       "      <td>0.989244</td>\n",
       "      <td>0.983087</td>\n",
       "      <td>0.987530</td>\n",
       "    </tr>\n",
       "    <tr>\n",
       "      <th>2016-02-02</th>\n",
       "      <td>0.968910</td>\n",
       "      <td>1.003731</td>\n",
       "      <td>0.978600</td>\n",
       "    </tr>\n",
       "    <tr>\n",
       "      <th>2016-02-03</th>\n",
       "      <td>1.006663</td>\n",
       "      <td>0.987985</td>\n",
       "      <td>1.001466</td>\n",
       "    </tr>\n",
       "    <tr>\n",
       "      <th>2016-02-04</th>\n",
       "      <td>1.017244</td>\n",
       "      <td>1.053102</td>\n",
       "      <td>1.027223</td>\n",
       "    </tr>\n",
       "  </tbody>\n",
       "</table>\n",
       "</div>"
      ],
      "text/plain": [
       "Symbols              JPM           BTC     Portfolio\n",
       "Date                                                \n",
       "2016-01-29  10000.000000  10000.000000  10000.000000\n",
       "2016-02-01      0.989244      0.983087      0.987530\n",
       "2016-02-02      0.968910      1.003731      0.978600\n",
       "2016-02-03      1.006663      0.987985      1.001466\n",
       "2016-02-04      1.017244      1.053102      1.027223"
      ]
     },
     "execution_count": 12,
     "metadata": {},
     "output_type": "execute_result"
    }
   ],
   "source": [
    "returns.iloc[0] = 10000\n",
    "returns.head()"
   ]
  },
  {
   "cell_type": "code",
   "execution_count": 13,
   "id": "39d4da72",
   "metadata": {
    "scrolled": false
   },
   "outputs": [
    {
     "data": {
      "text/html": [
       "<div>\n",
       "<style scoped>\n",
       "    .dataframe tbody tr th:only-of-type {\n",
       "        vertical-align: middle;\n",
       "    }\n",
       "\n",
       "    .dataframe tbody tr th {\n",
       "        vertical-align: top;\n",
       "    }\n",
       "\n",
       "    .dataframe thead th {\n",
       "        text-align: right;\n",
       "    }\n",
       "</style>\n",
       "<table border=\"1\" class=\"dataframe\">\n",
       "  <thead>\n",
       "    <tr style=\"text-align: right;\">\n",
       "      <th>Symbols</th>\n",
       "      <th>JPM</th>\n",
       "      <th>BTC</th>\n",
       "      <th>Portfolio</th>\n",
       "    </tr>\n",
       "    <tr>\n",
       "      <th>Date</th>\n",
       "      <th></th>\n",
       "      <th></th>\n",
       "      <th></th>\n",
       "    </tr>\n",
       "  </thead>\n",
       "  <tbody>\n",
       "    <tr>\n",
       "      <th>2020-12-24</th>\n",
       "      <td>23928.678072</td>\n",
       "      <td>625496.062440</td>\n",
       "      <td>79036.920608</td>\n",
       "    </tr>\n",
       "    <tr>\n",
       "      <th>2020-12-28</th>\n",
       "      <td>24086.255145</td>\n",
       "      <td>713746.097584</td>\n",
       "      <td>82515.637724</td>\n",
       "    </tr>\n",
       "    <tr>\n",
       "      <th>2020-12-29</th>\n",
       "      <td>24022.841683</td>\n",
       "      <td>721062.248544</td>\n",
       "      <td>82594.214363</td>\n",
       "    </tr>\n",
       "    <tr>\n",
       "      <th>2020-12-30</th>\n",
       "      <td>24090.098526</td>\n",
       "      <td>760024.486506</td>\n",
       "      <td>84003.022405</td>\n",
       "    </tr>\n",
       "    <tr>\n",
       "      <th>2020-12-31</th>\n",
       "      <td>24418.705281</td>\n",
       "      <td>764261.076589</td>\n",
       "      <td>84960.325803</td>\n",
       "    </tr>\n",
       "  </tbody>\n",
       "</table>\n",
       "</div>"
      ],
      "text/plain": [
       "Symbols              JPM            BTC     Portfolio\n",
       "Date                                                 \n",
       "2020-12-24  23928.678072  625496.062440  79036.920608\n",
       "2020-12-28  24086.255145  713746.097584  82515.637724\n",
       "2020-12-29  24022.841683  721062.248544  82594.214363\n",
       "2020-12-30  24090.098526  760024.486506  84003.022405\n",
       "2020-12-31  24418.705281  764261.076589  84960.325803"
      ]
     },
     "execution_count": 13,
     "metadata": {},
     "output_type": "execute_result"
    }
   ],
   "source": [
    "returns.cumprod().tail()"
   ]
  },
  {
   "cell_type": "code",
   "execution_count": 14,
   "id": "05915aad",
   "metadata": {},
   "outputs": [],
   "source": [
    "portValues = returns.cumprod()\n",
    "portValues[\"Date\"] = portValues.index"
   ]
  },
  {
   "cell_type": "code",
   "execution_count": 15,
   "id": "465086bc",
   "metadata": {},
   "outputs": [
    {
     "data": {
      "image/png": "[encoded data removed]",
      "text/plain": [
       "<Figure size 640x480 with 1 Axes>"
      ]
     },
     "metadata": {},
     "output_type": "display_data"
    }
   ],
   "source": [
    "sns.lineplot(x=\"Date\", y=\"value\", hue=\"Symbols\", data=portValues.melt(id_vars=[\"Date\"]));"
   ]
  },
  {
   "cell_type": "markdown",
   "id": "f684882c",
   "metadata": {},
   "source": [
    "###  Calculating Portfolio Correlation Coefficients\n"
   ]
  },
  {
   "cell_type": "code",
   "execution_count": 16,
   "id": "8424e187",
   "metadata": {
    "scrolled": true
   },
   "outputs": [
    {
     "data": {
      "text/html": [
       "<div>\n",
       "<style scoped>\n",
       "    .dataframe tbody tr th:only-of-type {\n",
       "        vertical-align: middle;\n",
       "    }\n",
       "\n",
       "    .dataframe tbody tr th {\n",
       "        vertical-align: top;\n",
       "    }\n",
       "\n",
       "    .dataframe thead th {\n",
       "        text-align: right;\n",
       "    }\n",
       "</style>\n",
       "<table border=\"1\" class=\"dataframe\">\n",
       "  <thead>\n",
       "    <tr style=\"text-align: right;\">\n",
       "      <th>Symbols</th>\n",
       "      <th>JPM</th>\n",
       "      <th>BTC</th>\n",
       "    </tr>\n",
       "    <tr>\n",
       "      <th>Symbols</th>\n",
       "      <th></th>\n",
       "      <th></th>\n",
       "    </tr>\n",
       "  </thead>\n",
       "  <tbody>\n",
       "    <tr>\n",
       "      <th>JPM</th>\n",
       "      <td>1.000000</td>\n",
       "      <td>0.116031</td>\n",
       "    </tr>\n",
       "    <tr>\n",
       "      <th>BTC</th>\n",
       "      <td>0.116031</td>\n",
       "      <td>1.000000</td>\n",
       "    </tr>\n",
       "  </tbody>\n",
       "</table>\n",
       "</div>"
      ],
      "text/plain": [
       "Symbols       JPM       BTC\n",
       "Symbols                    \n",
       "JPM      1.000000  0.116031\n",
       "BTC      0.116031  1.000000"
      ]
     },
     "execution_count": 16,
     "metadata": {},
     "output_type": "execute_result"
    }
   ],
   "source": [
    "prices.pct_change().corr()"
   ]
  },
  {
   "cell_type": "markdown",
   "id": "d2c86659",
   "metadata": {},
   "source": [
    "###  Calculating Portfolio Variance\n",
    "\n",
    "$$ {Portfolio variance} = w_1^2\\sigma_1^2 + w_2^2\\sigma_2^2 + 2w_1w_2Cov_{1,2} $$\n",
    "Where:\n",
    "\n",
    "$$ w_1 $$ = the portfolio weight of the first asset\n",
    "\n",
    "$$ w_2 $$ = the portfolio weight of the second asset\n",
    "\n",
    "$$ \\sigma_1 $$ = the standard deviation of the first asset\n",
    "\n",
    "$$ \\sigma_2 $$ = the standard deviation of the second asset\n"
   ]
  },
  {
   "cell_type": "code",
   "execution_count": 17,
   "id": "d8e106df",
   "metadata": {},
   "outputs": [
    {
     "name": "stdout",
     "output_type": "stream",
     "text": [
      "[0.72172665 0.27827335]\n"
     ]
    },
    {
     "data": {
      "text/html": [
       "<div>\n",
       "<style scoped>\n",
       "    .dataframe tbody tr th:only-of-type {\n",
       "        vertical-align: middle;\n",
       "    }\n",
       "\n",
       "    .dataframe tbody tr th {\n",
       "        vertical-align: top;\n",
       "    }\n",
       "\n",
       "    .dataframe thead th {\n",
       "        text-align: right;\n",
       "    }\n",
       "</style>\n",
       "<table border=\"1\" class=\"dataframe\">\n",
       "  <thead>\n",
       "    <tr style=\"text-align: right;\">\n",
       "      <th>Symbols</th>\n",
       "      <th>JPM</th>\n",
       "      <th>BTC</th>\n",
       "    </tr>\n",
       "    <tr>\n",
       "      <th>Symbols</th>\n",
       "      <th></th>\n",
       "      <th></th>\n",
       "    </tr>\n",
       "  </thead>\n",
       "  <tbody>\n",
       "    <tr>\n",
       "      <th>JPM</th>\n",
       "      <td>0.092928</td>\n",
       "      <td>0.026037</td>\n",
       "    </tr>\n",
       "    <tr>\n",
       "      <th>BTC</th>\n",
       "      <td>0.026037</td>\n",
       "      <td>0.541864</td>\n",
       "    </tr>\n",
       "  </tbody>\n",
       "</table>\n",
       "</div>"
      ],
      "text/plain": [
       "Symbols       JPM       BTC\n",
       "Symbols                    \n",
       "JPM      0.092928  0.026037\n",
       "BTC      0.026037  0.541864"
      ]
     },
     "execution_count": 17,
     "metadata": {},
     "output_type": "execute_result"
    }
   ],
   "source": [
    "## Defining variables\n",
    "##will use the weights given above\n",
    "weights = np.array([weightJPM,weightBTC])\n",
    "individual_returns = prices.pct_change()\n",
    "covariance = 252 * individual_returns.cov()\n",
    "print(weights)\n",
    "covariance"
   ]
  },
  {
   "cell_type": "markdown",
   "id": "f099553b",
   "metadata": {},
   "source": [
    "$$ Portfolio Variance = Weights transposed * (covariance matrix) * weights $$\n"
   ]
  },
  {
   "cell_type": "code",
   "execution_count": 18,
   "id": "c724572c",
   "metadata": {},
   "outputs": [
    {
     "name": "stdout",
     "output_type": "stream",
     "text": [
      "10.08%\n"
     ]
    }
   ],
   "source": [
    "variance = np.dot(weights.T, np.dot(covariance, weights))\n",
    "\n",
    "# Print the result\n",
    "print(str(np.round(variance, 4) * 100) + \"%\")"
   ]
  },
  {
   "cell_type": "code",
   "execution_count": 19,
   "id": "2b2503b9",
   "metadata": {},
   "outputs": [
    {
     "name": "stdout",
     "output_type": "stream",
     "text": [
      "Symbols\n",
      "JPM          2.030214e+09\n",
      "BTC          2.030213e+09\n",
      "Portfolio    2.030214e+09\n",
      "dtype: float64%\n"
     ]
    }
   ],
   "source": [
    "#returns.var() * 252\n",
    "print(str(np.round(returns.var() * 252, 4) * 100) + \"%\")"
   ]
  },
  {
   "cell_type": "code",
   "execution_count": 20,
   "id": "c8ccc1e3",
   "metadata": {},
   "outputs": [
    {
     "data": {
      "text/plain": [
       "31.75"
      ]
     },
     "execution_count": 20,
     "metadata": {},
     "output_type": "execute_result"
    }
   ],
   "source": [
    "SD=np.round(math.sqrt(variance) * 100, 2)\n",
    "SD"
   ]
  },
  {
   "cell_type": "markdown",
   "id": "29b00ed5",
   "metadata": {},
   "source": [
    "## Sharpe Ratio of Portfolio\n",
    "\n",
    "\n",
    "$\\cfrac{Portfolio_{Return} - \\textrm{risk-free rate}}{Portfolio_{StandardDev}}$\n"
   ]
  },
  {
   "cell_type": "code",
   "execution_count": 21,
   "id": "3fb7829a",
   "metadata": {},
   "outputs": [],
   "source": [
    "## Since interest rates have been near 0 for a while now, we will assume 0 for the risk-free rate. Our formula is now: \n"
   ]
  },
  {
   "cell_type": "markdown",
   "id": "a487fe12",
   "metadata": {},
   "source": [
    "$\\cfrac{\\textrm{Portfolio}_{Return}}{\\textrm{Portfolio}_{StandardDev}}$\n"
   ]
  },
  {
   "cell_type": "code",
   "execution_count": 22,
   "id": "b3d19383",
   "metadata": {},
   "outputs": [
    {
     "data": {
      "text/plain": [
       "0.031556784673671776"
      ]
     },
     "execution_count": 22,
     "metadata": {},
     "output_type": "execute_result"
    }
   ],
   "source": [
    "#lets use average portfolio return\n",
    "sharp_ratio=Average_portfolio_returns/SD\n",
    "sharp_ratio"
   ]
  },
  {
   "cell_type": "markdown",
   "id": "23be45a3",
   "metadata": {},
   "source": [
    "### Beta"
   ]
  },
  {
   "cell_type": "code",
   "execution_count": 23,
   "id": "3afe3b48",
   "metadata": {},
   "outputs": [
    {
     "name": "stdout",
     "output_type": "stream",
     "text": [
      "0.5418639765667537 0.09292769574446957\n",
      "0.1008233080015997\n",
      "0.9216886212758972\n"
     ]
    }
   ],
   "source": [
    "BTC_market_covarriance=covariance.iloc[1,1]\n",
    "JPM_market_covarriance=covariance.iloc[0,0]\n",
    "\n",
    "print(BTC_market_covarriance,JPM_market_covarriance)\n",
    "#Average_market_covariance=(BTC_market_covarriance+JPM_market_covarriance)/2\n",
    "#print(Average_market_covariance)\n",
    "market_variance=variance\n",
    "print(market_variance)\n",
    "portfolio_beta=JPM_market_covarriance/market_variance\n",
    "print(portfolio_beta)"
   ]
  },
  {
   "cell_type": "markdown",
   "id": "fef67c5f",
   "metadata": {},
   "source": [
    "## Jensen’s alpha"
   ]
  },
  {
   "cell_type": "markdown",
   "id": "b28feaa0",
   "metadata": {},
   "source": [
    "$ Jensen's alpha = Portfolio return - [Risk Free Rate + Portfolio Beta * (Market Return - Risk Free Rate)] $"
   ]
  },
  {
   "cell_type": "code",
   "execution_count": 24,
   "id": "863b4f61",
   "metadata": {},
   "outputs": [
    {
     "data": {
      "text/plain": [
       "0.07846235627966214"
      ]
     },
     "execution_count": 24,
     "metadata": {},
     "output_type": "execute_result"
    }
   ],
   "source": [
    "#assuming risk free rate is zero\n",
    "jensen=Average_portfolio_returns-beta_m*\n",
    "jensen"
   ]
  },
  {
   "cell_type": "markdown",
   "id": "2ada9c40",
   "metadata": {},
   "source": [
    "### Treynor measure"
   ]
  },
  {
   "cell_type": "markdown",
   "id": "e35f7f60",
   "metadata": {},
   "source": [
    "$\\cfrac{Portfolio_{Return} - \\textrm{risk-free rate}}{Portfolio_{Beta}}$\n"
   ]
  },
  {
   "cell_type": "code",
   "execution_count": 25,
   "id": "f5a9629f",
   "metadata": {},
   "outputs": [
    {
     "data": {
      "text/plain": [
       "1.08705683271006"
      ]
     },
     "execution_count": 25,
     "metadata": {},
     "output_type": "execute_result"
    }
   ],
   "source": [
    "# Assuming risk free rate is zero\n",
    "treynor_measure=Average_portfolio_returns/portfolio_beta\n",
    "treynor_measure"
   ]
  },
  {
   "cell_type": "markdown",
   "id": "78f4ead0",
   "metadata": {},
   "source": [
    "### Homoskedasticity"
   ]
  },
  {
   "cell_type": "code",
   "execution_count": 26,
   "id": "7e68d004",
   "metadata": {},
   "outputs": [
    {
     "data": {
      "image/png": "[encoded data removed]",
      "text/plain": [
       "<Figure size 640x480 with 1 Axes>"
      ]
     },
     "metadata": {},
     "output_type": "display_data"
    }
   ],
   "source": [
    "#Drop first row and plot\n",
    "# QQ Plot\n",
    "sm.qqplot(returns.iloc[1:])\n",
    "py.show()"
   ]
  },
  {
   "cell_type": "markdown",
   "id": "c6e219e6",
   "metadata": {},
   "source": [
    "### Checking Linear Relationship Assumption"
   ]
  },
  {
   "cell_type": "code",
   "execution_count": 27,
   "id": "dd323898",
   "metadata": {},
   "outputs": [
    {
     "name": "stderr",
     "output_type": "stream",
     "text": [
      "C:\\Users\\25472\\anaconda3\\envs\\base2\\lib\\site-packages\\seaborn\\distributions.py:2619: FutureWarning: `distplot` is a deprecated function and will be removed in a future version. Please adapt your code to use either `displot` (a figure-level function with similar flexibility) or `histplot` (an axes-level function for histograms).\n",
      "  warnings.warn(msg, FutureWarning)\n"
     ]
    },
    {
     "data": {
      "text/plain": [
       "Text(0.5, 1.0, 'Returns Distribution')"
      ]
     },
     "execution_count": 27,
     "metadata": {},
     "output_type": "execute_result"
    },
    {
     "data": {
      "image/png": "[encoded data removed]",
      "text/plain": [
       "<Figure size 640x480 with 1 Axes>"
      ]
     },
     "metadata": {},
     "output_type": "display_data"
    }
   ],
   "source": [
    "# Density Plot and Histogram\n",
    "#Drop first row and plot\n",
    "\n",
    "sns.distplot(returns['Portfolio'].iloc[1:], hist=True, kde=True, color = 'darkblue',\n",
    "             hist_kws={'edgecolor':'black'},\n",
    "             kde_kws={'linewidth': 4})\n",
    "plt.title('Returns Distribution')"
   ]
  },
  {
   "cell_type": "markdown",
   "id": "82c503df",
   "metadata": {},
   "source": [
    "### Section 2. Finding the Average portfolio returns for 2021 Year"
   ]
  },
  {
   "cell_type": "code",
   "execution_count": 28,
   "id": "42fd8e66",
   "metadata": {},
   "outputs": [],
   "source": [
    "start = datetime.date(2020, 12, 31)\n",
    "end = datetime.date(2022, 1, 1)\n",
    "# start = datetime.date.today()-datetime.timedelta(365*10)\n",
    "# end = datetime.date.today()\n",
    "prices = web.DataReader([\"JPM\", \"BTC-USD\"], \"yahoo\", start, end)[\"Adj Close\"]\n",
    "prices = prices.rename(columns={\"BTC-USD\": \"BTC\"})\n",
    "prices = prices.dropna()\n",
    "returns = prices.pct_change()"
   ]
  },
  {
   "cell_type": "code",
   "execution_count": 29,
   "id": "406992fe",
   "metadata": {},
   "outputs": [
    {
     "data": {
      "text/plain": [
       "157025.04257202148"
      ]
     },
     "execution_count": 29,
     "metadata": {},
     "output_type": "execute_result"
    }
   ],
   "source": [
    "# Determine weights\n",
    "initialJPM = prices.JPM[0] * 100\n",
    "initialBTC = prices.BTC[0] * 5\n",
    "initialInvestment = initialJPM + initialBTC\n",
    "initialInvestment"
   ]
  },
  {
   "cell_type": "code",
   "execution_count": 30,
   "id": "679e8082",
   "metadata": {},
   "outputs": [
    {
     "name": "stdout",
     "output_type": "stream",
     "text": [
      "This would make the weights 0.077 and 0.923 for JPM and BTC respectively\n"
     ]
    }
   ],
   "source": [
    "weightJPM = initialJPM / (initialBTC + initialJPM)\n",
    "weightBTC = 1 - weightJPM\n",
    "print(\n",
    "    \"This would make the weights %.3f and %.3f for JPM and BTC respectively\"\n",
    "    % (weightJPM, weightBTC)\n",
    ")"
   ]
  },
  {
   "cell_type": "code",
   "execution_count": 31,
   "id": "4cac2818",
   "metadata": {},
   "outputs": [
    {
     "data": {
      "text/html": [
       "<div>\n",
       "<style scoped>\n",
       "    .dataframe tbody tr th:only-of-type {\n",
       "        vertical-align: middle;\n",
       "    }\n",
       "\n",
       "    .dataframe tbody tr th {\n",
       "        vertical-align: top;\n",
       "    }\n",
       "\n",
       "    .dataframe thead th {\n",
       "        text-align: right;\n",
       "    }\n",
       "</style>\n",
       "<table border=\"1\" class=\"dataframe\">\n",
       "  <thead>\n",
       "    <tr style=\"text-align: right;\">\n",
       "      <th>Symbols</th>\n",
       "      <th>JPM</th>\n",
       "      <th>BTC</th>\n",
       "      <th>Portfolio</th>\n",
       "    </tr>\n",
       "    <tr>\n",
       "      <th>Date</th>\n",
       "      <th></th>\n",
       "      <th></th>\n",
       "      <th></th>\n",
       "    </tr>\n",
       "  </thead>\n",
       "  <tbody>\n",
       "    <tr>\n",
       "      <th>2020-12-31</th>\n",
       "      <td>NaN</td>\n",
       "      <td>NaN</td>\n",
       "      <td>NaN</td>\n",
       "    </tr>\n",
       "    <tr>\n",
       "      <th>2021-01-04</th>\n",
       "      <td>0.990556</td>\n",
       "      <td>1.102414</td>\n",
       "      <td>1.093854</td>\n",
       "    </tr>\n",
       "    <tr>\n",
       "      <th>2021-01-05</th>\n",
       "      <td>1.005441</td>\n",
       "      <td>1.063197</td>\n",
       "      <td>1.058777</td>\n",
       "    </tr>\n",
       "    <tr>\n",
       "      <th>2021-01-06</th>\n",
       "      <td>1.046956</td>\n",
       "      <td>1.083311</td>\n",
       "      <td>1.080529</td>\n",
       "    </tr>\n",
       "    <tr>\n",
       "      <th>2021-01-07</th>\n",
       "      <td>1.032839</td>\n",
       "      <td>1.069157</td>\n",
       "      <td>1.066378</td>\n",
       "    </tr>\n",
       "  </tbody>\n",
       "</table>\n",
       "</div>"
      ],
      "text/plain": [
       "Symbols          JPM       BTC  Portfolio\n",
       "Date                                     \n",
       "2020-12-31       NaN       NaN        NaN\n",
       "2021-01-04  0.990556  1.102414   1.093854\n",
       "2021-01-05  1.005441  1.063197   1.058777\n",
       "2021-01-06  1.046956  1.083311   1.080529\n",
       "2021-01-07  1.032839  1.069157   1.066378"
      ]
     },
     "execution_count": 31,
     "metadata": {},
     "output_type": "execute_result"
    }
   ],
   "source": [
    "returns[\"Portfolio\"] = (returns.JPM * weightJPM) + (returns.BTC * weightBTC)\n",
    "returns = returns + 1\n",
    "returns.head()\n"
   ]
  },
  {
   "cell_type": "code",
   "execution_count": 32,
   "id": "bcd5b423",
   "metadata": {},
   "outputs": [
    {
     "data": {
      "text/plain": [
       "1.0029235858140955"
      ]
     },
     "execution_count": 32,
     "metadata": {},
     "output_type": "execute_result"
    }
   ],
   "source": [
    "Average_portfolio_returns_yr_2021=returns['Portfolio'].mean()\n",
    "Average_portfolio_returns_yr_2021"
   ]
  },
  {
   "cell_type": "code",
   "execution_count": null,
   "id": "58804d60",
   "metadata": {},
   "outputs": [],
   "source": []
  }
 ],
 "metadata": {
  "kernelspec": {
   "display_name": "Python 3 (ipykernel)",
   "language": "python",
   "name": "python3"
  },
  "language_info": {
   "codemirror_mode": {
    "name": "ipython",
    "version": 3
   },
   "file_extension": ".py",
   "mimetype": "text/x-python",
   "name": "python",
   "nbconvert_exporter": "python",
   "pygments_lexer": "ipython3",
   "version": "3.9.7"
  }
 },
 "nbformat": 4,
 "nbformat_minor": 5
}
