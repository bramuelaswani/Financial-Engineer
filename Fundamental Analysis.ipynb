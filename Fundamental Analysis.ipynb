{
 "cells": [
  {
   "cell_type": "code",
   "execution_count": 5,
   "id": "d955b2d5",
   "metadata": {},
   "outputs": [],
   "source": [
    "api_key = \"XYHSI5SKYEBH6EP2\"  # Paste your API key from https://www.alphavantage.co/support/#api-key between the quotes"
   ]
  },
  {
   "cell_type": "code",
   "execution_count": 6,
   "id": "1e809193",
   "metadata": {},
   "outputs": [
    {
     "name": "stdout",
     "output_type": "stream",
     "text": [
      "{'Symbol': 'MSFT', 'AssetType': 'Common Stock', 'Name': 'Microsoft Corporation', 'Description': \"Microsoft Corporation is an American multinational technology company which produces computer software, consumer electronics, personal computers, and related services. Its best known software products are the Microsoft Windows line of operating systems, the Microsoft Office suite, and the Internet Explorer and Edge web browsers. Its flagship hardware products are the Xbox video game consoles and the Microsoft Surface lineup of touchscreen personal computers. Microsoft ranked No. 21 in the 2020 Fortune 500 rankings of the largest United States corporations by total revenue; it was the world's largest software maker by revenue as of 2016. It is considered one of the Big Five companies in the U.S. information technology industry, along with Google, Apple, Amazon, and Facebook.\", 'CIK': '789019', 'Exchange': 'NASDAQ', 'Currency': 'USD', 'Country': 'USA', 'Sector': 'TECHNOLOGY', 'Industry': 'SERVICES-PREPACKAGED SOFTWARE', 'Address': 'ONE MICROSOFT WAY, REDMOND, WA, US', 'FiscalYearEnd': 'June', 'LatestQuarter': '2022-06-30', 'MarketCapitalization': '1805704233000', 'EBITDA': '97982996000', 'PERatio': '25.09', 'PEGRatio': '1.768', 'BookValue': '22.31', 'DividendPerShare': '2.48', 'DividendYield': '0.0114', 'EPS': '9.65', 'RevenuePerShareTTM': '26.45', 'ProfitMargin': '0.367', 'OperatingMarginTTM': '0.421', 'ReturnOnAssetsTTM': '0.149', 'ReturnOnEquityTTM': '0.471', 'RevenueTTM': '198269993000', 'GrossProfitTTM': '135620000000', 'DilutedEPSTTM': '9.65', 'QuarterlyEarningsGrowthYOY': '0.031', 'QuarterlyRevenueGrowthYOY': '0.124', 'AnalystTargetPrice': '323.38', 'TrailingPE': '25.09', 'ForwardPE': '23.64', 'PriceToSalesRatioTTM': '9.11', 'PriceToBookRatio': '10.64', 'EVToRevenue': '8.72', 'EVToEBITDA': '17.24', 'Beta': '0.96', '52WeekHigh': '347.4', '52WeekLow': '219.13', '50DayMovingAverage': '254.26', '200DayMovingAverage': '275.14', 'SharesOutstanding': '7457890000', 'DividendDate': '2022-12-08', 'ExDividendDate': '2022-11-16'}\n",
      "{\n",
      " \"Symbol\": \"MSFT\",\n",
      " \"AssetType\": \"Common Stock\",\n",
      " \"Name\": \"Microsoft Corporation\",\n",
      " \"Description\": \"Microsoft Corporation is an American multinational technology company which produces computer software, consumer electronics, personal computers, and related services. Its best known software products are the Microsoft Windows line of operating systems, the Microsoft Office suite, and the Internet Explorer and Edge web browsers. Its flagship hardware products are the Xbox video game consoles and the Microsoft Surface lineup of touchscreen personal computers. Microsoft ranked No. 21 in the 2020 Fortune 500 rankings of the largest United States corporations by total revenue; it was the world's largest software maker by revenue as of 2016. It is considered one of the Big Five companies in the U.S. information technology industry, along with Google, Apple, Amazon, and Facebook.\",\n",
      " \"CIK\": \"789019\",\n",
      " \"Exchange\": \"NASDAQ\",\n",
      " \"Currency\": \"USD\",\n",
      " \"Country\": \"USA\",\n",
      " \"Sector\": \"TECHNOLOGY\",\n",
      " \"Industry\": \"SERVICES-PREPACKAGED SOFTWARE\",\n",
      " \"Address\": \"ONE MICROSOFT WAY, REDMOND, WA, US\",\n",
      " \"FiscalYearEnd\": \"June\",\n",
      " \"LatestQuarter\": \"2022-06-30\",\n",
      " \"MarketCapitalization\": \"1805704233000\",\n",
      " \"EBITDA\": \"97982996000\",\n",
      " \"PERatio\": \"25.09\",\n",
      " \"PEGRatio\": \"1.768\",\n",
      " \"BookValue\": \"22.31\",\n",
      " \"DividendPerShare\": \"2.48\",\n",
      " \"DividendYield\": \"0.0114\",\n",
      " \"EPS\": \"9.65\",\n",
      " \"RevenuePerShareTTM\": \"26.45\",\n",
      " \"ProfitMargin\": \"0.367\",\n",
      " \"OperatingMarginTTM\": \"0.421\",\n",
      " \"ReturnOnAssetsTTM\": \"0.149\",\n",
      " \"ReturnOnEquityTTM\": \"0.471\",\n",
      " \"RevenueTTM\": \"198269993000\",\n",
      " \"GrossProfitTTM\": \"135620000000\",\n",
      " \"DilutedEPSTTM\": \"9.65\",\n",
      " \"QuarterlyEarningsGrowthYOY\": \"0.031\",\n",
      " \"QuarterlyRevenueGrowthYOY\": \"0.124\",\n",
      " \"AnalystTargetPrice\": \"323.38\",\n",
      " \"TrailingPE\": \"25.09\",\n",
      " \"ForwardPE\": \"23.64\",\n",
      " \"PriceToSalesRatioTTM\": \"9.11\",\n",
      " \"PriceToBookRatio\": \"10.64\",\n",
      " \"EVToRevenue\": \"8.72\",\n",
      " \"EVToEBITDA\": \"17.24\",\n",
      " \"Beta\": \"0.96\",\n",
      " \"52WeekHigh\": \"347.4\",\n",
      " \"52WeekLow\": \"219.13\",\n",
      " \"50DayMovingAverage\": \"254.26\",\n",
      " \"200DayMovingAverage\": \"275.14\",\n",
      " \"SharesOutstanding\": \"7457890000\",\n",
      " \"DividendDate\": \"2022-12-08\",\n",
      " \"ExDividendDate\": \"2022-11-16\"\n",
      "}\n"
     ]
    }
   ],
   "source": [
    "import json\n",
    "\n",
    "import requests\n",
    "\n",
    "# Update these two values according to what you are looking for\n",
    "ticker = \"MSFT\"\n",
    "data_set = \"OVERVIEW\"\n",
    "\n",
    "\"\"\"\n",
    "For data_set values you can choose from any of the following:\n",
    "EARNINGS\n",
    "CASH_FLOW\n",
    "BALANCE_SHEET\n",
    "INCOME_STATEMENT\n",
    "\"\"\"\n",
    "url = (\n",
    "    \"https://www.alphavantage.co/query?function=\"\n",
    "    + data_set\n",
    "    + \"&symbol=\"\n",
    "    + ticker\n",
    "    + \"&apikey=\"\n",
    "    + api_key\n",
    ")\n",
    "\n",
    "r = requests.get(url)\n",
    "data = r.json()\n",
    "\n",
    "print(data)\n",
    "\n",
    "print(json.dumps(data, indent=1))"
   ]
  },
  {
   "cell_type": "code",
   "execution_count": null,
   "id": "087ec079",
   "metadata": {},
   "outputs": [],
   "source": []
  }
 ],
 "metadata": {
  "kernelspec": {
   "display_name": "Python 3 (ipykernel)",
   "language": "python",
   "name": "python3"
  },
  "language_info": {
   "codemirror_mode": {
    "name": "ipython",
    "version": 3
   },
   "file_extension": ".py",
   "mimetype": "text/x-python",
   "name": "python",
   "nbconvert_exporter": "python",
   "pygments_lexer": "ipython3",
   "version": "3.9.7"
  }
 },
 "nbformat": 4,
 "nbformat_minor": 5
}
