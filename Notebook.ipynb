{
  "cells": [
    {
      "cell_type": "code",
      "execution_count": null,
      "id": "d162e3f8",
      "metadata": {
        "id": "d162e3f8"
      },
      "outputs": [],
      "source": [
        "import pandas as pd\n",
        "import numpy as np\n",
        "import seaborn as sns\n",
        "from sklearn.datasets import load_iris\n",
        "import matplotlib.pyplot as plt\n",
        "from scipy.stats import kendalltau, pearsonr, spearmanr\n"
      ]
    },
    {
      "cell_type": "code",
      "execution_count": null,
      "id": "2dbb8a05",
      "metadata": {
        "scrolled": true,
        "id": "2dbb8a05",
        "outputId": "2e43dd54-1a8f-4704-a9d7-69d0aa262da1"
      },
      "outputs": [
        {
          "data": {
            "text/html": [
              "<div>\n",
              "<style scoped>\n",
              "    .dataframe tbody tr th:only-of-type {\n",
              "        vertical-align: middle;\n",
              "    }\n",
              "\n",
              "    .dataframe tbody tr th {\n",
              "        vertical-align: top;\n",
              "    }\n",
              "\n",
              "    .dataframe thead th {\n",
              "        text-align: right;\n",
              "    }\n",
              "</style>\n",
              "<table border=\"1\" class=\"dataframe\">\n",
              "  <thead>\n",
              "    <tr style=\"text-align: right;\">\n",
              "      <th></th>\n",
              "      <th>sepal length (cm)</th>\n",
              "      <th>sepal width (cm)</th>\n",
              "      <th>petal length (cm)</th>\n",
              "      <th>petal width (cm)</th>\n",
              "    </tr>\n",
              "  </thead>\n",
              "  <tbody>\n",
              "    <tr>\n",
              "      <th>0</th>\n",
              "      <td>5.1</td>\n",
              "      <td>3.5</td>\n",
              "      <td>1.4</td>\n",
              "      <td>0.2</td>\n",
              "    </tr>\n",
              "    <tr>\n",
              "      <th>1</th>\n",
              "      <td>4.9</td>\n",
              "      <td>3.0</td>\n",
              "      <td>1.4</td>\n",
              "      <td>0.2</td>\n",
              "    </tr>\n",
              "    <tr>\n",
              "      <th>2</th>\n",
              "      <td>4.7</td>\n",
              "      <td>3.2</td>\n",
              "      <td>1.3</td>\n",
              "      <td>0.2</td>\n",
              "    </tr>\n",
              "    <tr>\n",
              "      <th>3</th>\n",
              "      <td>4.6</td>\n",
              "      <td>3.1</td>\n",
              "      <td>1.5</td>\n",
              "      <td>0.2</td>\n",
              "    </tr>\n",
              "    <tr>\n",
              "      <th>4</th>\n",
              "      <td>5.0</td>\n",
              "      <td>3.6</td>\n",
              "      <td>1.4</td>\n",
              "      <td>0.2</td>\n",
              "    </tr>\n",
              "  </tbody>\n",
              "</table>\n",
              "</div>"
            ],
            "text/plain": [
              "   sepal length (cm)  sepal width (cm)  petal length (cm)  petal width (cm)\n",
              "0                5.1               3.5                1.4               0.2\n",
              "1                4.9               3.0                1.4               0.2\n",
              "2                4.7               3.2                1.3               0.2\n",
              "3                4.6               3.1                1.5               0.2\n",
              "4                5.0               3.6                1.4               0.2"
            ]
          },
          "execution_count": 2,
          "metadata": {},
          "output_type": "execute_result"
        }
      ],
      "source": [
        "iris=load_iris()\n",
        "df=pd.DataFrame(iris.data,columns=iris.feature_names)\n",
        "df.head()"
      ]
    },
    {
      "cell_type": "markdown",
      "id": "b7a62c88",
      "metadata": {
        "id": "b7a62c88"
      },
      "source": [
        "## 1. Multicolinearity"
      ]
    },
    {
      "cell_type": "code",
      "execution_count": null,
      "id": "394ef436",
      "metadata": {
        "id": "394ef436"
      },
      "outputs": [],
      "source": [
        "# Scatter plot for sepal width (cm) & sepal length (cm\n",
        "scatt = df.plot.scatter(x=\"sepal length (cm)\", y=\"sepal width (cm)\")\n",
        "scatt.set(xlabel=\"sepal length (cm)\", ylabel=\"sepal width (cm)\")\n",
        "plt.show()"
      ]
    },
    {
      "cell_type": "markdown",
      "id": "e0f7ef19",
      "metadata": {
        "id": "e0f7ef19"
      },
      "source": [
        "### Correlation matrix"
      ]
    },
    {
      "cell_type": "code",
      "execution_count": null,
      "id": "e8818434",
      "metadata": {
        "scrolled": true,
        "id": "e8818434",
        "outputId": "241ebca6-bdc6-4ebe-903d-cefe4a62cf5c"
      },
      "outputs": [
        {
          "data": {
            "text/html": [
              "<div>\n",
              "<style scoped>\n",
              "    .dataframe tbody tr th:only-of-type {\n",
              "        vertical-align: middle;\n",
              "    }\n",
              "\n",
              "    .dataframe tbody tr th {\n",
              "        vertical-align: top;\n",
              "    }\n",
              "\n",
              "    .dataframe thead th {\n",
              "        text-align: right;\n",
              "    }\n",
              "</style>\n",
              "<table border=\"1\" class=\"dataframe\">\n",
              "  <thead>\n",
              "    <tr style=\"text-align: right;\">\n",
              "      <th></th>\n",
              "      <th>sepal length (cm)</th>\n",
              "      <th>sepal width (cm)</th>\n",
              "      <th>petal length (cm)</th>\n",
              "      <th>petal width (cm)</th>\n",
              "    </tr>\n",
              "  </thead>\n",
              "  <tbody>\n",
              "    <tr>\n",
              "      <th>sepal length (cm)</th>\n",
              "      <td>1.000000</td>\n",
              "      <td>0.247102</td>\n",
              "      <td>0.807537</td>\n",
              "      <td>0.899178</td>\n",
              "    </tr>\n",
              "    <tr>\n",
              "      <th>sepal width (cm)</th>\n",
              "      <td>0.247102</td>\n",
              "      <td>1.000000</td>\n",
              "      <td>-0.226572</td>\n",
              "      <td>0.201126</td>\n",
              "    </tr>\n",
              "    <tr>\n",
              "      <th>petal length (cm)</th>\n",
              "      <td>0.807537</td>\n",
              "      <td>-0.226572</td>\n",
              "      <td>1.000000</td>\n",
              "      <td>0.769205</td>\n",
              "    </tr>\n",
              "    <tr>\n",
              "      <th>petal width (cm)</th>\n",
              "      <td>0.899178</td>\n",
              "      <td>0.201126</td>\n",
              "      <td>0.769205</td>\n",
              "      <td>1.000000</td>\n",
              "    </tr>\n",
              "  </tbody>\n",
              "</table>\n",
              "</div>"
            ],
            "text/plain": [
              "                   sepal length (cm)  sepal width (cm)  petal length (cm)  \\\n",
              "sepal length (cm)           1.000000          0.247102           0.807537   \n",
              "sepal width (cm)            0.247102          1.000000          -0.226572   \n",
              "petal length (cm)           0.807537         -0.226572           1.000000   \n",
              "petal width (cm)            0.899178          0.201126           0.769205   \n",
              "\n",
              "                   petal width (cm)  \n",
              "sepal length (cm)          0.899178  \n",
              "sepal width (cm)           0.201126  \n",
              "petal length (cm)          0.769205  \n",
              "petal width (cm)           1.000000  "
            ]
          },
          "execution_count": 9,
          "metadata": {},
          "output_type": "execute_result"
        }
      ],
      "source": [
        "correlation_matrix=df.corr()\n",
        "correlation_matrix"
      ]
    },
    {
      "cell_type": "markdown",
      "id": "c03af438",
      "metadata": {
        "id": "c03af438"
      },
      "source": [
        "### Heatmap\n"
      ]
    },
    {
      "cell_type": "code",
      "execution_count": null,
      "id": "dc20fcee",
      "metadata": {
        "id": "dc20fcee",
        "outputId": "1073d1c1-46cb-4563-a692-834a4f109f3e"
      },
      "outputs": [
        {
          "data": {
            "image/png": "[encoded data removed]",
            "text/plain": [
              "<Figure size 640x480 with 2 Axes>"
            ]
          },
          "metadata": {},
          "output_type": "display_data"
        }
      ],
      "source": [
        "# Create correlation matrix\n",
        "correlation = df.select_dtypes(\"number\").corr()\n",
        "correlation\n",
        "# Plot heatmap of `correlation`\n",
        "sns.heatmap(correlation);"
      ]
    },
    {
      "cell_type": "markdown",
      "id": "dd7c7252",
      "metadata": {
        "id": "dd7c7252"
      },
      "source": [
        "# 2. Sensitivity to Outliers"
      ]
    },
    {
      "cell_type": "markdown",
      "id": "3cd99fda",
      "metadata": {
        "id": "3cd99fda"
      },
      "source": [
        "## scatter before adding outlier"
      ]
    },
    {
      "cell_type": "code",
      "execution_count": null,
      "id": "53ebd5db",
      "metadata": {
        "id": "53ebd5db",
        "outputId": "51c93bf3-3f57-4f4a-ae6a-719c76a8c1df"
      },
      "outputs": [
        {
          "data": {
            "image/png": "[encoded data removed]",
            "text/plain": [
              "<Figure size 640x480 with 1 Axes>"
            ]
          },
          "metadata": {},
          "output_type": "display_data"
        }
      ],
      "source": [
        "# Scatter plot for sepal width (cm) & sepal length (cm\n",
        "scatt = df.plot.scatter(x=\"sepal length (cm)\", y=\"sepal width (cm)\")\n",
        "scatt.set(xlabel=\"sepal length (cm)\", ylabel=\"sepal width (cm)\")\n",
        "plt.show()"
      ]
    },
    {
      "cell_type": "markdown",
      "id": "48402533",
      "metadata": {
        "id": "48402533"
      },
      "source": [
        "## Correlation before adding outlier"
      ]
    },
    {
      "cell_type": "code",
      "execution_count": null,
      "id": "ed4b08c5",
      "metadata": {
        "id": "ed4b08c5",
        "outputId": "0391354c-b40c-4d7e-aea7-6a15ebaa18a4"
      },
      "outputs": [
        {
          "name": "stdout",
          "output_type": "stream",
          "text": [
            "Correlation Pearson     :  -0.1176 \n",
            "Correlation Spearman    :  -0.1668 \n",
            "Correlation kendalltau  :  -0.077\n"
          ]
        }
      ],
      "source": [
        "# Pearson, Spearman and Kendal tau correlation coefficients\n",
        "corr_pearson = pearsonr(df[\"sepal length (cm)\"], df[\"sepal width (cm)\"])\n",
        "corr_spearman = spearmanr(df[\"sepal length (cm)\"], df[\"sepal width (cm)\"])\n",
        "corr_kendall = kendalltau(df[\"sepal length (cm)\"], df[\"sepal width (cm)\"])\n",
        "print(\n",
        "    \"Correlation Pearson     : \",\n",
        "    corr_pearson[0].round(4),\n",
        "    \"\\nCorrelation Spearman    : \",\n",
        "    corr_spearman.correlation.round(4),\n",
        "    \"\\nCorrelation kendalltau  : \",\n",
        "    corr_kendall.correlation.round(4),\n",
        ")"
      ]
    },
    {
      "cell_type": "markdown",
      "id": "c3128efc",
      "metadata": {
        "id": "c3128efc"
      },
      "source": [
        "## adding outlier\n"
      ]
    },
    {
      "cell_type": "code",
      "execution_count": null,
      "id": "f1983a58",
      "metadata": {
        "id": "f1983a58"
      },
      "outputs": [],
      "source": [
        "df.loc[len(df.index)] = [15,6, 10,14] \n"
      ]
    },
    {
      "cell_type": "code",
      "execution_count": null,
      "id": "fa3528f5",
      "metadata": {
        "id": "fa3528f5",
        "outputId": "c56d181d-4af9-4743-a71e-c743599d4a49"
      },
      "outputs": [
        {
          "data": {
            "text/html": [
              "<div>\n",
              "<style scoped>\n",
              "    .dataframe tbody tr th:only-of-type {\n",
              "        vertical-align: middle;\n",
              "    }\n",
              "\n",
              "    .dataframe tbody tr th {\n",
              "        vertical-align: top;\n",
              "    }\n",
              "\n",
              "    .dataframe thead th {\n",
              "        text-align: right;\n",
              "    }\n",
              "</style>\n",
              "<table border=\"1\" class=\"dataframe\">\n",
              "  <thead>\n",
              "    <tr style=\"text-align: right;\">\n",
              "      <th></th>\n",
              "      <th>sepal length (cm)</th>\n",
              "      <th>sepal width (cm)</th>\n",
              "      <th>petal length (cm)</th>\n",
              "      <th>petal width (cm)</th>\n",
              "    </tr>\n",
              "  </thead>\n",
              "  <tbody>\n",
              "    <tr>\n",
              "      <th>146</th>\n",
              "      <td>6.3</td>\n",
              "      <td>2.5</td>\n",
              "      <td>5.0</td>\n",
              "      <td>1.9</td>\n",
              "    </tr>\n",
              "    <tr>\n",
              "      <th>147</th>\n",
              "      <td>6.5</td>\n",
              "      <td>3.0</td>\n",
              "      <td>5.2</td>\n",
              "      <td>2.0</td>\n",
              "    </tr>\n",
              "    <tr>\n",
              "      <th>148</th>\n",
              "      <td>6.2</td>\n",
              "      <td>3.4</td>\n",
              "      <td>5.4</td>\n",
              "      <td>2.3</td>\n",
              "    </tr>\n",
              "    <tr>\n",
              "      <th>149</th>\n",
              "      <td>5.9</td>\n",
              "      <td>3.0</td>\n",
              "      <td>5.1</td>\n",
              "      <td>1.8</td>\n",
              "    </tr>\n",
              "    <tr>\n",
              "      <th>150</th>\n",
              "      <td>15.0</td>\n",
              "      <td>6.0</td>\n",
              "      <td>10.0</td>\n",
              "      <td>14.0</td>\n",
              "    </tr>\n",
              "  </tbody>\n",
              "</table>\n",
              "</div>"
            ],
            "text/plain": [
              "     sepal length (cm)  sepal width (cm)  petal length (cm)  petal width (cm)\n",
              "146                6.3               2.5                5.0               1.9\n",
              "147                6.5               3.0                5.2               2.0\n",
              "148                6.2               3.4                5.4               2.3\n",
              "149                5.9               3.0                5.1               1.8\n",
              "150               15.0               6.0               10.0              14.0"
            ]
          },
          "execution_count": 6,
          "metadata": {},
          "output_type": "execute_result"
        }
      ],
      "source": [
        "df.tail()"
      ]
    },
    {
      "cell_type": "markdown",
      "id": "1536ccbc",
      "metadata": {
        "id": "1536ccbc"
      },
      "source": [
        "## Plot influential point"
      ]
    },
    {
      "cell_type": "code",
      "execution_count": null,
      "id": "e6cb68b6",
      "metadata": {
        "id": "e6cb68b6",
        "outputId": "8dd8ae88-6cac-4709-c10a-993312724c9c"
      },
      "outputs": [
        {
          "data": {
            "image/png": "[encoded data removed]",
            "text/plain": [
              "<Figure size 640x480 with 1 Axes>"
            ]
          },
          "metadata": {},
          "output_type": "display_data"
        }
      ],
      "source": [
        "# Scatter plot for sepal width (cm) & sepal length (cm\n",
        "scatt = df.plot.scatter(x=\"sepal length (cm)\", y=\"sepal width (cm)\")\n",
        "scatt.set(xlabel=\"sepal length (cm)\", ylabel=\"sepal width (cm)\")\n",
        "plt.show()"
      ]
    },
    {
      "cell_type": "markdown",
      "id": "9b0b6393",
      "metadata": {
        "id": "9b0b6393"
      },
      "source": [
        "## Correlation Coefficient after adding outlier"
      ]
    },
    {
      "cell_type": "code",
      "execution_count": null,
      "id": "9f450f1b",
      "metadata": {
        "id": "9f450f1b",
        "outputId": "a93b495c-81fa-4152-9187-b6a64859bfac"
      },
      "outputs": [
        {
          "name": "stdout",
          "output_type": "stream",
          "text": [
            "Correlation Pearson     :  0.2471 \n",
            "Correlation Spearman    :  -0.1436 \n",
            "Correlation kendalltau  :  -0.0619\n"
          ]
        }
      ],
      "source": [
        "# Pearson, Spearman and Kendal tau correlation coefficients\n",
        "corr_pearson = pearsonr(df[\"sepal length (cm)\"], df[\"sepal width (cm)\"])\n",
        "corr_spearman = spearmanr(df[\"sepal length (cm)\"], df[\"sepal width (cm)\"])\n",
        "corr_kendall = kendalltau(df[\"sepal length (cm)\"], df[\"sepal width (cm)\"])\n",
        "print(\n",
        "    \"Correlation Pearson     : \",\n",
        "    corr_pearson[0].round(4),\n",
        "    \"\\nCorrelation Spearman    : \",\n",
        "    corr_spearman.correlation.round(4),\n",
        "    \"\\nCorrelation kendalltau  : \",\n",
        "    corr_kendall.correlation.round(4),\n",
        ")"
      ]
    },
    {
      "cell_type": "markdown",
      "id": "7839be18",
      "metadata": {
        "id": "7839be18"
      },
      "source": [
        "## 3. Skewness"
      ]
    },
    {
      "cell_type": "code",
      "source": [
        "def skewness_simulation():\n",
        "  import matplotlib.pyplot as plt\n",
        "  import numpy as np\n",
        "  from scipy import stats\n",
        "  from scipy.stats import skewnorm, skew\n",
        "  \n",
        "  \n",
        "  def gen_right_skewed_data():\n",
        "    fig, ax = plt.subplots(2, 2)\n",
        "    fig.set_size_inches((15, 10))\n",
        "  \n",
        "    data= np.abs(skewnorm.rvs(20, size=100000))\n",
        "    data_log = np.log(data)\n",
        "    data_square = np.square(data)\n",
        "    data_bc, _ = stats.boxcox(data)\n",
        "\n",
        "    data_skewness = skew(data)\n",
        "    data_log_skewness = skew(data_log)\n",
        "    data_square_skewness = skew(data_square)\n",
        "    data_bc_skewness = skew(data_bc)\n",
        "\n",
        "    ax[0][0].hist(data, density=True, histtype='stepfilled', alpha=0.5)\n",
        "    ax[0][0].legend(loc='best', frameon=False)\n",
        "    ax[0][0].set_title(f'right skewed data, Fisher-Pearson coefficient={data_skewness:.3f}')\n",
        "\n",
        "    ax[0][1].hist(data_log, density=True, histtype='stepfilled', alpha=0.5)\n",
        "    ax[0][1].legend(loc='best', frameon=False)\n",
        "    ax[0][1].set_title(f'log transform, Fisher-Pearson coefficient={data_log_skewness:.3f}')\n",
        "\n",
        "    ax[1][0].hist(data_square, density=True, histtype='stepfilled', alpha=0.5)\n",
        "    ax[1][0].legend(loc='best', frameon=False)\n",
        "    ax[1][0].set_title(f'square transform, Fisher-Pearson coefficient={data_square_skewness:.3f}')\n",
        "\n",
        "    ax[1][1].hist(data_bc, density=True, histtype='stepfilled', alpha=0.5)\n",
        "    ax[1][1].legend(loc='best', frameon=False)\n",
        "    ax[1][1].set_title(f'Box cov transform, Fisher-Pearson coefficient={data_bc_skewness:.3f}')\n",
        "\n",
        "    plt.savefig('skewness.png') \n",
        "    plt.show()\n",
        "\n",
        "  gen_right_skewed_data()\n",
        "\n",
        "skewness_simulation()"
      ],
      "metadata": {
        "colab": {
          "base_uri": "https://localhost:8080/",
          "height": 680
        },
        "id": "tm5Qf9vy0lPy",
        "outputId": "253c22f5-1cc6-4e1e-9d07-7fcbce03afef"
      },
      "id": "tm5Qf9vy0lPy",
      "execution_count": null,
      "outputs": [
        {
          "output_type": "stream",
          "name": "stderr",
          "text": [
            "WARNING:matplotlib.legend:No handles with labels found to put in legend.\n",
            "WARNING:matplotlib.legend:No handles with labels found to put in legend.\n",
            "WARNING:matplotlib.legend:No handles with labels found to put in legend.\n",
            "WARNING:matplotlib.legend:No handles with labels found to put in legend.\n"
          ]
        },
        {
          "output_type": "display_data",
          "data": {
            "text/plain": [
              "<Figure size 1080x720 with 4 Axes>"
            ],
            "image/png": "[encoded data removed]"
          },
          "metadata": {
            "needs_background": "light"
          }
        }
      ]
    },
    {
      "cell_type": "code",
      "source": [],
      "metadata": {
        "id": "UB-dSRuE3Um6"
      },
      "id": "UB-dSRuE3Um6",
      "execution_count": null,
      "outputs": []
    }
  ],
  "metadata": {
    "kernelspec": {
      "display_name": "Python 3 (ipykernel)",
      "language": "python",
      "name": "python3"
    },
    "language_info": {
      "codemirror_mode": {
        "name": "ipython",
        "version": 3
      },
      "file_extension": ".py",
      "mimetype": "text/x-python",
      "name": "python",
      "nbconvert_exporter": "python",
      "pygments_lexer": "ipython3",
      "version": "3.10.6"
    },
    "colab": {
      "provenance": []
    }
  },
  "nbformat": 4,
  "nbformat_minor": 5
}