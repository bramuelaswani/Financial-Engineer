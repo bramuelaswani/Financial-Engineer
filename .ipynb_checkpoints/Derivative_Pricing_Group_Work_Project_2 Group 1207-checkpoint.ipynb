{
 "cells": [
  {
   "cell_type": "markdown",
   "metadata": {
    "id": "9KxK5Cyp6nyD"
   },
   "source": [
    "# **DERIVATIVE PRICING Group Work Project #2 | Group #1207**\n",
    "\n",
    "|  |  |  |\n",
    "|:---|:---|:---|\n",
    "|**FULL LEGAL NAME** |  **LOCATION (COUNTRY)** |**EMAIL ADDRESSE** |\n",
    "| Khaled Tamim | France | ktamim.pro@gmail.com |\n",
    "| Bramuel Chetinde Aswani | Kenya | chetindeaswani@gmail.com |  \n",
    "| Martin Gatore | Rwanda | gatore68@gmail.com |\n",
    "\n",
    "---\n"
   ]
  },
  {
   "cell_type": "markdown",
   "metadata": {
    "id": "Ez_LfvV1l-Ln"
   },
   "source": [
    "#**STEP 1**\n",
    "---"
   ]
  },
  {
   "cell_type": "markdown",
   "metadata": {
    "id": "22g_53dQVooS"
   },
   "source": [
    "## Working with European Calls and Puts options under different pricing methods\n"
   ]
  },
  {
   "cell_type": "markdown",
   "metadata": {
    "id": "IH8URMjpWAgk"
   },
   "source": [
    "## **Question 1** - Black-Scholes closed-form solution - **Team member A**\n"
   ]
  },
  {
   "cell_type": "markdown",
   "metadata": {
    "id": "0WLq9vGyWj1l"
   },
   "source": [
    "### 1.1 Pricing European Options using Black-Scholes closed-form solution \n"
   ]
  },
  {
   "cell_type": "markdown",
   "metadata": {
    "id": "kf2GdMFr_5rK"
   },
   "source": [
    "**a. Number of steps**\n",
    "\n",
    "Since we are using the Black-Scholes closed-form solution, we do not need to use a numerical method like the binomial tree model. Therefore, we do not need to choose the number of steps for the calculation.The Black-Scholes closed-form solution is an analytical formula that allows us to calculate the price of an option without having to simulate multiple paths of the underlying asset using a numerical method like the binomial tree model. The formula provides a mathematical expression for the option price as a function of the underlying asset's price, strike price, risk-free rate, volatility, and time to maturity. In contrast, the binomial tree model involves constructing a binomial tree that represents the possible price paths of the underlying asset over time, then using backward induction to calculate the option price at each node of the tree. While the binomial tree model is a powerful tool for pricing options, it can be computationally expensive and time-consuming, especially when dealing with a large number of time steps or complex option structures. Therefore, in cases where we have access to the Black-Scholes closed-form solution, we can use it to calculate the option price more efficiently and accurately than using a numerical method like the binomial tree model.\n"
   ]
  },
  {
   "cell_type": "markdown",
   "metadata": {
    "id": "FiSKoDNz_xO7"
   },
   "source": [
    "**b. Overall pricing process**\n",
    "\n",
    "To price an ATM European call & put using the Black-Scholes closed-form solution, we can use the following formula:\n",
    "$Call\\ Price = S_0\\ N(d_1) - K e^{-rT}\\ N(d_2)$\n",
    "\n",
    "$Put\\ Price = K e^{-rT}\\ N(-d_2) - S_0\\ N(-d_1)$\n",
    "\n",
    "where: $d_1 = \\frac{\\ln(S_0/K) + (r + \\frac{\\sigma^2}{2})T}{\\sigma \\sqrt{T}}, d_2 = d_1 - \\sigma \\sqrt{T}, S_0 = \\text{initial stock price}, K = \\text{strike price}, r = \\text{risk-free interest rate}, \\sigma = \\text{volatility}, T = \\text{time to expiration}, N(x) = \\text{cumulative distribution function of the standard normal distribution}$\n",
    "\n",
    "The overall process to price an ATM European call and put option using the Black-Scholes closed-form solution with the given parameters can be summarized as follows:\n",
    "1. Define the input parameters: S0 (current stock price), r (risk-free interest rate), σ (annualized volatility), T (time to maturity in years), and K (strike price).\n",
    "2. Calculate d1 and d2 using the Black-Scholes formula:\n",
    "$d_1 = \\frac{\\ln(S_0/K) + (r + \\frac{\\sigma^2}{2})T}{\\sigma\\sqrt{T}}$ and \n",
    "$d_2 = d_1 - \\sigma\\sqrt{T}$\n",
    "3. Calculate the option price using the Black-Scholes formula:\n",
    "$Call\\ Price = S_0\\ N(d_1) - K e^{-rT}\\ N(d_2)$ and \n",
    "$Put\\ Price = K e^{-rT}\\ N(-d_2) - S_0\\ N(-d_1)$\n",
    "where N is the cumulative distribution function of the standard normal distribution.\n",
    "4. Output the option price.\n",
    "\n",
    "For an ATM option, the strike price K is equal to the current stock price S0. We can convert the given 3-month time to maturity to years by dividing by 12.\n",
    "\n",
    "Using these formulas, we can calculate the price of an ATM (at-the-money) European call and put option as follows:"
   ]
  },
  {
   "cell_type": "code",
   "execution_count": 1,
   "metadata": {
    "colab": {
     "base_uri": "https://localhost:8080/"
    },
    "id": "iOGW1FmkuRbR",
    "outputId": "fa615abb-3b62-4bca-e598-cc2906ab0cf7"
   },
   "outputs": [
    {
     "name": "stdout",
     "output_type": "stream",
     "text": [
      "+----+----------+------+-------------+-------------+------------+------------+-------+\n",
      "| Q# |   Type   | Exer | GWP1 Method | GWP2 Method | GWP1 Price | GWP2 Price | %diff |\n",
      "+----+----------+------+-------------+-------------+------------+------------+-------+\n",
      "| 1  | ATM call | Eur  |   Binomial  |      BS     |    4.61    |    4.61    |  0.0  |\n",
      "| 1  | ATM put  | Eur  |   Binomial  |      BS     |    3.36    |    3.37    |  0.3  |\n",
      "+----+----------+------+-------------+-------------+------------+------------+-------+\n",
      "Put-Call Parity holds.\n"
     ]
    }
   ],
   "source": [
    "import numpy as np\n",
    "import scipy.stats as st\n",
    "import math\n",
    "from prettytable import PrettyTable\n",
    "\n",
    "\n",
    "def bs_call_european(S, K, r, sigma, T):\n",
    "    d1 = (math.log(S/K) + (r + sigma**2/2)*T) / (sigma * math.sqrt(T))\n",
    "    d2 = d1 - sigma * math.sqrt(T)\n",
    "    return S * st.norm.cdf(d1) - K * math.exp(-r*T) * st.norm.cdf(d2)\n",
    "\n",
    "def bs_put_european(S, K, r, sigma, T):\n",
    "    d1 = (math.log(S/K) + (r + sigma**2/2)*T) / (sigma * math.sqrt(T))\n",
    "    d2 = d1 - sigma * math.sqrt(T)\n",
    "    return K * math.exp(-r*T) * st.norm.cdf(-d2) - S * st.norm.cdf(-d1)\n",
    "\n",
    "def check_put_call_parity(S0, K, r, T, call_price, put_price):\n",
    "    parity_diff = abs(call_price + K * math.exp(-r * T) - put_price - S0)\n",
    "    tolerance = 0.01 * S0  # 1% tolerance for difference between left and right sides \n",
    "    if parity_diff < tolerance:\n",
    "        print(\"Put-Call Parity holds.\")\n",
    "    else:\n",
    "        print(\"Put-Call Parity does not hold.\")\n",
    "    return\n",
    "\n",
    "# Parameters\n",
    "S0 = 100\n",
    "r = 0.05\n",
    "sigma = 0.20\n",
    "T = 3/12  # 3 months\n",
    "K = S0  # ATM option\n",
    "\n",
    "# Calculating option prices\n",
    "call_price = bs_call_european(S0, K, r, sigma, T)\n",
    "put_price = bs_put_european(S0, K, r, sigma, T)\n",
    "call_price = round(call_price,2)\n",
    "put_price = round(put_price,2)\n",
    "# Prices from GWP1\n",
    "binomial_european_call_price = 4.61\n",
    "binomial_european_put_price = 3.36\n",
    "def diff_prices(price1, price2):\n",
    "    return round(abs((price1 - price2) / ((price1 + price2) / 2)) * 100,2)\n",
    "\n",
    "# Print results in table\n",
    "table = PrettyTable()\n",
    "table.field_names = [\"Q#\",\"Type\",\"Exer\",\"GWP1 Method\", \"GWP2 Method\", \"GWP1 Price\", \"GWP2 Price\", \"%diff\"]\n",
    "table.add_row([\"1\",\"ATM call\",\"Eur\",\"Binomial\",\"BS\",binomial_european_call_price,call_price,diff_prices(call_price,binomial_european_call_price)])\n",
    "table.add_row([\"1\",\"ATM put\",\"Eur\",\"Binomial\",\"BS\",binomial_european_put_price,put_price,diff_prices(put_price,binomial_european_put_price)])\n",
    "print(table)\n",
    "check_put_call_parity(S0, K, r, T, call_price, put_price)\n"
   ]
  },
  {
   "cell_type": "markdown",
   "metadata": {
    "id": "84b1P-3a1JUk"
   },
   "source": [
    "### 1.2 Computing Greek Delta for European Options using Black-Scholes closed-form solution"
   ]
  },
  {
   "cell_type": "markdown",
   "metadata": {
    "id": "7iljHSx-WF1R"
   },
   "source": [
    "**a. Comparison**\n",
    "\n",
    "The Delta of an option measures the rate of change of its price with respect to the price of the underlying asset. It is a key parameter in options trading and risk management, as it helps traders to assess the exposure of their portfolio to changes in the underlying asset price. For a European call option, the Delta is given by the partial derivative of the option price with respect to the underlying asset price S, while keeping other parameters constant:\n",
    "\n",
    "$\\Delta_{\\text{call}} = \\dfrac{\\partial C}{\\partial S} = N(d_1)$\n",
    "\n",
    "\n",
    "where N is the cumulative distribution function of the standard normal distribution, and d1 is the standardized log-return of the underlying asset over the life of the option, defined as:\n",
    "\n",
    "$d_1 = \\dfrac{\\ln(S/K) + \\left(r + \\dfrac{\\sigma^2}{2}\\right)T}{\\sigma\\sqrt{T}}$\n",
    "\n",
    "For a European put option, the Delta is given by:\n",
    "\n",
    "$\\Delta_{\\text{put}} = \\dfrac{\\partial P}{\\partial S} = N(d_1) - 1$\n",
    "\n",
    "where P is the put option price, and d1 is the same as for the call option.\n",
    "Using the Black-Scholes closed-form solution, we can compute the Delta for an ATM European call and put using the same parameters:"
   ]
  },
  {
   "cell_type": "code",
   "execution_count": 2,
   "metadata": {
    "colab": {
     "base_uri": "https://localhost:8080/"
    },
    "id": "Nhll1J4yXiAK",
    "outputId": "d7dc48a2-46ef-4ab7-d007-a599919bbdc8"
   },
   "outputs": [
    {
     "name": "stdout",
     "output_type": "stream",
     "text": [
      "+----+------------+------+-------------+-------------+------------+------------+-------+\n",
      "| Q# |    Type    | Exer | GWP1 Method | GWP2 Method | GWP1 Price | GWP2 Price | %diff |\n",
      "+----+------------+------+-------------+-------------+------------+------------+-------+\n",
      "| 1  | Delta call | Eur  |   Binomial  |      BS     |    0.57    |    0.57    |  0.0  |\n",
      "| 1  | Delta put  | Eur  |   Binomial  |      BS     |   -0.43    |   -0.43    |  0.0  |\n",
      "+----+------------+------+-------------+-------------+------------+------------+-------+\n",
      "Put-Call Parity holds.\n"
     ]
    }
   ],
   "source": [
    "from prettytable import PrettyTable\n",
    "import numpy as np\n",
    "import math\n",
    "from scipy.stats import norm\n",
    "\n",
    "def bs_call_european_delta(S, K, r, sigma, T):\n",
    "    d1 = (math.log(S/K) + (r + sigma**2/2)*T) / (sigma * math.sqrt(T))\n",
    "    delta = norm.cdf(d1)\n",
    "    return delta\n",
    "\n",
    "def bs_put_european_delta(S, K, r, sigma, T):\n",
    "    d1 = (math.log(S/K) + (r + sigma**2/2)*T) / (sigma * math.sqrt(T))\n",
    "    delta = norm.cdf(d1) - 1\n",
    "    return delta\n",
    "\n",
    "def check_put_call_parity(S0, K, r, T, call_price, put_price):\n",
    "    parity_diff = abs(call_price + K * math.exp(-r * T) - put_price - S0)\n",
    "    tolerance = 0.01 * S0  # 1% tolerance for difference between left and right sides \n",
    "    if parity_diff < tolerance:\n",
    "        print(\"Put-Call Parity holds.\")\n",
    "    else:\n",
    "        print(\"Put-Call Parity does not hold.\")\n",
    "    return\n",
    "            \n",
    "# Parameters\n",
    "S0 = 100\n",
    "r = 0.05\n",
    "sigma = 0.20\n",
    "T = 3/12  # 3 months\n",
    "K = S0  # ATM option\n",
    "\n",
    "# Calculating delta\n",
    "call_delta = bs_call_european_delta(S0, K, r, sigma, T)\n",
    "put_delta = bs_put_european_delta(S0, K, r, sigma, T)\n",
    "call_delta = round(call_delta,2)\n",
    "put_delta = round(put_delta,2)\n",
    "\n",
    "# Delta from GWP1\n",
    "binomial_european_call_delta = 0.57\n",
    "binomial_european_put_delta = -0.43\n",
    "\n",
    "def diff_prices(price1, price2):\n",
    "    return round(abs((price1 - price2) / ((price1 + price2) / 2)) * 100,2)\n",
    "\n",
    "# Print results in table\n",
    "table = PrettyTable()\n",
    "table.field_names = [\"Q#\",\"Type\",\"Exer\",\"GWP1 Method\", \"GWP2 Method\", \"GWP1 Price\", \"GWP2 Price\", \"%diff\"]\n",
    "table.add_row([\"1\",\"Delta call\",\"Eur\",\"Binomial\",\"BS\",binomial_european_call_delta,call_delta,diff_prices(call_delta,binomial_european_call_delta)])\n",
    "table.add_row([\"1\",\"Delta put\",\"Eur\",\"Binomial\",\"BS\",binomial_european_put_delta,put_delta,diff_prices(put_delta,binomial_european_put_delta)])\n",
    "print(table)\n",
    "check_put_call_parity(S0, K, r, T, call_delta, put_delta)"
   ]
  },
  {
   "cell_type": "markdown",
   "metadata": {
    "id": "7s3d8bQI-VWw"
   },
   "source": [
    "**b. Differences and signs of Delta for both options**\n",
    "\n",
    "The magnitude of the Delta for the call option is higher than that of the put option, which means that the call option is more sensitive to changes in the underlying asset price than the put option. This makes intuitive sense, as the payoff of the call option is increasing with the price of the underlying asset, while the payoff of the put option is decreasing with the price of the underlying asset. The signs of the Delta for both options reflect the direction of the exposure to the underlying asset price: a positive Delta means a long position, while a negative Delta means a short position. Delta proxies for the change in option price in response to changes in the underlying asset price. Obtaining a positive/negative Delta for each option makes sense because it allows traders and investors to assess the direction and magnitude of their exposure to changes in the underlying asset price. A positive Delta for a call option means that the option holder has a long position, which benefits from an increase in the underlying asset price. Similarly, a negative Delta for a put option means that the option holder has a short position, which benefits from a decrease in the underlying asset price. Delta is an important Greek for options traders and investors as it provides insight into the sensitivity of option prices to changes in the underlying asset price. The magnitude and sign of Delta for a given option can indicate the direction and magnitude of exposure to the underlying asset price, which can be used to manage risk and make informed investment decisions.\n"
   ]
  },
  {
   "cell_type": "markdown",
   "metadata": {
    "id": "gZvklTUrFOFN"
   },
   "source": [
    "### 1.3 Understanding Option Sensitivities using Black-Scholes closed-form solution"
   ]
  },
  {
   "cell_type": "markdown",
   "metadata": {
    "id": "BxNSUxsiFTg5"
   },
   "source": [
    "**a. Increasing option sensitivities**\n",
    "\n",
    "Let’s increase the volatility from 20% to 25% and compare the option prices:"
   ]
  },
  {
   "cell_type": "code",
   "execution_count": 3,
   "metadata": {
    "colab": {
     "base_uri": "https://localhost:8080/"
    },
    "id": "Lm-MvTSRFYx7",
    "outputId": "a1871540-acc0-47f0-e389-1caaecc25aec"
   },
   "outputs": [
    {
     "name": "stdout",
     "output_type": "stream",
     "text": [
      "+----+---------------+------+-------------+-------------+------------+------------+-------+\n",
      "| Q# |      Type     | Exer | GWP1 Method | GWP2 Method | GWP1 Price | GWP2 Price | %diff |\n",
      "+----+---------------+------+-------------+-------------+------------+------------+-------+\n",
      "| 1  | Vega call 20% | Eur  |   Binomial  |      BS     |    4.61    |    4.61    |  0.0  |\n",
      "| 1  |  Vega put 20% | Eur  |   Binomial  |      BS     |    3.36    |    3.37    |  0.3  |\n",
      "| 1  | Vega call 25% | Eur  |   Binomial  |      BS     |    5.59    |    5.6     |  0.18 |\n",
      "| 1  |  Vega put 25% | Eur  |   Binomial  |      BS     |    4.34    |    4.36    |  0.46 |\n",
      "+----+---------------+------+-------------+-------------+------------+------------+-------+\n",
      "Put-Call Parity holds.\n",
      "Put-Call Parity holds.\n"
     ]
    }
   ],
   "source": [
    "from prettytable import PrettyTable\n",
    "import numpy as np\n",
    "import math\n",
    "from scipy.stats import norm\n",
    "\n",
    "# Parameters\n",
    "S0 = 100\n",
    "K = 100\n",
    "r = 0.05\n",
    "sigma_20 = 0.20\n",
    "sigma_25 = 0.25\n",
    "T = 0.25\n",
    "\n",
    "# Calculating call and put options\n",
    "bs_call_price_20 = round(bs_call_european(S0, K, r, sigma_20, T),2)\n",
    "bs_call_price_25 = round(bs_call_european(S0, K, r, sigma_25, T),2)\n",
    "bs_put_price_20 = round(bs_put_european(S0, K, r, sigma_20, T),2)\n",
    "bs_put_price_25 = round(bs_put_european(S0, K, r, sigma_25, T),2)\n",
    "\n",
    "# Vega from GWP1\n",
    "binomial_european_call_price_20 = 4.61\n",
    "binomial_european_put_price_20 = 3.36\n",
    "binomial_european_call_price_25 = 5.59\n",
    "binomial_european_put_price_25 = 4.34\n",
    "\n",
    "# Print results in table\n",
    "table = PrettyTable()\n",
    "table.field_names = [\"Q#\",\"Type\",\"Exer\",\"GWP1 Method\", \"GWP2 Method\", \"GWP1 Price\", \"GWP2 Price\", \"%diff\"]\n",
    "table.add_row([\"1\",\"Vega call 20%\",\"Eur\",\"Binomial\",\"BS\",binomial_european_call_price_20, bs_call_price_20,diff_prices(bs_call_price_20,binomial_european_call_price_20)])\n",
    "table.add_row([\"1\",\"Vega put 20%\",\"Eur\",\"Binomial\",\"BS\",binomial_european_put_price_20, bs_put_price_20,diff_prices(bs_put_price_20,binomial_european_put_price_20)])\n",
    "table.add_row([\"1\",\"Vega call 25%\",\"Eur\",\"Binomial\",\"BS\",binomial_european_call_price_25, bs_call_price_25,diff_prices(bs_call_price_25,binomial_european_call_price_25)])\n",
    "table.add_row([\"1\",\"Vega put 25%\",\"Eur\",\"Binomial\",\"BS\",binomial_european_put_price_25, bs_put_price_25,diff_prices(bs_put_price_25,binomial_european_put_price_25)])\n",
    "\n",
    "print(table)\n",
    "\n",
    "# Put-Call parity check\n",
    "check_put_call_parity(S0, K, r, T, bs_call_price_20, bs_put_price_20)\n",
    "check_put_call_parity(S0, K, r, T, bs_call_price_25, bs_put_price_25)"
   ]
  },
  {
   "cell_type": "markdown",
   "metadata": {
    "id": "E07oxGmOjHDI"
   },
   "source": [
    "From the table, we can see that the call and put option prices increase with a 5% increase in volatility. The call option price increases from 4.61 to 5.60, and the put option price increases from 3.37 to 4.36."
   ]
  },
  {
   "cell_type": "markdown",
   "metadata": {
    "id": "hnqgJDnRjI1r"
   },
   "source": [
    "**b. Potential differential impact**\n",
    "\n",
    "The impact of an increase in volatility can have a differential impact on call and put options due to their asymmetrical payoff structures. On one hand, a call option benefits from an increase in volatility because it increases the likelihood of the underlying asset price rising above the strike price, leading to a higher payoff. On the other hand, a put option benefits from a decrease in volatility because it increases the likelihood of the underlying asset price falling below the strike price, leading to a higher payoff. Therefore, an increase in volatility will have a greater positive impact on call option prices compared to put option prices.\n"
   ]
  },
  {
   "cell_type": "markdown",
   "metadata": {
    "id": "piAlfZhxmScS"
   },
   "source": [
    "## **Question 2** - Monte-Carlo methods under a general GBM equation - **Team member B**\n"
   ]
  },
  {
   "cell_type": "markdown",
   "metadata": {
    "id": "u0JsKvoJmh_Z"
   },
   "source": [
    "### 2.1 Pricing European Options using Monte-Carlo methods under a general GBM equation\n"
   ]
  },
  {
   "cell_type": "markdown",
   "metadata": {
    "id": "tldo3t_1mh_Z"
   },
   "source": [
    "**a. Number of steps**\n",
    "\n",
    "Monte-Carlo methods are a popular numerical technique used to price options by simulating the underlying asset's price process. In this case, we will use Monte-Carlo methods to price ATM European options under a general Geometric Brownian Motion (GBM) equation with daily time-steps in the simulations. In order to achieve reliable estimates, we will choose a large number of simulations (e.g., 100,000 simulations). We will also choose a daily time-step for the simulations. The more time-steps we use, the more accurate our estimate will be, but the longer the simulation will take to run. A convenient number of time-steps to achieve reliable estimates is 252, which corresponds to the number of trading days in a year (excluding weekends)."
   ]
  },
  {
   "cell_type": "markdown",
   "metadata": {
    "id": "Sv5dIGT4oxGR"
   },
   "source": [
    "**b. Overall pricing process**\n",
    "\n",
    "To price an ATM European call and put using Monte-Carlo methods under a general Geometric Brownian Motion (GBM) equation with daily time-steps, we can follow these steps:\n",
    "1. Define the parameters:\n",
    "$S_0$: The current price of the underlying asset (e.g., stock)\n",
    "$r$: The risk-free interest rate\n",
    "$\\sigma$: The volatility of the underlying asset\n",
    "$T$: The time to maturity of the option\n",
    "For this problem, we have $S_0 = 100$, $r = 5%$, $\\sigma = 20%$, and $T = 3$ months.\n",
    "\n",
    "2. Calculate the daily drift and volatility: We need to convert the annualized values of $r$ and $\\sigma$ to daily values. The daily drift ($\\mu$) is given by: $\\mu = (r - \\sigma^2/2)/252$. The daily volatility ($v$) is given by: $v = \\sigma / \\sqrt{252}$.\n",
    "\n",
    "3. Generate random stock prices at maturity: We need to simulate the stock price at the time of option maturity using a Monte-Carlo simulation. We can generate a large number of random stock prices by using the following equation: $S(T) = S_0 \\exp((\\mu - 0.5v^2)T + vZ\\sqrt{T})$. where $Z$ is a random variable drawn from a standard normal distribution.\n",
    "\n",
    "4. Calculate the payoff of the option: The payoff of an ATM European call and put option is given by:\n",
    "\n",
    "Call payoff = $\\max(S(T) - K, 0)$\n",
    "\n",
    "Put payoff = $\\max(K - S(T), 0)$\n",
    "\n",
    "where $K$ is the strike price of the option.\n",
    "\n",
    "5. Calculate the option price: To estimate the option price, we need to take the average of the payoffs and discount it back to the present using the risk-free interest rate. The option price can be calculated as follows:\n",
    "\n",
    "Call price = $\\exp(-rT) * \\sum(Call payoff) /$ number of simulations\n",
    "\n",
    "Put price = $\\exp(-rT) * \\sum(Put payoff) /$ number of simulations\n",
    "\n",
    "where the sum is taken over all the simulated stock prices and number of simulations is the total number of simulated stock prices.\n",
    "\n",
    "\n",
    "Reason for choosing 252 steps in the tree:\n",
    "Choosing 252 steps in the tree ensures that we simulate the daily movements of the stock price accurately. This number is sufficient to capture the volatility of the underlying asset and produce reliable estimates of the option price. Moreover, it corresponds to the number of trading days in a year, which is a natural choice for daily time-steps.\n",
    "Using these formulas, we can calculate the price of an ATM (at-the-money) European call and put option as follows:"
   ]
  },
  {
   "cell_type": "code",
   "execution_count": 4,
   "metadata": {
    "colab": {
     "base_uri": "https://localhost:8080/"
    },
    "id": "vaqwILc-aHch",
    "outputId": "406fcfbe-566c-4612-feb2-b471fd6d2dde"
   },
   "outputs": [
    {
     "name": "stdout",
     "output_type": "stream",
     "text": [
      "+----+----------+------+-------------+-------------+------------+------------+-------+\n",
      "| Q# |   Type   | Exer | GWP1 Method | GWP2 Method | GWP1 Price | GWP2 Price | %diff |\n",
      "+----+----------+------+-------------+-------------+------------+------------+-------+\n",
      "| 2  | ATM call | Eur  |   Binomial  |      MC     |    4.61    |    4.61    |  0.0  |\n",
      "| 2  | ATM put  | Eur  |   Binomial  |      MC     |    3.36    |    3.36    |  0.0  |\n",
      "+----+----------+------+-------------+-------------+------------+------------+-------+\n",
      "Put-Call Parity holds.\n"
     ]
    }
   ],
   "source": [
    "import numpy as np\n",
    "import math\n",
    "from prettytable import PrettyTable\n",
    "from scipy.stats import norm\n",
    "\n",
    "def mc_call_european(S0, r, sigma, T, K, N, M):\n",
    "    # compute daily drift and volatility\n",
    "    dt = T / M\n",
    "    mu = r - 0.5 * sigma**2\n",
    "    daily_drift = mu * dt\n",
    "    daily_volatility = sigma * np.sqrt(dt)\n",
    "    # simulate stock price paths\n",
    "    S = np.zeros((N, M + 1))\n",
    "    S[:, 0] = S0\n",
    "    for i in range(M):\n",
    "        rand = np.random.randn(N)\n",
    "        S[:, i + 1] = S[:, i] * np.exp(daily_drift + daily_volatility * rand)\n",
    "    # compute option prices\n",
    "    discount_factor = np.exp(-r * T)\n",
    "    payoff_call = np.maximum(S[:, -1] - K, 0)\n",
    "    price_call = discount_factor * np.mean(payoff_call)\n",
    "    payoff_put = np.maximum(K - S[:, -1], 0)\n",
    "    price_put = discount_factor * np.mean(payoff_put)\n",
    "    return price_call\n",
    "\n",
    "def mc_put_european(S0, r, sigma, T, K, N, M):\n",
    "    # compute daily drift and volatility\n",
    "    dt = T / M\n",
    "    mu = r - 0.5 * sigma**2\n",
    "    daily_drift = mu * dt\n",
    "    daily_volatility = sigma * np.sqrt(dt)\n",
    "    # simulate stock price paths\n",
    "    S = np.zeros((N, M + 1))\n",
    "    S[:, 0] = S0\n",
    "    for i in range(M):\n",
    "        rand = np.random.randn(N)\n",
    "        S[:, i + 1] = S[:, i] * np.exp(daily_drift + daily_volatility * rand)\n",
    "    # compute option prices\n",
    "    discount_factor = np.exp(-r * T)\n",
    "    payoff_call = np.maximum(S[:, -1] - K, 0)\n",
    "    price_call = discount_factor * np.mean(payoff_call)\n",
    "    payoff_put = np.maximum(K - S[:, -1], 0)\n",
    "    price_put = discount_factor * np.mean(payoff_put)\n",
    "    return price_put\n",
    "\n",
    "def check_put_call_parity(S0, K, r, T, call_price, put_price):\n",
    "    parity_diff = abs(call_price + K * math.exp(-r * T) - put_price - S0)\n",
    "    tolerance = 0.01 * S0  # 1% tolerance for difference between left and right sides \n",
    "    if parity_diff < tolerance:\n",
    "        print(\"Put-Call Parity holds.\")\n",
    "    else:\n",
    "        print(\"Put-Call Parity does not hold.\")\n",
    "    return\n",
    "\n",
    "\n",
    "# Parameters\n",
    "S0 = 100  # current price of the underlying asset\n",
    "r = 0.05  # risk-free interest rate\n",
    "sigma = 0.2  # volatility of the underlying asset\n",
    "T = 0.25  # time to maturity in years\n",
    "K = 100  # strike price\n",
    "N = 100000 # simulations\n",
    "M = 252 # daily time steps\n",
    "\n",
    "# Calculating option prices\n",
    "call_price = mc_call_european(S0, r, sigma, T, K, N, M)\n",
    "put_price = mc_put_european(S0, r, sigma, T, K, N, M)\n",
    "call_price = round(call_price,2)\n",
    "put_price = round(put_price,2)\n",
    "# Prices from GWP1\n",
    "binomial_european_call_price = 4.61\n",
    "binomial_european_put_price = 3.36\n",
    "def diff_prices(price1, price2):\n",
    "    return round(abs((price1 - price2) / ((price1 + price2) / 2)) * 100,2)\n",
    "\n",
    "# Print results in table\n",
    "table = PrettyTable()\n",
    "table.field_names = [\"Q#\",\"Type\",\"Exer\",\"GWP1 Method\", \"GWP2 Method\", \"GWP1 Price\", \"GWP2 Price\", \"%diff\"]\n",
    "table.add_row([\"2\",\"ATM call\",\"Eur\",\"Binomial\",\"MC\",binomial_european_call_price,call_price,diff_prices(call_price,binomial_european_call_price)])\n",
    "table.add_row([\"2\",\"ATM put\",\"Eur\",\"Binomial\",\"MC\",binomial_european_put_price,put_price,diff_prices(put_price,binomial_european_put_price)])\n",
    "print(table)\n",
    "check_put_call_parity(S0, K, r, T, call_price, put_price)"
   ]
  },
  {
   "cell_type": "markdown",
   "metadata": {
    "id": "jQYEkvdjw039"
   },
   "source": [
    "### 2.2 Computing Greek Delta for European Options using Monte-Carlo methods under a general GBM equation"
   ]
  },
  {
   "cell_type": "markdown",
   "metadata": {
    "id": "-icX1tkfw57L"
   },
   "source": [
    "**a. Comparison**\n",
    "\n",
    "Using Monte-Carlo methods under a general GBM equation, we can compute the Delta for an ATM European call and put using the same parameters:\n"
   ]
  },
  {
   "cell_type": "code",
   "execution_count": 5,
   "metadata": {
    "colab": {
     "base_uri": "https://localhost:8080/"
    },
    "id": "3ghOBa9e9MJD",
    "outputId": "6098adde-ae5d-4a00-cac3-bb9948185c08"
   },
   "outputs": [
    {
     "name": "stdout",
     "output_type": "stream",
     "text": [
      "+----+------------+------+-------------+-------------+------------+------------+-------+\n",
      "| Q# |    Type    | Exer | GWP1 Method | GWP2 Method | GWP1 Price | GWP2 Price | %diff |\n",
      "+----+------------+------+-------------+-------------+------------+------------+-------+\n",
      "| 2  | Delta call | Eur  |   Binomial  |      MC     |    0.57    |    0.56    |  1.77 |\n",
      "| 2  | Delta put  | Eur  |   Binomial  |      Mc     |   -0.43    |   -0.45    |  4.55 |\n",
      "+----+------------+------+-------------+-------------+------------+------------+-------+\n",
      "Put-Call Parity holds.\n"
     ]
    }
   ],
   "source": [
    "import numpy as np\n",
    "from scipy.stats import norm\n",
    "from prettytable import PrettyTable\n",
    "\n",
    "def mc_call_european_delta(S0, r, sigma, T, K, n_simulations, n_steps):\n",
    "    dt = T / n_steps\n",
    "    mu = r - 0.5 * sigma**2\n",
    "    daily_drift = mu * dt\n",
    "    daily_volatility = sigma * np.sqrt(dt)\n",
    "    S = np.zeros((n_simulations, n_steps + 1))\n",
    "    S[:, 0] = S0\n",
    "    for i in range(n_steps):\n",
    "        rand = np.random.randn(n_simulations)\n",
    "        S[:, i + 1] = S[:, i] * np.exp(daily_drift + daily_volatility * rand)\n",
    "    discount_factor = np.exp(-r * T)\n",
    "    payoff_call = np.maximum(S[:, -1] - K, 0)\n",
    "    price_call = discount_factor * np.mean(payoff_call)\n",
    "    delta_call = discount_factor * np.mean(norm.cdf((np.log(S[:, -1] / K) + (r + 0.5 * sigma**2) * T) / (sigma * np.sqrt(T))))\n",
    "    return delta_call\n",
    "\n",
    "def mc_put_european_delta(S0, r, sigma, T, K, n_simulations, n_steps):\n",
    "    dt = T / n_steps\n",
    "    mu = r - 0.5 * sigma**2\n",
    "    daily_drift = mu * dt\n",
    "    daily_volatility = sigma * np.sqrt(dt)\n",
    "    S = np.zeros((n_simulations, n_steps + 1))\n",
    "    S[:, 0] = S0\n",
    "    for i in range(n_steps):\n",
    "        rand = np.random.randn(n_simulations)\n",
    "        S[:, i + 1] = S[:, i] * np.exp(daily_drift + daily_volatility * rand)\n",
    "    discount_factor = np.exp(-r * T)\n",
    "    payoff_put = np.maximum(K - S[:, -1], 0)\n",
    "    price_put = discount_factor * np.mean(payoff_put)\n",
    "    delta_put = discount_factor * np.mean(norm.cdf((np.log(S[:, -1] / K) + (r - 0.5 * sigma**2) * T) / (sigma * np.sqrt(T))) - 1)\n",
    "    return delta_put\n",
    "\n",
    "\n",
    "# Parameters\n",
    "S0 = 100  # current price of the underlying asset\n",
    "r = 0.05  # risk-free interest rate\n",
    "sigma = 0.2  # volatility of the underlying asset\n",
    "T = 0.25  # time to maturity in years\n",
    "K = S0  # strike price\n",
    "N = 100000 # simulations\n",
    "M = 252 # daily time steps\n",
    "\n",
    "# Calculating delta\n",
    "call_delta = mc_call_european_delta(S0, r, sigma, T, K, N, M)\n",
    "put_delta = mc_put_european_delta(S0, r, sigma, T, K, N, M)\n",
    "call_delta = round(call_delta,2)\n",
    "put_delta = round(put_delta,2)\n",
    "\n",
    "# Delta from GWP1\n",
    "binomial_european_call_delta = 0.57\n",
    "binomial_european_put_delta = -0.43\n",
    "\n",
    "def diff_prices(price1, price2):\n",
    "    return round(abs((price1 - price2) / ((price1 + price2) / 2)) * 100,2)\n",
    "\n",
    "# Print results in table\n",
    "table = PrettyTable()\n",
    "table.field_names = [\"Q#\",\"Type\",\"Exer\",\"GWP1 Method\", \"GWP2 Method\", \"GWP1 Price\", \"GWP2 Price\", \"%diff\"]\n",
    "table.add_row([\"2\",\"Delta call\",\"Eur\",\"Binomial\",\"MC\",binomial_european_call_delta,call_delta,diff_prices(call_delta,binomial_european_call_delta)])\n",
    "table.add_row([\"2\",\"Delta put\",\"Eur\",\"Binomial\",\"Mc\",binomial_european_put_delta,put_delta,diff_prices(put_delta,binomial_european_put_delta)])\n",
    "print(table)\n",
    "check_put_call_parity(S0, K, r, T, call_delta, put_delta)"
   ]
  },
  {
   "cell_type": "markdown",
   "metadata": {
    "id": "YyKPPlNxAaL-"
   },
   "source": [
    "Comparing the Monte Carlo Delta of an ATM European call option and an ATM European put option calculated in the previous question, we can see that the Delta of the call option is positive, while the Delta of the put option is negative. This is consistent with the theoretical values of Delta for these options."
   ]
  },
  {
   "cell_type": "markdown",
   "metadata": {
    "id": "rJjq58XLAaX5"
   },
   "source": [
    "**b. Differences and signs of Delta for both options**\n",
    "\n",
    "Delta is a measure of the sensitivity of the option price to changes in the underlying asset price. Specifically, it represents the change in the option price for a small change in the underlying asset price. A positive Delta indicates that the option price increases as the underlying asset price increases, while a negative Delta indicates that the option price decreases as the underlying asset price increases. For an ATM European call option, the Delta is positive because the option price increases as the underlying asset price increases. This makes sense because if the stock price goes up, the call option becomes more valuable because the holder has the right to buy the stock at the lower strike price. Therefore, the call option provides a way to benefit from a potential increase in the stock price. For an ATM European put option, the Delta is negative because the option price decreases as the underlying asset price increases. This makes sense because if the stock price goes up, the put option becomes less valuable because the holder has the right to sell the stock at the higher strike price. Therefore, the put option provides a way to protect against a potential decrease in the stock price."
   ]
  },
  {
   "cell_type": "markdown",
   "metadata": {
    "id": "WCIJWPWSBQ2a"
   },
   "source": [
    "### 2.3 Understanding Option Sensitivities using Monte-Carlo methods under a general GBM equation"
   ]
  },
  {
   "cell_type": "markdown",
   "metadata": {
    "id": "SS33BXfMBS5Y"
   },
   "source": [
    "**a. Increasing option sensitivities**\n",
    "\n",
    "To compute the sensitivity of the previous put and call option prices to a 5% increase in volatility, we can first calculate the option prices using the original parameters (S0=100, r=5%, σ=20%, T=3 months) and then calculate the option prices again using a new volatility of 25% while keeping all other parameters constant. We can then calculate the difference in option prices between the two scenarios and divide by the original option price to obtain the sensitivity, or Vega.\n",
    "\n",
    "We can implement this using the following Python code:"
   ]
  },
  {
   "cell_type": "code",
   "execution_count": 6,
   "metadata": {
    "colab": {
     "base_uri": "https://localhost:8080/"
    },
    "id": "wttss2SNBlFC",
    "outputId": "b1d9d439-e316-487d-c393-01784304a2d1"
   },
   "outputs": [
    {
     "name": "stdout",
     "output_type": "stream",
     "text": [
      "+----+---------------+------+-------------+-------------+------------+------------+-------+\n",
      "| Q# |      Type     | Exer | GWP1 Method | GWP2 Method | GWP1 Price | GWP2 Price | %diff |\n",
      "+----+---------------+------+-------------+-------------+------------+------------+-------+\n",
      "| 2  | Vega call 20% | Eur  |   Binomial  |      MC     |    4.61    |    4.61    |  0.0  |\n",
      "| 2  |  Vega put 20% | Eur  |   Binomial  |      MC     |    3.36    |    3.38    |  0.0  |\n",
      "| 2  | Vega call 25% | Eur  |   Binomial  |      MC     |    5.59    |    5.58    |  0.0  |\n",
      "| 2  |  Vega put 25% | Eur  |   Binomial  |      MC     |    4.34    |    4.33    |  0.0  |\n",
      "+----+---------------+------+-------------+-------------+------------+------------+-------+\n",
      "Put-Call Parity holds.\n",
      "Put-Call Parity holds.\n"
     ]
    }
   ],
   "source": [
    "from prettytable import PrettyTable\n",
    "import numpy as np\n",
    "import math\n",
    "from scipy.stats import norm\n",
    "\n",
    "# Parameters\n",
    "S0 = 100\n",
    "K = S0\n",
    "r = 0.05\n",
    "sigma_20 = 0.20\n",
    "sigma_25 = 0.25\n",
    "T = 0.25\n",
    "N = 100000 # simulations\n",
    "M = 252 # daily time steps\n",
    "\n",
    "# Calculating call and put options\n",
    "mc_call_price_20 = round(mc_call_european(S0, r, sigma_20, T, K, N, M), 2)\n",
    "mc_call_price_25 = round(mc_call_european(S0, r, sigma_25, T, K, N, M), 2)\n",
    "mc_put_price_20 = round(mc_put_european(S0, r, sigma_20, T, K, N, M), 2)\n",
    "mc_put_price_25 = round(mc_put_european(S0, r, sigma_25, T, K, N, M), 2)\n",
    "\n",
    "# Vega from GWP1\n",
    "binomial_european_call_price_20 = 4.61\n",
    "binomial_european_put_price_20 = 3.36\n",
    "binomial_european_call_price_25 = 5.59\n",
    "binomial_european_put_price_25 = 4.34\n",
    "\n",
    "def diff_prices(price1, price2):\n",
    "    return round(abs((price1 - price2) / ((price1 + price2) / 2)) * 100,2)\n",
    "    \n",
    "# Print results in table\n",
    "table = PrettyTable()\n",
    "table.field_names = [\"Q#\",\"Type\",\"Exer\",\"GWP1 Method\", \"GWP2 Method\", \"GWP1 Price\", \"GWP2 Price\", \"%diff\"]\n",
    "table.add_row([\"2\",\"Vega call 20%\",\"Eur\",\"Binomial\",\"MC\",binomial_european_call_price_20, mc_call_price_20, diff_prices(mc_call_price_20, mc_call_price_20)])\n",
    "table.add_row([\"2\",\"Vega put 20%\",\"Eur\",\"Binomial\",\"MC\",binomial_european_put_price_20, mc_put_price_20, diff_prices(mc_put_price_20, mc_put_price_20)])\n",
    "table.add_row([\"2\",\"Vega call 25%\",\"Eur\",\"Binomial\",\"MC\",binomial_european_call_price_25, mc_call_price_25, diff_prices(mc_call_price_25, mc_call_price_25)])\n",
    "table.add_row([\"2\",\"Vega put 25%\",\"Eur\",\"Binomial\",\"MC\",binomial_european_put_price_25, mc_put_price_25, diff_prices(mc_put_price_25, mc_put_price_25)])\n",
    "print(table)\n",
    "check_put_call_parity(S0, K, r, T, mc_call_price_20, mc_put_price_20)\n",
    "check_put_call_parity(S0, K, r, T, mc_call_price_25, mc_put_price_25)"
   ]
  },
  {
   "cell_type": "markdown",
   "metadata": {
    "id": "WU66jb6_Vfnm"
   },
   "source": [
    "From the table above, we can see that the Vega for the call option increased from 4.61 to 5.59, and the Vega for the put option increased from 3.38 to 4.36, as the volatility increased from 20% to 25%. The option prices also increased as the volatility increased."
   ]
  },
  {
   "cell_type": "markdown",
   "metadata": {
    "id": "kr3p5vaXBds1"
   },
   "source": [
    "**b. Potential differential impact**\n",
    "\n",
    "The potential differential impact of this change for call and put options is that the call option price generally increases with increasing volatility, while the put option price generally decreases with increasing volatility. This is because higher volatility increases the probability of the underlying asset's price moving away from the strike price, which benefits the call option but hurts the put option. The difference in impact between the two options can be seen in their respective Vegas, where the call option has a higher Vega than the put option."
   ]
  },
  {
   "cell_type": "markdown",
   "metadata": {
    "id": "v4C-E1RPWl__"
   },
   "source": [
    "## **Question 3** - Put-Call parity - **Team member C**"
   ]
  },
  {
   "cell_type": "markdown",
   "metadata": {
    "id": "QX6h9l5NW4KN"
   },
   "source": [
    "**a. Put-Call parity check**\n"
   ]
  },
  {
   "cell_type": "markdown",
   "metadata": {
    "id": "M3yTXnn9dRQ8"
   },
   "source": [
    "Let’s sum up the prices and put-call parity for both Black-Scholes closed-form solution and Monte Carlo methods:"
   ]
  },
  {
   "cell_type": "code",
   "execution_count": 7,
   "metadata": {
    "colab": {
     "base_uri": "https://localhost:8080/"
    },
    "id": "uOQtJ0_vaCc4",
    "outputId": "e3e3313f-9838-45d2-b9ea-fed8a4b0ae55"
   },
   "outputs": [
    {
     "name": "stdout",
     "output_type": "stream",
     "text": [
      "+----+------+------+-------------+-----------------+----------------+-----------------+\n",
      "| Q# | Type | Exer | GWP2 Method | GWP2 Call Price | GWP2 Put Price | put-call parity |\n",
      "+----+------+------+-------------+-----------------+----------------+-----------------+\n",
      "| 1  | ATM  | Eur  |      BS     |       4.61      |      3.37      |      holds      |\n",
      "| 2  | ATM  | Eur  |      MC     |       4.61      |      3.39      |      holds      |\n",
      "+----+------+------+-------------+-----------------+----------------+-----------------+\n",
      "+----+----------+------+-------------+-------------+------------+------------+-------+\n",
      "| Q# |   Type   | Exer | GWP1 Method | GWP2 Method | GWP1 Price | GWP2 Price | %diff |\n",
      "+----+----------+------+-------------+-------------+------------+------------+-------+\n",
      "| 1  | ATM call | Eur  |   Binomial  |      BS     |    4.61    |    4.61    |  0.0  |\n",
      "| 1  | ATM put  | Eur  |   Binomial  |      BS     |    3.36    |    3.37    |  0.3  |\n",
      "| 2  | ATM call | Eur  |   Binomial  |      MC     |    4.61    |    4.61    |  0.0  |\n",
      "| 2  | ATM put  | Eur  |   Binomial  |      MC     |    3.36    |    3.39    |  0.89 |\n",
      "+----+----------+------+-------------+-------------+------------+------------+-------+\n"
     ]
    }
   ],
   "source": [
    "import numpy as np\n",
    "import scipy.stats as st\n",
    "import math\n",
    "from prettytable import PrettyTable\n",
    "\n",
    "# Parameters\n",
    "S0 = 100\n",
    "r = 0.05\n",
    "sigma = 0.20\n",
    "T = 3/12  # 3 months\n",
    "K = S0  # ATM option\n",
    "N = 100000\n",
    "M = 252\n",
    "\n",
    "# Calculating option prices\n",
    "bs_call_price = bs_call_european(S0, K, r, sigma, T)\n",
    "bs_put_price = bs_put_european(S0, K, r, sigma, T)\n",
    "bs_call_price = round(bs_call_price,2)\n",
    "bs_put_price = round(bs_put_price,2)\n",
    "mc_call_price = mc_call_european(S0, r, sigma, T, K, N, M)\n",
    "mc_put_price = mc_put_european(S0, r, sigma, T, K, N, M)\n",
    "mc_call_price = round(mc_call_price,2)\n",
    "mc_put_price = round(mc_put_price,2)\n",
    "# Prices from GWP1\n",
    "binomial_european_call_price = 4.61\n",
    "binomial_european_put_price = 3.36\n",
    "def diff_prices(price1, price2):\n",
    "    return round(abs((price1 - price2) / ((price1 + price2) / 2)) * 100,2)\n",
    "def check_put_call_parity(S0, K, r, T, call_price, put_price):\n",
    "    parity_diff = abs(call_price + K * math.exp(-r * T) - put_price - S0)\n",
    "    tolerance = 0.01 * S0  # 1% tolerance for difference between left and right sides \n",
    "    if parity_diff < tolerance:\n",
    "        return \"holds\"\n",
    "    else:\n",
    "        return \"does not hold\"\n",
    "    return\n",
    "# Print results in table\n",
    "table = PrettyTable()\n",
    "table.field_names = [\"Q#\",\"Type\",\"Exer\",\"GWP2 Method\",\"GWP2 Call Price\", \"GWP2 Put Price\", \"put-call parity\"]\n",
    "table.add_row([\"1\",\"ATM\",\"Eur\",\"BS\",bs_call_price,bs_put_price,check_put_call_parity(S0, K, r, T, bs_call_price, bs_put_price)])\n",
    "table.add_row([\"2\",\"ATM\",\"Eur\",\"MC\",mc_call_price,mc_put_price,check_put_call_parity(S0, K, r, T, mc_call_price, mc_put_price)])\n",
    "print(table)\n",
    "table = PrettyTable()\n",
    "table.field_names = [\"Q#\",\"Type\",\"Exer\",\"GWP1 Method\", \"GWP2 Method\", \"GWP1 Price\", \"GWP2 Price\", \"%diff\"]\n",
    "table.add_row([\"1\",\"ATM call\",\"Eur\",\"Binomial\",\"BS\",binomial_european_call_price,bs_call_price,diff_prices(bs_call_price,binomial_european_call_price)])\n",
    "table.add_row([\"1\",\"ATM put\",\"Eur\",\"Binomial\",\"BS\",binomial_european_put_price,bs_put_price,diff_prices(bs_put_price,binomial_european_put_price)])\n",
    "table.field_names = [\"Q#\",\"Type\",\"Exer\",\"GWP1 Method\", \"GWP2 Method\", \"GWP1 Price\", \"GWP2 Price\", \"%diff\"]\n",
    "table.add_row([\"2\",\"ATM call\",\"Eur\",\"Binomial\",\"MC\",binomial_european_call_price,mc_call_price,diff_prices(mc_call_price,binomial_european_call_price)])\n",
    "table.add_row([\"2\",\"ATM put\",\"Eur\",\"Binomial\",\"MC\",binomial_european_put_price,mc_put_price,diff_prices(mc_put_price,binomial_european_put_price)])\n",
    "print(table)"
   ]
  },
  {
   "cell_type": "markdown",
   "metadata": {
    "id": "t59yB3IudmzQ"
   },
   "source": [
    "Put-Call parity holds for both methods under the ATM case, as the difference between the call and put prices is very small."
   ]
  },
  {
   "cell_type": "markdown",
   "metadata": {
    "id": "GUYw9OTWdpUN"
   },
   "source": [
    "**b. Prices comparison**\n",
    "\n",
    "From the table, we can see that the prices obtained under the two methods differ slightly for both call and put options. The percentage differences are relatively small, indicating that the results from the two methods are relatively close. However, there is a slight difference in the price obtained from the two methods for both call and put options. The Black-Scholes model is a closed-form solution and uses a number of assumptions, such as constant volatility and risk-free rate, which may not always hold in practice. On the other hand, Monte Carlo simulation can be used to price more complex options, and can handle a wider range of underlying asset dynamics and option structures. The convergence of the two methods depends on the parameters used in the models, the level of accuracy desired, and the computational resources available. In general, Monte Carlo simulation can be more accurate than the Black-Scholes model, but it requires more computational resources and is slower. The convergence of the prices obtained using different methods depends on the accuracy and efficiency of the methods used. Usually, more accurate and efficient methods will produce prices that are closer to the true value of the option, and thus these prices will converge more quickly as the number of simulations or calculations increases. In the case of the two methods used here (binomial and Monte Carlo), the prices obtained for both the call and put options are quite close to each other, with differences ranging from 0.3% to 0.6%. This suggests that both methods are fairly accurate, and that they converge relatively quickly. One reason why the prices obtained using both methods may converge is that they are both based on similar assumptions and models. Both the binomial and Monte Carlo methods are based on the same basic option pricing model, which assumes that the underlying asset price follows a stochastic process (e.g., geometric Brownian motion), and that the option price can be calculated using a discounted expected value of the option payoff. Another reason why the prices obtained using both methods may converge is that they are both based on simulations or calculations that are designed to approximate the true value of the option. As the number of simulations or calculations increases, the approximation becomes more accurate, and the prices obtained using both methods become more similar."
   ]
  },
  {
   "cell_type": "markdown",
   "metadata": {
    "id": "lmnZl9tUelcm"
   },
   "source": [
    "#**STEP 2**\n",
    "---"
   ]
  },
  {
   "cell_type": "markdown",
   "metadata": {
    "id": "3n2mIaghf1lg"
   },
   "source": [
    "## Working with American Calls and Puts options under different pricing methods"
   ]
  },
  {
   "cell_type": "markdown",
   "metadata": {
    "id": "b4PlovVyiyKZ"
   },
   "source": [
    "## **Question 4** - American **Call** using Monte-Carlo and GBM - **Team member A**"
   ]
  },
  {
   "cell_type": "markdown",
   "metadata": {
    "id": "z02acO-GkT-v"
   },
   "source": [
    "### 4.1 Pricing American Call using Monte-Carlo methods under a general GBM equation "
   ]
  },
  {
   "cell_type": "markdown",
   "metadata": {
    "id": "yoqdSpTei8Oi"
   },
   "source": [
    "\n",
    "**a. Number of steps**\n",
    "\n",
    "For pricing an ATM American call using Monte-Carlo methods under a general Geometric Brownian Motion (GBM) equation with daily simulations, we need to choose the number of steps in the tree. Generally, the more steps we use, the more accurate our estimate will be, but the longer the simulation will take to run. A convenient number of steps to achieve reliable estimates is 252, which corresponds to the number of trading days in a year (excluding weekends). However, for American options, we need to take into account the possibility of early exercise, which can occur at any time during the option's life. Therefore, we may need to use more steps in the tree to capture the optimal exercise time accurately.\n",
    "\n",
    "**b. Overall pricing process**\n",
    "\n",
    "The overall process for pricing an ATM American call using Monte-Carlo methods under a general Geometric Brownian Motion (GBM) equation with daily simulations is similar to that for European options. The steps are as follows:\n",
    "\n",
    "1. Define the parameters: S0, r, σ, and T.\n",
    "2. Calculate the daily drift (μ) and volatility (v).\n",
    "3. Generate random stock prices at maturity using a Monte-Carlo simulation.\n",
    "4. Calculate the payoff of the option at maturity using the early exercise rule, which states that the option can be exercised if the stock price is greater than or equal to the strike price.\n",
    "5. Calculate the option price at each time step by taking the average of the discounted payoffs.\n",
    "6. Iterate backward in time from the option maturity date to the present to determine the optimal exercise time at each time step.\n",
    "7. Calculate the option price at each time step, taking into account the optimal exercise time.\n",
    "\n",
    "The reason for choosing a large number of steps in the tree is to capture the optimal exercise time accurately and to produce reliable estimates of the option price. In general, we may need to use more steps in the tree for American options than for European options to account for the possibility of early exercise. However, the number of steps required depends on the specific option and market conditions and may need to be determined empirically."
   ]
  },
  {
   "cell_type": "code",
   "execution_count": 8,
   "metadata": {
    "colab": {
     "base_uri": "https://localhost:8080/"
    },
    "id": "IemuYg0yrXNe",
    "outputId": "94c955c2-f403-4e75-ab09-ac6566532db4"
   },
   "outputs": [
    {
     "name": "stdout",
     "output_type": "stream",
     "text": [
      "+----+----------+------+-------------+-------------+------------+------------+-------+\n",
      "| Q# |   Type   | Exer | GWP1 Method | GWP2 Method | GWP1 Price | GWP2 Price | %diff |\n",
      "+----+----------+------+-------------+-------------+------------+------------+-------+\n",
      "| 4  | ATM call | Amer |   Binomial  |      MC     |    4.61    |    4.61    |  0.0  |\n",
      "+----+----------+------+-------------+-------------+------------+------------+-------+\n"
     ]
    }
   ],
   "source": [
    "import numpy as np\n",
    "import math\n",
    "from prettytable import PrettyTable\n",
    "from scipy.stats import norm\n",
    "\n",
    "def mc_call_american(S0, r, sigma, T, K, N, M):\n",
    "    # compute daily drift and volatility\n",
    "    dt = T / M\n",
    "    mu = r - 0.5 * sigma**2\n",
    "    daily_drift = mu * dt\n",
    "    daily_volatility = sigma * np.sqrt(dt)\n",
    "    # simulate stock price paths\n",
    "    S = np.zeros((N, M + 1))\n",
    "    S[:, 0] = S0\n",
    "    for i in range(M):\n",
    "        rand = np.random.randn(N)\n",
    "        S[:, i + 1] = S[:, i] * np.exp(daily_drift + daily_volatility * rand)\n",
    "        # check if early exercise is optimal\n",
    "        exercise_value = np.maximum(S[:, i + 1] - K, 0)\n",
    "        continuation_value = np.maximum(S[:, i] * np.exp(daily_drift + daily_volatility * rand) - K, 0)\n",
    "        S[:, i + 1] = np.where(exercise_value > continuation_value, exercise_value, S[:, i + 1])\n",
    "    # compute option prices\n",
    "    discount_factor = np.exp(-r * T)\n",
    "    payoff_call = np.maximum(S[:, -1] - K, 0)\n",
    "    price_call = discount_factor * np.mean(payoff_call)\n",
    "    return price_call\n",
    "\n",
    "def check_put_call_parity(S0, K, r, T, call_price, put_price):\n",
    "    parity_diff = abs(call_price + K * math.exp(-r * T) - put_price - S0)\n",
    "    tolerance = 0.01 * S0  # 1% tolerance for difference between left and right sides \n",
    "    if parity_diff < tolerance:\n",
    "        print(\"Put-Call Parity holds.\")\n",
    "    else:\n",
    "        print(\"Put-Call Parity does not hold.\")\n",
    "    return\n",
    "\n",
    "\n",
    "# Parameters\n",
    "S0 = 100  # current price of the underlying asset\n",
    "r = 0.05  # risk-free interest rate\n",
    "sigma = 0.2  # volatility of the underlying asset\n",
    "T = 0.25  # time to maturity in years\n",
    "K = 100  # strike price\n",
    "N = 100000 # simulations\n",
    "M = 252 # daily time steps\n",
    "\n",
    "# Calculating option prices\n",
    "call_price = mc_call_american(S0, r, sigma, T, K, N, M)\n",
    "call_price = round(call_price,2)\n",
    "# Prices from GWP1\n",
    "binomial_american_call_price = 4.61\n",
    "binomial_american_put_price = 3.47\n",
    "\n",
    "def diff_prices(price1, price2):\n",
    "    return round(abs((price1 - price2) / ((price1 + price2) / 2)) * 100,2)\n",
    "\n",
    "# Print results in table\n",
    "table = PrettyTable()\n",
    "table.field_names = [\"Q#\",\"Type\",\"Exer\",\"GWP1 Method\", \"GWP2 Method\", \"GWP1 Price\", \"GWP2 Price\", \"%diff\"]\n",
    "table.add_row([\"4\",\"ATM call\",\"Amer\",\"Binomial\",\"MC\",binomial_american_call_price,call_price,diff_prices(call_price,binomial_american_call_price)])\n",
    "print(table)\n",
    "# check_put_call_parity(S0, K, r, T, call_price, put_price)"
   ]
  },
  {
   "cell_type": "markdown",
   "metadata": {
    "id": "DIRd_eHxtYPD"
   },
   "source": [
    "### 4.2 Computing Greek Delta for American Call using Monte-Carlo methods under a general GBM equation"
   ]
  },
  {
   "cell_type": "markdown",
   "metadata": {
    "id": "ClAU75hEtYPE"
   },
   "source": [
    "**a. Comparison**\n",
    "\n",
    "Using Monte-Carlo methods under a general GBM equation, we can compute the Delta for an ATM American call using the same parameters:\n"
   ]
  },
  {
   "cell_type": "code",
   "execution_count": null,
   "metadata": {
    "colab": {
     "base_uri": "https://localhost:8080/"
    },
    "id": "B-ftrT4AtYPF",
    "outputId": "5f24895f-5baa-408b-eb69-38561e21e12a"
   },
   "outputs": [],
   "source": [
    "import numpy as np\n",
    "from scipy.stats import norm\n",
    "from prettytable import PrettyTable\n",
    "\n",
    "def mc_call_american_delta(S0, r, sigma, T, K, n_simulations, n_steps):\n",
    "    dt = T / n_steps\n",
    "    n = int(T * 252)\n",
    "    df = np.exp(-r * dt)\n",
    "    v = sigma**2 * dt\n",
    "    rfr = (r - 0.5 * v) * dt\n",
    "    S = np.zeros((n_simulations, n_steps + 1))\n",
    "    S[:, 0] = S0\n",
    "    for i in range(1, n_steps + 1):\n",
    "        rn = np.random.normal(size=n_simulations)\n",
    "        S[:, i] = S[:, i - 1] * np.exp(rfr + np.sqrt(v) * rn)\n",
    "        early_exercise = np.maximum(S[:, i] - K, 0)\n",
    "        for j in range(i - 1, -1, -1):\n",
    "            continuation_value = np.exp(-r * (j + 1) * dt) * np.mean(early_exercise)\n",
    "            early_exercise = np.maximum(S[:, j] - K, 0)\n",
    "            early_exercise[early_exercise >= continuation_value] = 0\n",
    "        early_exercise[early_exercise == 0] = np.nan\n",
    "        S[:, i] = np.nanmax(np.column_stack((S[:, i], early_exercise)), axis=1)\n",
    "    payoff_call = np.maximum(S[:, -1] - K, 0)\n",
    "    price_call = df * np.mean(payoff_call)\n",
    "    delta_call = df * np.mean(norm.cdf((np.log(S[:, -1] / K) + (r + 0.5 * sigma**2) * T) / (sigma * np.sqrt(T))))\n",
    "    return delta_call\n",
    "\n",
    "# Parameters\n",
    "S0 = 100  # current price of the underlying asset\n",
    "r = 0.05  # risk-free interest rate\n",
    "sigma = 0.2  # volatility of the underlying asset\n",
    "T = 0.25  # time to maturity in years\n",
    "K = S0  # strike price\n",
    "N = 100000 # simulations\n",
    "M = 252 # daily time steps\n",
    "\n",
    "# Calculating delta\n",
    "call_delta = mc_call_american_delta(S0, r, sigma, T, K, N, M)\n",
    "call_delta = round(call_delta,2)\n",
    "\n",
    "# Delta from GWP1\n",
    "binomial_american_call_delta = 0.57\n",
    "binomial_american_put_delta = 0\n",
    "\n",
    "def diff_prices(price1, price2):\n",
    "    return round(abs((price1 - price2) / ((price1 + price2) / 2)) * 100,2)\n",
    "\n",
    "# Print results in table\n",
    "table = PrettyTable()\n",
    "table.field_names = [\"Q#\",\"Type\",\"Exer\",\"GWP1 Method\", \"GWP2 Method\", \"GWP1 Price\", \"GWP2 Price\", \"%diff\"]\n",
    "table.add_row([\"4\",\"Delta call\",\"Amer\",\"Binomial\",\"MC\",binomial_american_call_delta,call_delta,diff_prices(call_delta,binomial_american_call_delta)])\n",
    "print(table)"
   ]
  },
  {
   "cell_type": "markdown",
   "metadata": {
    "id": "WhFJZ4YhtYPG"
   },
   "source": [
    "Comparing the Monte Carlo Delta of an ATM American call option and an ATM American put option does not apply here. Instead we can compare the call price for the 2 methods (GWP1 and GWP2). Based on the comparison between the GWP1 Price and GWP2 Price, we can conclude that the Monte Carlo method (GWP2) results in a slightly higher price for the Delta call option compared to the binomial method (GWP1). The %diff column in the table shows that the difference between the two prices is around 3.51%. The reason for this difference is likely due to the different assumptions and techniques used by the two pricing methods. The binomial model assumes that the underlying asset price can only move up or down in discrete steps, while the Monte Carlo method models the underlying asset price as a continuous stochastic process. The Monte Carlo method can also handle more complex payoff structures and is generally considered more accurate, but it can be computationally intensive and requires more simulations to achieve a high level of accuracy."
   ]
  },
  {
   "cell_type": "markdown",
   "metadata": {
    "id": "jFCSXHvptYPH"
   },
   "source": [
    "**b. Differences and signs of Delta for both options**\n",
    "\n",
    "The delta is positive here. A positive delta for a call option indicates that the option price is expected to increase as the underlying asset price increases, while a negative delta for a put option indicates that the option price is expected to decrease as the underlying asset price increases."
   ]
  },
  {
   "cell_type": "markdown",
   "metadata": {
    "id": "tIf9mHrx2mGt"
   },
   "source": [
    "### 4.3 Understanding Option Sensitivities using Monte-Carlo methods under a general GBM equation"
   ]
  },
  {
   "cell_type": "markdown",
   "metadata": {
    "id": "T4kSMZcb2mGu"
   },
   "source": [
    "**a. Increasing option sensitivities**\n",
    "\n",
    "To compute the sensitivity of the previous call option price to a 5% increase in volatility, we can first calculate the option price using the original parameters (S0=100, r=5%, σ=20%, T=3 months) and then calculate the option price again using a new volatility of 25% while keeping all other parameters constant. We can then calculate the difference in option prices between the two scenarios and divide by the original option price to obtain the sensitivity, or Vega.\n",
    "\n",
    "We can implement this using the following Python code:"
   ]
  },
  {
   "cell_type": "code",
   "execution_count": null,
   "metadata": {
    "colab": {
     "base_uri": "https://localhost:8080/"
    },
    "id": "HIGKr5qf2mGv",
    "outputId": "4ccc9af4-1c75-4e60-da4e-c476afa9eb39"
   },
   "outputs": [],
   "source": [
    "from prettytable import PrettyTable\n",
    "import numpy as np\n",
    "import math\n",
    "from scipy.stats import norm\n",
    "\n",
    "# Parameters\n",
    "S0 = 100\n",
    "K = S0\n",
    "r = 0.05\n",
    "sigma_20 = 0.20\n",
    "sigma_25 = 0.25\n",
    "T = 0.25\n",
    "N = 100000 # simulations\n",
    "M = 252 # daily time steps\n",
    "\n",
    "# Calculating call option\n",
    "mc_call_price_20 = round(mc_call_american(S0, r, sigma_20, T, K, N, M), 2)\n",
    "mc_call_price_25 = round(mc_call_american(S0, r, sigma_25, T, K, N, M), 2)\n",
    "\n",
    "# Vega from GWP1\n",
    "binomial_american_call_price_20 = 4.61\n",
    "binomial_american_put_price_20 = 3.36\n",
    "binomial_american_call_price_25 = 5.59\n",
    "binomial_american_put_price_25 = 4.34\n",
    "\n",
    "# Print results in table\n",
    "table = PrettyTable()\n",
    "table.field_names = [\"Q#\",\"Type\",\"Exer\",\"GWP1 Method\", \"GWP2 Method\", \"GWP1 Price\", \"GWP2 Price\", \"%diff\"]\n",
    "table.add_row([\"4\",\"Vega call 20%\",\"Amer\",\"Binomial\",\"MC\",binomial_american_call_price_20, mc_call_price_20, diff_prices(binomial_american_call_price_20, mc_call_price_20)])\n",
    "table.add_row([\"4\",\"Vega call 25%\",\"Amer\",\"Binomial\",\"MC\",binomial_american_call_price_25, mc_call_price_25, diff_prices(binomial_american_call_price_25, mc_call_price_25)])\n",
    "print(table)"
   ]
  },
  {
   "cell_type": "markdown",
   "metadata": {
    "id": "Jc7n-A9a2mGw"
   },
   "source": [
    "From the table above, we can see that the Vega for the call option increased from 4.61 to 5.58 as the volatility increased from 20% to 25%. The option price also increased as the volatility increased."
   ]
  },
  {
   "cell_type": "markdown",
   "metadata": {
    "id": "Y_1x283e2mGx"
   },
   "source": [
    "**b. Potential differential impact**\n",
    "\n",
    "The potential differential impact of this change for call option is that the call option price generally increases with increasing volatility. This is because higher volatility increases the probability of the underlying asset's price moving away from the strike price, which benefits the call option."
   ]
  },
  {
   "cell_type": "markdown",
   "metadata": {
    "id": "BW5vwQe5vGU0"
   },
   "source": [
    "## **Question 5** - American **Put** using Monte-Carlo and GBM - **Team member B**"
   ]
  },
  {
   "cell_type": "markdown",
   "metadata": {
    "id": "x_e1xzXwvheT"
   },
   "source": [
    "### 5.1 Pricing American Put using Monte-Carlo methods under a general GBM equation "
   ]
  },
  {
   "cell_type": "markdown",
   "metadata": {
    "id": "ZvEGtPohvheU"
   },
   "source": [
    "\n",
    "**a. Number of steps**\n",
    "\n",
    "For pricing an ATM American put using Monte-Carlo methods under a general Geometric Brownian Motion (GBM) equation with daily simulations, we also need to choose the number of steps in the tree. Like with American calls, the more steps we use, the more accurate our estimate will be, but the longer the simulation will take to run. We need to take into account the possibility of early exercise, which can occur at any time during the option's life. Therefore, we may need to use more steps in the tree to capture the optimal exercise time accurately.\n",
    "\n",
    "**b. Overall pricing process**\n",
    "\n",
    "The overall process for pricing an ATM American put using Monte-Carlo methods under a general Geometric Brownian Motion (GBM) equation with daily simulations is similar to that for American calls. The steps are as follows:\n",
    "\n",
    "1. Define the parameters: S0, r, σ, and T.\n",
    "2. Calculate the daily drift (μ) and volatility (v).\n",
    "3. Generate random stock prices at maturity using a Monte-Carlo simulation.\n",
    "4. Calculate the payoff of the option at maturity using the early exercise rule, which states that the option can be exercised if the stock price is less than or equal to the strike price.\n",
    "5. Calculate the option price at each time step by taking the average of the discounted payoffs.\n",
    "6. Iterate backward in time from the option maturity date to the present to determine the optimal exercise time at each time step.\n",
    "7. Calculate the option price at each time step, taking into account the optimal exercise time.\n",
    "\n",
    "Like with American calls, the reason for choosing a large number of steps in the tree is to capture the optimal exercise time accurately and to produce reliable estimates of the option price. In general, we may need to use more steps in the tree for American puts than for European options to account for the possibility of early exercise. However, the number of steps required depends on the specific option and market conditions and may need to be determined empirically."
   ]
  },
  {
   "cell_type": "code",
   "execution_count": null,
   "metadata": {
    "colab": {
     "base_uri": "https://localhost:8080/"
    },
    "id": "YNt2wbq6vheV",
    "outputId": "c495a647-ec6b-4437-edb3-2a24694b0f61"
   },
   "outputs": [],
   "source": [
    "import numpy as np\n",
    "import math\n",
    "from prettytable import PrettyTable\n",
    "from scipy.stats import norm\n",
    "\n",
    "def mc_put_american(S0, r, sigma, T, K, N, M):\n",
    "    # compute daily drift and volatility\n",
    "    dt = T / M\n",
    "    mu = r - 0.5 * sigma**2\n",
    "    daily_drift = mu * dt\n",
    "    daily_volatility = sigma * np.sqrt(dt)\n",
    "    # simulate stock price paths\n",
    "    S = np.zeros((N, M + 1))\n",
    "    S[:, 0] = S0\n",
    "    for i in range(M):\n",
    "        rand = np.random.randn(N)\n",
    "        S[:, i + 1] = S[:, i] * np.exp(daily_drift + daily_volatility * rand)\n",
    "        # check if early exercise is optimal\n",
    "        exercise_value = np.maximum(K - S[:, i + 1], 0)\n",
    "        continuation_value = np.maximum(K - S[:, i] * np.exp(daily_drift + daily_volatility * rand), 0)\n",
    "        S[:, i + 1] = np.where(exercise_value > continuation_value, exercise_value, S[:, i + 1])\n",
    "    # compute option prices\n",
    "    discount_factor = np.exp(-r * T)\n",
    "    payoff_put = np.maximum(K - S[:, -1], 0)\n",
    "    price_put = discount_factor * np.mean(payoff_put)\n",
    "    return price_put\n",
    "\n",
    "def check_put_call_parity(S0, K, r, T, call_price, put_price):\n",
    "    parity_diff = abs(call_price + K * math.exp(-r * T) - put_price - S0)\n",
    "    tolerance = 0.01 * S0  # 1% tolerance for difference between left and right sides \n",
    "    if parity_diff < tolerance:\n",
    "        print(\"Put-Call Parity holds.\")\n",
    "    else:\n",
    "        print(\"Put-Call Parity does not hold.\")\n",
    "    return\n",
    "\n",
    "\n",
    "# Parameters\n",
    "S0 = 100  # current price of the underlying asset\n",
    "r = 0.05  # risk-free interest rate\n",
    "sigma = 0.2  # volatility of the underlying asset\n",
    "T = 0.25  # time to maturity in years\n",
    "K = 100  # strike price\n",
    "N = 100000 # simulations\n",
    "M = 252 # daily time steps\n",
    "\n",
    "# Calculating option prices\n",
    "call_price = mc_call_american(S0, r, sigma, T, K, N, M)\n",
    "put_price = mc_put_american(S0, r, sigma, T, K, N, M)\n",
    "call_price = round(call_price,2)\n",
    "put_price = round(put_price,2)\n",
    "# Prices from GWP1\n",
    "binomial_american_call_price = 4.61\n",
    "binomial_american_put_price = 3.47\n",
    "\n",
    "def diff_prices(price1, price2):\n",
    "    return round(abs((price1 - price2) / ((price1 + price2) / 2)) * 100,2)\n",
    "\n",
    "# Print results in table\n",
    "table = PrettyTable()\n",
    "table.field_names = [\"Q#\",\"Type\",\"Exer\",\"GWP1 Method\", \"GWP2 Method\", \"GWP1 Price\", \"GWP2 Price\", \"%diff\"]\n",
    "table.add_row([\"5\",\"ATM put\",\"Amer\",\"Binomial\",\"MC\",binomial_american_put_price,put_price,diff_prices(put_price,binomial_american_put_price)])\n",
    "print(table)\n",
    "check_put_call_parity(S0, K, r, T, call_price, put_price)"
   ]
  },
  {
   "cell_type": "markdown",
   "metadata": {
    "id": "CjiVyxwrvheY"
   },
   "source": [
    "### 5.2 Computing Greek Delta for American Put using Monte-Carlo methods under a general GBM equation"
   ]
  },
  {
   "cell_type": "markdown",
   "metadata": {
    "id": "Zwps9Lj3vheZ"
   },
   "source": [
    "**a. Comparison**\n",
    "\n",
    "Using Monte-Carlo methods under a general GBM equation, we can compute the Delta for an ATM American put using the same parameters:\n"
   ]
  },
  {
   "cell_type": "code",
   "execution_count": null,
   "metadata": {
    "colab": {
     "base_uri": "https://localhost:8080/"
    },
    "id": "kzgyMcO9vhec",
    "outputId": "86f03a95-c996-4ba9-c55e-b53b073bd4a3"
   },
   "outputs": [],
   "source": [
    "import numpy as np\n",
    "from scipy.stats import norm\n",
    "from prettytable import PrettyTable\n",
    "\n",
    "def mc_put_american_delta(S0, r, sigma, T, K, n_simulations, n_steps):\n",
    "    dt = T / n_steps\n",
    "    n = int(T * 252)\n",
    "    df = np.exp(-r * dt)\n",
    "    v = sigma**2 * dt\n",
    "    rfr = (r - 0.5 * v) * dt\n",
    "    S = np.zeros((n_simulations, n_steps + 1))\n",
    "    S[:, 0] = S0\n",
    "    for i in range(1, n_steps + 1):\n",
    "        rn = np.random.normal(size=n_simulations)\n",
    "        S[:, i] = S[:, i - 1] * np.exp(rfr + np.sqrt(v) * rn)\n",
    "        early_exercise = np.maximum(K - S[:, i], 0)\n",
    "        for j in range(i - 1, -1, -1):\n",
    "            continuation_value = np.exp(-r * (j + 1) * dt) * np.mean(early_exercise)\n",
    "            early_exercise = np.maximum(K - S[:, j], 0)\n",
    "            early_exercise[early_exercise >= continuation_value] = 0\n",
    "        early_exercise[early_exercise == 0] = np.nan\n",
    "        S[:, i] = np.nanmax(np.column_stack((S[:, i], early_exercise)), axis=1)\n",
    "    payoff_put = np.maximum(K - S[:, -1], 0)\n",
    "    price_put = df * np.mean(payoff_put)\n",
    "    delta_put = df * np.mean(norm.cdf((np.log(S[:, -1] / K) + (r - 0.5 * sigma**2) * T) / (sigma * np.sqrt(T))) - 1)\n",
    "    return delta_put\n",
    "\n",
    "# Parameters\n",
    "S0 = 100  # current price of the underlying asset\n",
    "r = 0.05  # risk-free interest rate\n",
    "sigma = 0.2  # volatility of the underlying asset\n",
    "T = 0.25  # time to maturity in years\n",
    "K = S0  # strike price\n",
    "N = 100000 # simulations\n",
    "M = 252 # daily time steps\n",
    "\n",
    "# Calculating delta\n",
    "put_delta = mc_put_american_delta(S0, r, sigma, T, K, N, M)\n",
    "put_delta = round(put_delta,2)\n",
    "\n",
    "# Delta from GWP1\n",
    "binomial_american_call_delta = 0.57\n",
    "binomial_american_put_delta = 0\n",
    "\n",
    "def diff_prices(price1, price2):\n",
    "    return round(abs((price1 - price2) / ((price1 + price2) / 2)) * 100,2)\n",
    "\n",
    "# Print results in table\n",
    "table = PrettyTable()\n",
    "table.field_names = [\"Q#\",\"Type\",\"Exer\",\"GWP1 Method\", \"GWP2 Method\", \"GWP1 Price\", \"GWP2 Price\", \"%diff\"]\n",
    "table.add_row([\"5\",\"Delta put\",\"Amer\",\"Binomial\",\"MC\",binomial_american_put_delta,put_delta,diff_prices(put_delta,binomial_american_put_delta)])\n",
    "print(table)"
   ]
  },
  {
   "cell_type": "markdown",
   "metadata": {
    "id": "Vc8OThJCvhee"
   },
   "source": [
    "Comparing the Monte Carlo Delta of an ATM American put option and an ATM American call option does not apply here. Instead we can compare the call price for the 2 methods (GWP1 and GWP2). Based on the comparison between the GWP1 Price and GWP2 Price, we can see that the %diff value is not meaningful because it involves division by zero. This is because the GWP1 Price for the Delta put option is 0, which means that the binomial method did not provide a valid price estimate for this option. One possible reason for this could be that the binomial method may not be able to handle certain complex payoff structures or pricing scenarios. On the other hand, the Monte Carlo method can handle more complex scenarios and is generally considered more accurate, but it can be computationally intensive and requires more simulations to achieve a high level of accuracy. Therefore, in this case, we can say that the Monte Carlo method (GWP2) was able to provide a valid price estimate for the Delta put option, while the binomial method (GWP1) did not. This highlights the importance of using appropriate pricing methods for different types of options and scenarios."
   ]
  },
  {
   "cell_type": "markdown",
   "metadata": {
    "id": "yB12mSitvhee"
   },
   "source": [
    "**b. Differences and signs of Delta**\n",
    "\n",
    "Delta is always negative for put options. The differences in delta for put options depend on various factors, such as the strike price, the time to expiration, and the volatility of the underlying asset. Delta is often used as a proxy for the probability that the option will expire in-the-money. For put options, a higher absolute value of delta indicates a higher probability of the option being profitable at expiration. A negative delta for a put option indicates that the option price is expected to decrease as the underlying asset price increases. This makes sense because put options profit from downward movements in the underlying asset price. As the asset price decreases, the put option becomes more valuable, which is reflected in the decreasing delta value."
   ]
  },
  {
   "cell_type": "markdown",
   "metadata": {
    "id": "ykNRkUkqlNAV"
   },
   "source": [
    "### 5.3 Understanding Option Sensitivities using Monte-Carlo methods under a general GBM equation"
   ]
  },
  {
   "cell_type": "markdown",
   "metadata": {
    "id": "NVtrq4IflNAW"
   },
   "source": [
    "**a. Increasing option sensitivities**\n",
    "\n",
    "To compute the sensitivity of the previous put option price to a 5% increase in volatility, we can first calculate the option price using the original parameters (S0=100, r=5%, σ=20%, T=3 months) and then calculate the option price again using a new volatility of 25% while keeping all other parameters constant. We can then calculate the difference in option prices between the two scenarios and divide by the original option price to obtain the sensitivity, or Vega.\n",
    "\n",
    "We can implement this using the following Python code:"
   ]
  },
  {
   "cell_type": "code",
   "execution_count": null,
   "metadata": {
    "colab": {
     "base_uri": "https://localhost:8080/"
    },
    "id": "Q4SwVjcylNAX",
    "outputId": "604a3bec-2541-4d90-975b-664509b1e0ba"
   },
   "outputs": [],
   "source": [
    "from prettytable import PrettyTable\n",
    "import numpy as np\n",
    "import math\n",
    "from scipy.stats import norm\n",
    "\n",
    "# Parameters\n",
    "S0 = 100\n",
    "K = S0\n",
    "r = 0.05\n",
    "sigma_20 = 0.20\n",
    "sigma_25 = 0.25\n",
    "T = 0.25\n",
    "N = 100000 # simulations\n",
    "M = 252 # daily time steps\n",
    "\n",
    "# Calculating call and put options\n",
    "mc_put_price_20 = round(mc_put_american(S0, r, sigma_20, T, K, N, M), 2)\n",
    "mc_put_price_25 = round(mc_put_american(S0, r, sigma_25, T, K, N, M), 2)\n",
    "\n",
    "# Vega from GWP1\n",
    "binomial_american_call_price_20 = 4.61\n",
    "binomial_american_put_price_20 = 3.36\n",
    "binomial_american_call_price_25 = 5.59\n",
    "binomial_american_put_price_25 = 4.34\n",
    "\n",
    "# Print results in table\n",
    "table = PrettyTable()\n",
    "table.field_names = [\"Q#\",\"Type\",\"Exer\",\"GWP1 Method\", \"GWP2 Method\", \"GWP1 Price\", \"GWP2 Price\", \"%diff\"]\n",
    "table.add_row([\"5\",\"Vega put 20%\",\"Amer\",\"Binomial\",\"MC\",binomial_american_put_price_20, mc_put_price_20, diff_prices(binomial_american_put_price_20, mc_put_price_20)])\n",
    "table.add_row([\"5\",\"Vega put 25%\",\"Amer\",\"Binomial\",\"MC\",binomial_american_put_price_25, mc_put_price_25, diff_prices(binomial_american_put_price_25, mc_put_price_25)])\n",
    "print(table)\n",
    "check_put_call_parity(S0, K, r, T, mc_call_price_20, mc_put_price_20)\n",
    "check_put_call_parity(S0, K, r, T, mc_call_price_25, mc_put_price_25)"
   ]
  },
  {
   "cell_type": "markdown",
   "metadata": {
    "id": "RLEH71EvlNAq"
   },
   "source": [
    "From the table above, we can see that the Vega for the put option increased from 3.37 to 4.37, as the volatility increased from 20% to 25%. The option prices also increased as the volatility increased."
   ]
  },
  {
   "cell_type": "markdown",
   "metadata": {
    "id": "_9OF2loclNAr"
   },
   "source": [
    "**b. Potential differential impact**\n",
    "\n",
    "The potential differential impact of a 5% increase in volatility on option prices may depend on the calculation method used. However, in general, higher Vega sensitivities are likely to result in larger price changes compared to lower Vega sensitivities. Therefore, the Vega sensitivity of options should be carefully considered when assessing the potential impact of changes in volatility on option prices."
   ]
  },
  {
   "cell_type": "markdown",
   "metadata": {
    "id": "Dk1mxZCiPC8D"
   },
   "source": [
    "## **Question 6** - American Options pricing and moneyness - **Team member C**"
   ]
  },
  {
   "cell_type": "markdown",
   "metadata": {
    "id": "kAAo5oulWEId"
   },
   "source": [
    "**a. Pricing 5 strike prices American Options using Monte-Carlo**\n",
    "\n",
    "Let’s take 5 strike prices so that Call options are: Deep OTM, OTM, ATM, ITM, & Deep ITM respectively 90, 95, 100, 105, 110."
   ]
  },
  {
   "cell_type": "code",
   "execution_count": null,
   "metadata": {
    "colab": {
     "base_uri": "https://localhost:8080/"
    },
    "id": "uyVthFfYWfVK",
    "outputId": "e6cd0fdb-7cfb-4795-ce7e-60e3e4bba8a5"
   },
   "outputs": [],
   "source": [
    "import numpy as np\n",
    "import math\n",
    "from prettytable import PrettyTable\n",
    "from scipy.stats import norm\n",
    "\n",
    "# Parameters\n",
    "S0 = 100  # current price of the underlying asset\n",
    "r = 0.05  # risk-free interest rate\n",
    "sigma = 0.2  # volatility of the underlying asset\n",
    "T = 0.25  # time to maturity in years\n",
    "N = 100000 # simulations\n",
    "M = 252 # daily time steps\n",
    "\n",
    "# Parameters\n",
    "strikes = [90, 95, 100, 105, 110]\n",
    "N = 100000  # number of simulations\n",
    "M = 252  # number of time steps\n",
    "prices_call = []\n",
    "prices_put = []\n",
    "\n",
    "GWP1_Deep_OTM_American_call=16.7\n",
    "GWP1_OTM_American_call=13.35\n",
    "GWP1_ATM_American_call=10.44\n",
    "GWP1_ITM_American_call=8.03\n",
    "GWP1_Deep_ITM_American_call=6.05\n",
    "GWP1_Deep_OTM_American_put=90.0\n",
    "GWP1_OTM_American_put=95.0\n",
    "GWP1_ATM_American_put=100.0\n",
    "GWP1_ITM_American_put=105.0\n",
    "GWP1_Deep_ITM_American_put=110.0\n",
    "\n",
    "def diff_prices(price1, price2):\n",
    "    return round(abs((price1 - price2) / ((price1 + price2) / 2)) * 100,2)\n",
    "\n",
    "# Calculate option prices for each strike\n",
    "for K in strikes:\n",
    "    # Calculate call option price\n",
    "    call_price = mc_call_american(S0, r, sigma, T, K, N, M)\n",
    "    prices_call.append(round(call_price, 2))\n",
    "    \n",
    "    # Calculate put option price\n",
    "    put_price = mc_put_american(S0, r, sigma, T, K, N, M)\n",
    "    prices_put.append(round(put_price, 2))\n",
    "\n",
    "# Print results in table\n",
    "table = PrettyTable()\n",
    "table.field_names = [\"Q#\",\"Type\",\"Exer\",\"Strike\",\"GWP1 Method\", \"GWP2 Method\", \"GWP1 Price\", \"GWP2 Price\", \"%diff\"]\n",
    "table.add_row([\"6\",\"Deep OTM call\",strikes[0],\"Amer\",\"Trinomial\",\"MC\",GWP1_Deep_OTM_American_call,prices_call[0],diff_prices(GWP1_Deep_OTM_American_call,prices_call[0])])\n",
    "table.add_row([\"6\",\"OTM call\",strikes[1],\"Amer\",\"Trinomial\",\"MC\",GWP1_OTM_American_call,prices_call[1],diff_prices(GWP1_OTM_American_call,prices_call[1])])\n",
    "table.add_row([\"6\",\"ATM call\",strikes[2],\"Amer\",\"Trinomial\",\"MC\",GWP1_ATM_American_call,prices_call[2],diff_prices(GWP1_ATM_American_call,prices_call[2])])\n",
    "table.add_row([\"6\",\"ITM call\",strikes[3],\"Amer\",\"Trinomial\",\"MC\",GWP1_ITM_American_call,prices_call[3],diff_prices(GWP1_ITM_American_call,prices_call[3])])\n",
    "table.add_row([\"6\",\"Deep ITM call\",strikes[4],\"Amer\",\"Trinomial\",\"MC\",GWP1_Deep_ITM_American_call,prices_call[4],diff_prices(GWP1_Deep_ITM_American_call,prices_call[4])])\n",
    "table.add_row([\"6\",\"Deep OTM put\",strikes[0],\"Amer\",\"Trinomial\",\"MC\",GWP1_Deep_OTM_American_put,prices_put[0],diff_prices(GWP1_Deep_OTM_American_put,prices_put[0])])\n",
    "table.add_row([\"6\",\"OTM put\",strikes[1],\"Amer\",\"Trinomial\",\"MC\",GWP1_OTM_American_put,prices_put[1],diff_prices(GWP1_OTM_American_put,prices_put[1])])\n",
    "table.add_row([\"6\",\"ATM put\",strikes[2],\"Amer\",\"Trinomial\",\"MC\",GWP1_ATM_American_put,prices_put[2],diff_prices(GWP1_ATM_American_put,prices_put[2])])\n",
    "table.add_row([\"6\",\"ITM put\",strikes[3],\"Amer\",\"Trinomial\",\"MC\",GWP1_ITM_American_put,prices_put[3],diff_prices(GWP1_ITM_American_put,prices_put[3])])\n",
    "table.add_row([\"6\",\"Deep ITM put\",strikes[4],\"Amer\",\"Trinomial\",\"MC\",GWP1_Deep_ITM_American_put,prices_put[4],diff_prices(GWP1_Deep_ITM_American_put,prices_put[4])])\n",
    "print(table)\n"
   ]
  },
  {
   "cell_type": "markdown",
   "metadata": {
    "id": "x2ioQgJmeEor"
   },
   "source": [
    "Looking at the results for GWP2, we can observe that the option prices generally decrease as we move from deep OTM to deep ITM options. This trend is expected and makes sense, as deep ITM options have a higher probability of being exercised, and therefore have a higher intrinsic value. On the other hand, deep OTM options have a lower probability of being exercised, and therefore have a lower intrinsic value. This is reflected in the option prices obtained from the Monte Carlo simulation, where the deep ITM options have the highest prices and the deep OTM options have the lowest prices. Overall, the trend in option prices as we move from deep OTM to deep ITM options is consistent with our expectations and reflects the underlying probabilities of option exercise."
   ]
  },
  {
   "cell_type": "markdown",
   "metadata": {
    "id": "r6x5zQEljVku"
   },
   "source": [
    "**b. Option Price vs Moneyness for American Options**"
   ]
  },
  {
   "cell_type": "code",
   "execution_count": null,
   "metadata": {
    "colab": {
     "base_uri": "https://localhost:8080/",
     "height": 573
    },
    "id": "DUuwOelWjV2C",
    "outputId": "9ce4ad22-e4d7-452d-a686-cb8d3de06591"
   },
   "outputs": [],
   "source": [
    "import numpy as np\n",
    "import matplotlib.pyplot as plt\n",
    "\n",
    "# Option data\n",
    "strikes = [90, 95, 100, 105, 110]\n",
    "call_prices = [11.66, 7.72, 4.6, 2.47, 1.2]\n",
    "put_prices = [0.55, 1.54, 3.34, 6.17, 9.83]\n",
    "\n",
    "# Calculate moneyness\n",
    "spot_price = 100\n",
    "moneyness = np.array(strikes) / spot_price\n",
    "\n",
    "# Plot call option prices vs. moneyness\n",
    "plt.plot(moneyness, call_prices, label='Call Options')\n",
    "plt.xlabel('Moneyness')\n",
    "plt.ylabel('Option Price')\n",
    "plt.title('GWP2 Call Option Prices vs. Moneyness')\n",
    "plt.legend()\n",
    "plt.show()\n",
    "\n",
    "# Plot put option prices vs. moneyness\n",
    "plt.plot(moneyness, put_prices, label='Put Options')\n",
    "plt.xlabel('Moneyness')\n",
    "plt.ylabel('Option Price')\n",
    "plt.title('GWP2 Put Option Prices vs. Moneyness')\n",
    "plt.legend()\n",
    "plt.show()\n"
   ]
  },
  {
   "cell_type": "markdown",
   "metadata": {
    "id": "AH6odKxQkth2"
   },
   "source": [
    "The relationship between option prices and moneyness is different for call and put options. In particular, call options tend to decrease in price as the strike price moves further away from the current spot price, while put options tend to increase in price. This is due to the fact that the value of a call option increases as the underlying asset's price increases, while the value of a put option increases as the underlying asset's price decreases. Thus, as the strike price moves further away from the current spot price, the probability of the option ending up in-the-money decreases for call options and increases for put options, leading to the observed trends in the option prices."
   ]
  },
  {
   "cell_type": "markdown",
   "metadata": {
    "id": "4MiQ6MGCmHLP"
   },
   "source": [
    "#**STEP 3**\n",
    "---"
   ]
  },
  {
   "cell_type": "markdown",
   "metadata": {
    "id": "ylavMkQdmuGL"
   },
   "source": [
    "## Working with hedging under Black-Scholes for European options"
   ]
  },
  {
   "cell_type": "markdown",
   "metadata": {
    "id": "wAc1LmR2mtHv"
   },
   "source": []
  },
  {
   "cell_type": "markdown",
   "metadata": {
    "id": "MZt4wsVwm6z_"
   },
   "source": [
    "## **Question 7** - European option - **Team member A**"
   ]
  },
  {
   "cell_type": "markdown",
   "metadata": {
    "id": "IraQXa3stJtX"
   },
   "source": [
    "**a. Pricing an European options with different moneyness using Black-Scholes**\n",
    "\n",
    "Let’s calculate the price of a 3-month European Call option with 110% moneyness and a 3-month European Put option with 95% moneyness using the Black-Scholes model."
   ]
  },
  {
   "cell_type": "code",
   "execution_count": null,
   "metadata": {
    "colab": {
     "base_uri": "https://localhost:8080/"
    },
    "id": "T7ZSD0POokuB",
    "outputId": "89a22756-dd06-49dc-9e03-ed574dc7541a"
   },
   "outputs": [],
   "source": [
    "import numpy as np\n",
    "from scipy.stats import norm\n",
    "import math\n",
    "from prettytable import PrettyTable\n",
    "\n",
    "# Inputs\n",
    "S = 100   # Spot price\n",
    "K1 = 110*S/100  # Strike price of the call option\n",
    "K2 = 95*S/100   # Strike price of the put option\n",
    "r = 0.05  # Risk-free interest rate\n",
    "sigma = 0.2  # Volatility\n",
    "T = 3/12  # Time to maturity in years\n",
    "\n",
    "# Black-Scholes formula for European Call option\n",
    "d1 = (np.log(S/K1) + (r + 0.5*sigma**2)*T) / (sigma*np.sqrt(T))\n",
    "d2 = d1 - sigma*np.sqrt(T)\n",
    "call_price = S*norm.cdf(d1) - K1*np.exp(-r*T)*norm.cdf(d2)\n",
    "\n",
    "# Black-Scholes formula for European Put option\n",
    "d1 = (np.log(S/K2) + (r + 0.5*sigma**2)*T) / (sigma*np.sqrt(T))\n",
    "d2 = d1 - sigma*np.sqrt(T)\n",
    "put_price = K2*np.exp(-r*T)*norm.cdf(-d2) - S*norm.cdf(-d1)\n",
    "\n",
    "# Print results in table\n",
    "table = PrettyTable()\n",
    "table.field_names = [\"Q#\",\"Type\",\"Exer\",\"Method\",\"Strike\", \"Price\"]\n",
    "table.add_row([\"7\",\"call\",\"Eur\",\"BS\", K1, round(call_price,2)])\n",
    "table.add_row([\"7\",\"put\",\"Eur\",\"BS\", K2, round(put_price,2)])\n",
    "print(table)\n"
   ]
  },
  {
   "cell_type": "markdown",
   "metadata": {
    "id": "uh6A97Y0s7cl"
   },
   "source": [
    "**b. Building a portfolio from the previous options**\n",
    "\n",
    "To calculate the delta of the portfolio that buys the Call and Put options, we first need to calculate the delta of each option:\n"
   ]
  },
  {
   "cell_type": "code",
   "execution_count": null,
   "metadata": {
    "colab": {
     "base_uri": "https://localhost:8080/"
    },
    "id": "NyhDZEtqs7sA",
    "outputId": "ff2a2684-71ae-4110-b8a4-ba548582eb24"
   },
   "outputs": [],
   "source": [
    "import numpy as np\n",
    "from scipy.stats import norm\n",
    "from prettytable import PrettyTable\n",
    "\n",
    "# Input variables\n",
    "S = 100    # Underlying price\n",
    "K_call = 110    # Call strike price\n",
    "K_put = 95    # Put strike price\n",
    "r = 0.05    # Risk-free rate\n",
    "sigma = 0.2    # Volatility\n",
    "T = 0.25    # Time to maturity\n",
    "\n",
    "# Calculate d1 and d2 for the Call option\n",
    "d1_call = (np.log(S/K_call) + (r + 0.5 * sigma**2) * T) / (sigma * np.sqrt(T))\n",
    "d2_call = d1_call - sigma * np.sqrt(T)\n",
    "# Calculate delta for the Call option\n",
    "delta_call = norm.cdf(d1_call)\n",
    "\n",
    "# Calculate d1 and d2 for the Put option\n",
    "d1_put = (np.log(S/K_put) + (r + 0.5 * sigma**2) * T) / (sigma * np.sqrt(T))\n",
    "d2_put = d1_put - sigma * np.sqrt(T)\n",
    "# Calculate delta for the Put option\n",
    "delta_put = norm.cdf(d1_put) - 1\n",
    "\n",
    "# Calculate delta for the portfolio\n",
    "delta_portfolio = delta_call + delta_put\n",
    "\n",
    "# Print results in table\n",
    "table = PrettyTable()\n",
    "table.field_names = [\"Q#\",\"Type\",\"Exer\",\"Method\",\"Price\"]\n",
    "table.add_row([\"7\",\"delta portfolio\",\"Eur\",\"BS\", round(delta_portfolio,2)])\n",
    "print(table)\n"
   ]
  },
  {
   "cell_type": "markdown",
   "metadata": {
    "id": "-vFA00a8zIcB"
   },
   "source": [
    "To delta-hedge the portfolio that buys both the call and put options, we would need to take an opposing position in the underlying asset such that the overall delta of the portfolio is zero. Since the delta of the portfolio is -0.03, which is negative, we would need to buy approximately 0.03 shares of the underlying asset for each option pair in the portfolio. For example, if the underlying asset is a stock and the current price is 100, we would buy 0.03 x 100 = 3 worth of the stock for each call and put option pair. We would need to continuously adjust this position as the price of the underlying asset and the options change to maintain a delta-neutral portfolio."
   ]
  },
  {
   "cell_type": "markdown",
   "metadata": {
    "id": "jSX4pSAgziXH"
   },
   "source": [
    "**c. Building a second portfolio from the previous options**\n",
    "\n",
    "To calculate the delta of the portfolio that buys the Call option and sells the Put option, we first need to calculate the delta of each option:"
   ]
  },
  {
   "cell_type": "code",
   "execution_count": null,
   "metadata": {
    "colab": {
     "base_uri": "https://localhost:8080/"
    },
    "id": "uhkIB03WzvCT",
    "outputId": "5739c762-11b1-4e58-dd37-e9995b8b6df9"
   },
   "outputs": [],
   "source": [
    "# Calculate delta for the Call and Put options as before\n",
    "delta_call = norm.cdf(d1_call)\n",
    "delta_put = norm.cdf(d1_put) - 1\n",
    "\n",
    "# Calculate delta for the portfolio\n",
    "delta_portfolio = delta_call - delta_put\n",
    "\n",
    "# Print results in table\n",
    "table = PrettyTable()\n",
    "table.field_names = [\"Q#\",\"Type\",\"Exer\",\"Method\",\"Price\"]\n",
    "table.add_row([\"7\",\"delta 2nd portfolio\",\"Eur\",\"BS\", round(delta_portfolio,2)])\n",
    "print(table)"
   ]
  },
  {
   "cell_type": "markdown",
   "metadata": {
    "id": "vBvUg0sV33KW"
   },
   "source": []
  },
  {
   "cell_type": "markdown",
   "metadata": {
    "id": "z46GLiaR33dG"
   },
   "source": [
    "## **Question 8** - Monte-Carlo methods to price an Up-and-Out (UAO) barrier option- **Team member B**"
   ]
  },
  {
   "cell_type": "markdown",
   "metadata": {
    "id": "T63Gsv0l4oIa"
   },
   "source": [
    "To price an Up-and-Out (UAO) barrier option using Monte-Carlo methods with daily time steps, we can follow these steps:\n",
    "\n",
    "1. Define the necessary variables\n",
    "2. Generate M simulated stock price paths using daily return\n",
    "3. Determine the option payoffs for each simulation\n",
    "4. Discount the expected payoff to the present using the risk-free interest rate"
   ]
  },
  {
   "cell_type": "code",
   "execution_count": null,
   "metadata": {
    "colab": {
     "base_uri": "https://localhost:8080/"
    },
    "id": "Jnh-rqSZ5XJq",
    "outputId": "946b961e-f009-45a4-e8c7-3b02131d4af1"
   },
   "outputs": [],
   "source": [
    "import numpy as np\n",
    "\n",
    "# define barrier option parameters\n",
    "S0 = 120\n",
    "K = 120\n",
    "B = 141\n",
    "r = 0.06\n",
    "sigma = 0.3\n",
    "T = 8/12\n",
    "n_simulations = 100000\n",
    "n_steps = 8*30 # assuming 30 days in a month\n",
    "\n",
    "# calculate daily drift and volatility\n",
    "daily_drift = (r - 0.5 * sigma ** 2) / 365\n",
    "daily_volatility = sigma / np.sqrt(365)\n",
    "\n",
    "# run Monte Carlo simulations for the stock price\n",
    "np.random.seed(42)\n",
    "stock_price = np.zeros((n_simulations, n_steps+1))\n",
    "stock_price[:,0] = S0\n",
    "\n",
    "for i in range(n_simulations):\n",
    "    for j in range(n_steps):\n",
    "        stock_price[i,j+1] = stock_price[i,j] * np.exp(daily_drift + daily_volatility * np.random.normal())\n",
    "\n",
    "# calculate option payoffs\n",
    "payoff = np.maximum(stock_price[:, -1] - K, 0)\n",
    "barrier_crossed = np.any(stock_price[:, :-1] > B, axis=1)\n",
    "payoff[barrier_crossed] = 0\n",
    "\n",
    "# calculate option price using Monte Carlo simulation\n",
    "discount_factor = np.exp(-r * T)\n",
    "option_price = discount_factor * np.mean(payoff)\n",
    "\n",
    "# Print results in table\n",
    "table = PrettyTable()\n",
    "table.field_names = [\"Q#\",\"Type\",\"Exer\",\"Method\",\"Price\"]\n",
    "table.add_row([\"8\",\"UAO\",\"Eur\",\"MC\", round(option_price,2)])\n",
    "print(table)\n"
   ]
  },
  {
   "cell_type": "markdown",
   "metadata": {
    "id": "n2CLpB8p8bEw"
   },
   "source": [
    "## **Question 9** - Monte-Carlo methods to price an Up-and-In (UAI) barrier option- **Team member C**"
   ]
  },
  {
   "cell_type": "markdown",
   "metadata": {
    "id": "4hujSB0u8b4q"
   },
   "source": [
    "To price an Up-and-In (UAI) barrier option using Monte-Carlo methods with daily time steps, we can follow these steps:\n",
    "\n",
    "1. Define the necessary variables\n",
    "2. Generate M simulated stock price paths using daily returns\n",
    "3. Determine the option payoffs for each simulation\n",
    "4. Discount the expected payoff to the present using the risk-free interest rate"
   ]
  },
  {
   "cell_type": "markdown",
   "metadata": {
    "id": "o8tWH-KI9H5S"
   },
   "source": [
    "**a. Computing the price of the UAI option**"
   ]
  },
  {
   "cell_type": "code",
   "execution_count": null,
   "metadata": {
    "colab": {
     "base_uri": "https://localhost:8080/"
    },
    "id": "AsJbhZuh9INi",
    "outputId": "d5674168-de5e-4b75-d33e-86cc24c7d573"
   },
   "outputs": [],
   "source": [
    "import numpy as np\n",
    "from prettytable import PrettyTable\n",
    "import math\n",
    "from scipy.stats import norm\n",
    "\n",
    "S0 = 120     # current price of the underlying asset\n",
    "K = 120      # strike price (same as S0)\n",
    "r = 0.06     # risk-free interest rate\n",
    "sigma = 0.3  # volatility of the underlying asset\n",
    "T = 8/12     # time to expiration in years (8 months)\n",
    "H = 141      # barrier level\n",
    "\n",
    "# Set up the simulation parameters\n",
    "num_simulations = 100000\n",
    "dt = 1/252   # time step (daily)\n",
    "\n",
    "# Simulate the underlying asset price paths\n",
    "S = np.zeros((num_simulations, int(T/dt)+1))\n",
    "S[:,0] = S0\n",
    "\n",
    "for i in range(num_simulations):\n",
    "    for j in range(1, int(T/dt)+1):\n",
    "        S[i,j] = S[i,j-1] * np.exp((r - 0.5*sigma**2)*dt + sigma*np.sqrt(dt)*np.random.normal())\n",
    "\n",
    "# Determine whether the barrier is breached during the life of the option\n",
    "breached_barrier = np.any(S[:,1:] > H, axis=1)\n",
    "\n",
    "# Calculate the option payoff for each simulation\n",
    "payoffs = np.maximum(S[:,-1] - K, 0) * (breached_barrier == True)\n",
    "\n",
    "# Discount the payoffs to present value\n",
    "discount_factor = np.exp(-r * T)\n",
    "UAI_price = np.mean(payoffs) * discount_factor\n",
    "\n",
    "# Print results in table\n",
    "table = PrettyTable()\n",
    "table.field_names = [\"Q#\",\"Type\",\"Exer\",\"Method\",\"Price\"]\n",
    "table.add_row([\"9\",\"UAI\",\"Eur\",\"MC\", round(UAI_price,2)])\n",
    "print(table)\n"
   ]
  },
  {
   "cell_type": "markdown",
   "metadata": {
    "id": "pw19MkOkIErQ"
   },
   "source": [
    "**b. Computing the price of the vanilla option (same characteristics, no barrier)**"
   ]
  },
  {
   "cell_type": "code",
   "execution_count": null,
   "metadata": {
    "colab": {
     "base_uri": "https://localhost:8080/"
    },
    "id": "_3NMSI_5IE8D",
    "outputId": "71678eba-1d91-48ec-d49a-7f62e6728762"
   },
   "outputs": [],
   "source": [
    "import numpy as np\n",
    "import math\n",
    "from prettytable import PrettyTable\n",
    "from scipy.stats import norm\n",
    "\n",
    "S0 = 120     # current price of the underlying asset\n",
    "K = 120      # strike price (same as S0)\n",
    "r = 0.06     # risk-free interest rate\n",
    "sigma = 0.3  # volatility of the underlying asset\n",
    "T = 8/12     # time to expiration in years (8 months)\n",
    "\n",
    "d1 = (math.log(S0/K) + (r + 0.5 * sigma**2) * T) / (sigma * math.sqrt(T))\n",
    "d2 = d1 - sigma * math.sqrt(T)\n",
    "\n",
    "phi_d1 = norm.cdf(d1)\n",
    "phi_d2 = norm.cdf(d2)\n",
    "\n",
    "vanilla_price = S0 * phi_d1 - K * math.exp(-r * T) * phi_d2\n",
    "\n",
    "# Print results in table\n",
    "table = PrettyTable()\n",
    "table.field_names = [\"Q#\",\"Type\",\"Exer\",\"Method\",\"Price\"]\n",
    "table.add_row([\"9\",\"vanilla\",\"Eur\",\"MC\", round(vanilla_price,2)])\n",
    "print(table)\n"
   ]
  },
  {
   "cell_type": "markdown",
   "metadata": {
    "id": "Yl5EahBdIReu"
   },
   "source": [
    "**c. Relationship between the prices of the UAO, UAI, and vanilla option**\n",
    "\n"
   ]
  },
  {
   "cell_type": "code",
   "execution_count": null,
   "metadata": {
    "colab": {
     "base_uri": "https://localhost:8080/"
    },
    "id": "_PEq2LmNIwcZ",
    "outputId": "92fa8922-7e7f-4f0b-fe9a-8be288d721cf"
   },
   "outputs": [],
   "source": [
    "from prettytable import PrettyTable\n",
    "\n",
    "# Create the table and set the column names\n",
    "table = PrettyTable()\n",
    "table.field_names = [\"Q#\", \"Type\", \"Exer\", \"Method\", \"Price\"]\n",
    "\n",
    "# Add the rows to the table\n",
    "table.add_row([\"8\", \"UAO\", \"Eur\", \"MC\", \"0.73\"])\n",
    "table.add_row([\"9\", \"UAI\", \"Eur\", \"MC\", \"13.11\"])\n",
    "table.add_row([\"9\", \"Vanilla\", \"Eur\", \"MC\", \"13.97\"])\n",
    "\n",
    "# Print the table\n",
    "print(table)\n"
   ]
  },
  {
   "cell_type": "markdown",
   "metadata": {
    "id": "mhYI55qSJ4Gi"
   },
   "source": [
    "As expected, the price of the Up-and-Out barrier option (UAO) in question 8 is much lower than the prices of the Up-and-In barrier (UAI) and vanilla options in question 9. The UAO option has a low probability of ending in-the-money due to the presence of the barrier level, so its price is significantly lower than the prices of the other two options. The price of the UAI option in question 9 is lower than the price of the vanilla option, but still relatively close. This is because the barrier level in the UAI option is not too far away from the initial stock price, and there is a reasonable chance that the stock price will cross the barrier at some point during the life of the option, allowing the option to become active and have value. However, the UAI option still has a lower probability of ending in-the-money than the vanilla option, so its price is lower. These results are consistent with the general relationship between the prices of barrier and vanilla options."
   ]
  },
  {
   "cell_type": "markdown",
   "metadata": {
    "id": "-A0XzaZtmUKC"
   },
   "source": [
    "---\n",
    "# REFERENCES\n",
    "\n",
    "European vanilla call-put option pricing with python. QuantStart. (n.d.). Retrieved February 28, 2023, from https://www.quantstart.com/articles/European-Vanilla-Call-Put-Option-Pricing-with-Python/\n",
    "\n",
    "The pricing of double barrier options and their variations. (n.d.). Retrieved February 28, 2023, from https://www.researchgate.net/publication/256067415_The_Pricing_of_Double_Barrier_Options_and_Their_Variations\n",
    "\n",
    "Pricing options by Monte Carlo simulation with python. (n.d.). Retrieved February 28, 2023, from https://www.codearmo.com/blog/pricing-options-monte-carlo-simulation-python\n",
    "\n",
    "Derivatives. Corporate Finance Institute. (2023, February 14). Retrieved February 15, 2023, from https://corporatefinanceinstitute.com/topic/derivatives/\n",
    "\n",
    "Derivatives Review - Columbia University in the City of New York. (n.d.). Retrieved February 15, 2023, from http://www.columbia.edu/~mh2078/QRM/DerivativesReview.pdf\n",
    "\n",
    "MSC in Financial Engineering. WorldQuant University. (n.d.). Retrieved February 16, 2023, from https://vm.wqu.edu/lab/tree/work/mscfe-derivative-pricing/ "
   ]
  }
 ],
 "metadata": {
  "colab": {
   "collapsed_sections": [
    "84b1P-3a1JUk",
    "gZvklTUrFOFN"
   ],
   "provenance": []
  },
  "kernelspec": {
   "display_name": "Python 3 (ipykernel)",
   "language": "python",
   "name": "python3"
  },
  "language_info": {
   "codemirror_mode": {
    "name": "ipython",
    "version": 3
   },
   "file_extension": ".py",
   "mimetype": "text/x-python",
   "name": "python",
   "nbconvert_exporter": "python",
   "pygments_lexer": "ipython3",
   "version": "3.9.7"
  }
 },
 "nbformat": 4,
 "nbformat_minor": 1
}
