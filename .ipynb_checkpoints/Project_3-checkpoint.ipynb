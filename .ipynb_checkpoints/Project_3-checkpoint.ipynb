{
 "cells": [
  {
   "cell_type": "code",
   "execution_count": 1,
   "metadata": {
    "colab": {
     "base_uri": "https://localhost:8080/"
    },
    "id": "f13k06jImJHM",
    "outputId": "d0f3f354-4153-416d-b5a3-8c8b253ba2aa"
   },
   "outputs": [
    {
     "name": "stdout",
     "output_type": "stream",
     "text": [
      "Requirement already satisfied: yfinance in /home/leapfrog/anaconda3/lib/python3.9/site-packages (0.1.68)\n",
      "Requirement already satisfied: requests>=2.26 in /home/leapfrog/anaconda3/lib/python3.9/site-packages (from yfinance) (2.27.1)\n",
      "Requirement already satisfied: pandas>=0.24 in /home/leapfrog/anaconda3/lib/python3.9/site-packages (from yfinance) (1.3.4)\n",
      "Requirement already satisfied: numpy>=1.15 in /home/leapfrog/anaconda3/lib/python3.9/site-packages (from yfinance) (1.20.3)\n",
      "Requirement already satisfied: multitasking>=0.0.7 in /home/leapfrog/anaconda3/lib/python3.9/site-packages (from yfinance) (0.0.10)\n",
      "Requirement already satisfied: lxml>=4.5.1 in /home/leapfrog/anaconda3/lib/python3.9/site-packages (from yfinance) (4.6.3)\n",
      "Requirement already satisfied: python-dateutil>=2.7.3 in /home/leapfrog/anaconda3/lib/python3.9/site-packages (from pandas>=0.24->yfinance) (2.8.2)\n",
      "Requirement already satisfied: pytz>=2017.3 in /home/leapfrog/anaconda3/lib/python3.9/site-packages (from pandas>=0.24->yfinance) (2021.3)\n",
      "Requirement already satisfied: idna<4,>=2.5 in /home/leapfrog/anaconda3/lib/python3.9/site-packages (from requests>=2.26->yfinance) (3.3)\n",
      "Requirement already satisfied: charset-normalizer~=2.0.0 in /home/leapfrog/anaconda3/lib/python3.9/site-packages (from requests>=2.26->yfinance) (2.0.12)\n",
      "Requirement already satisfied: certifi>=2017.4.17 in /home/leapfrog/anaconda3/lib/python3.9/site-packages (from requests>=2.26->yfinance) (2020.12.5)\n",
      "Requirement already satisfied: urllib3<1.27,>=1.21.1 in /home/leapfrog/anaconda3/lib/python3.9/site-packages (from requests>=2.26->yfinance) (1.26.8)\n",
      "Requirement already satisfied: six>=1.5 in /home/leapfrog/anaconda3/lib/python3.9/site-packages (from python-dateutil>=2.7.3->pandas>=0.24->yfinance) (1.16.0)\n",
      "\n",
      "\u001b[1m[\u001b[0m\u001b[34;49mnotice\u001b[0m\u001b[1;39;49m]\u001b[0m\u001b[39;49m A new release of pip available: \u001b[0m\u001b[31;49m22.3.1\u001b[0m\u001b[39;49m -> \u001b[0m\u001b[32;49m23.0.1\u001b[0m\n",
      "\u001b[1m[\u001b[0m\u001b[34;49mnotice\u001b[0m\u001b[1;39;49m]\u001b[0m\u001b[39;49m To update, run: \u001b[0m\u001b[32;49mpip install --upgrade pip\u001b[0m\n"
     ]
    }
   ],
   "source": [
    "!pip install yfinance"
   ]
  },
  {
   "cell_type": "code",
   "execution_count": null,
   "metadata": {
    "id": "ES8OInTX6HJo"
   },
   "outputs": [],
   "source": []
  },
  {
   "cell_type": "markdown",
   "metadata": {
    "id": "kyzjYCkw6IBf"
   },
   "source": [
    "# **1. Modelling Bitcoin Adj Close Using Moving Average (MA(1))**"
   ]
  },
  {
   "cell_type": "code",
   "execution_count": 2,
   "metadata": {
    "id": "NbiBAS38liQ6"
   },
   "outputs": [],
   "source": [
    "import yfinance as yf\n",
    "import matplotlib.pyplot as plt\n",
    "import numpy as np\n",
    "import seaborn as sns\n",
    "import statsmodels\n",
    "import statsmodels.api as sm\n",
    "from statsmodels.tsa.stattools import adfuller\n"
   ]
  },
  {
   "cell_type": "code",
   "execution_count": 3,
   "metadata": {
    "id": "10D-XkNZmCh8"
   },
   "outputs": [],
   "source": [
    "stock_symbol = 'BTC-USD'"
   ]
  },
  {
   "cell_type": "code",
   "execution_count": 4,
   "metadata": {
    "colab": {
     "base_uri": "https://localhost:8080/"
    },
    "id": "JuhXOkIjmNSq",
    "outputId": "165582c4-aa4a-413d-a7ed-6c65789ff0e8"
   },
   "outputs": [
    {
     "name": "stdout",
     "output_type": "stream",
     "text": [
      "[*********************100%***********************]  1 of 1 completed\n"
     ]
    }
   ],
   "source": [
    "data = yf.download(tickers = stock_symbol,period ='5y',interval ='1d')"
   ]
  },
  {
   "cell_type": "code",
   "execution_count": 5,
   "metadata": {
    "colab": {
     "base_uri": "https://localhost:8080/"
    },
    "id": "iyNY6HDYmWwO",
    "outputId": "43b65992-c3e7-4428-cbd6-8c2907f6f768"
   },
   "outputs": [
    {
     "data": {
      "text/plain": [
       "pandas.core.frame.DataFrame"
      ]
     },
     "execution_count": 5,
     "metadata": {},
     "output_type": "execute_result"
    }
   ],
   "source": [
    "type(data)"
   ]
  },
  {
   "cell_type": "code",
   "execution_count": 6,
   "metadata": {
    "colab": {
     "base_uri": "https://localhost:8080/",
     "height": 237
    },
    "id": "t5IzWJkamY-f",
    "outputId": "af4a7843-9a6f-45f0-9f90-2e63f39a3938"
   },
   "outputs": [
    {
     "data": {
      "text/html": [
       "<div>\n",
       "<style scoped>\n",
       "    .dataframe tbody tr th:only-of-type {\n",
       "        vertical-align: middle;\n",
       "    }\n",
       "\n",
       "    .dataframe tbody tr th {\n",
       "        vertical-align: top;\n",
       "    }\n",
       "\n",
       "    .dataframe thead th {\n",
       "        text-align: right;\n",
       "    }\n",
       "</style>\n",
       "<table border=\"1\" class=\"dataframe\">\n",
       "  <thead>\n",
       "    <tr style=\"text-align: right;\">\n",
       "      <th></th>\n",
       "      <th>Open</th>\n",
       "      <th>High</th>\n",
       "      <th>Low</th>\n",
       "      <th>Close</th>\n",
       "      <th>Adj Close</th>\n",
       "      <th>Volume</th>\n",
       "    </tr>\n",
       "    <tr>\n",
       "      <th>Date</th>\n",
       "      <th></th>\n",
       "      <th></th>\n",
       "      <th></th>\n",
       "      <th></th>\n",
       "      <th></th>\n",
       "      <th></th>\n",
       "    </tr>\n",
       "  </thead>\n",
       "  <tbody>\n",
       "    <tr>\n",
       "      <th>2018-02-20</th>\n",
       "      <td>11231.799805</td>\n",
       "      <td>11958.500000</td>\n",
       "      <td>11231.799805</td>\n",
       "      <td>11403.700195</td>\n",
       "      <td>11403.700195</td>\n",
       "      <td>9926540288</td>\n",
       "    </tr>\n",
       "    <tr>\n",
       "      <th>2018-02-21</th>\n",
       "      <td>11372.200195</td>\n",
       "      <td>11418.500000</td>\n",
       "      <td>10479.099609</td>\n",
       "      <td>10690.400391</td>\n",
       "      <td>10690.400391</td>\n",
       "      <td>9405339648</td>\n",
       "    </tr>\n",
       "    <tr>\n",
       "      <th>2018-02-22</th>\n",
       "      <td>10660.400391</td>\n",
       "      <td>11039.099609</td>\n",
       "      <td>9939.089844</td>\n",
       "      <td>10005.000000</td>\n",
       "      <td>10005.000000</td>\n",
       "      <td>8040079872</td>\n",
       "    </tr>\n",
       "    <tr>\n",
       "      <th>2018-02-23</th>\n",
       "      <td>9937.070312</td>\n",
       "      <td>10487.299805</td>\n",
       "      <td>9734.559570</td>\n",
       "      <td>10301.099609</td>\n",
       "      <td>10301.099609</td>\n",
       "      <td>7739500032</td>\n",
       "    </tr>\n",
       "    <tr>\n",
       "      <th>2018-02-24</th>\n",
       "      <td>10287.700195</td>\n",
       "      <td>10597.200195</td>\n",
       "      <td>9546.969727</td>\n",
       "      <td>9813.070312</td>\n",
       "      <td>9813.070312</td>\n",
       "      <td>6917929984</td>\n",
       "    </tr>\n",
       "  </tbody>\n",
       "</table>\n",
       "</div>"
      ],
      "text/plain": [
       "                    Open          High           Low         Close  \\\n",
       "Date                                                                 \n",
       "2018-02-20  11231.799805  11958.500000  11231.799805  11403.700195   \n",
       "2018-02-21  11372.200195  11418.500000  10479.099609  10690.400391   \n",
       "2018-02-22  10660.400391  11039.099609   9939.089844  10005.000000   \n",
       "2018-02-23   9937.070312  10487.299805   9734.559570  10301.099609   \n",
       "2018-02-24  10287.700195  10597.200195   9546.969727   9813.070312   \n",
       "\n",
       "               Adj Close      Volume  \n",
       "Date                                  \n",
       "2018-02-20  11403.700195  9926540288  \n",
       "2018-02-21  10690.400391  9405339648  \n",
       "2018-02-22  10005.000000  8040079872  \n",
       "2018-02-23  10301.099609  7739500032  \n",
       "2018-02-24   9813.070312  6917929984  "
      ]
     },
     "execution_count": 6,
     "metadata": {},
     "output_type": "execute_result"
    }
   ],
   "source": [
    "data.head()"
   ]
  },
  {
   "cell_type": "code",
   "execution_count": 7,
   "metadata": {
    "id": "kmz2m76Kmbp-"
   },
   "outputs": [],
   "source": [
    "adj_close = data[['Adj Close']]"
   ]
  },
  {
   "cell_type": "code",
   "execution_count": 8,
   "metadata": {
    "colab": {
     "base_uri": "https://localhost:8080/"
    },
    "id": "dQkP2d4Z9u_R",
    "outputId": "12867da8-3b8a-4b8a-a832-5dfadb2fcef7"
   },
   "outputs": [
    {
     "data": {
      "text/plain": [
       "1823"
      ]
     },
     "execution_count": 8,
     "metadata": {},
     "output_type": "execute_result"
    }
   ],
   "source": [
    "len(adj_close)"
   ]
  },
  {
   "cell_type": "code",
   "execution_count": 9,
   "metadata": {
    "colab": {
     "base_uri": "https://localhost:8080/",
     "height": 298
    },
    "id": "8i1lUQvFmjBz",
    "outputId": "aad40621-9bc3-464b-b60f-6a7caa39f213"
   },
   "outputs": [
    {
     "ename": "NameError",
     "evalue": "name 'badj_close' is not defined",
     "output_type": "error",
     "traceback": [
      "\u001b[0;31m---------------------------------------------------------------------------\u001b[0m",
      "\u001b[0;31mNameError\u001b[0m                                 Traceback (most recent call last)",
      "\u001b[0;32m/tmp/ipykernel_10704/2894074191.py\u001b[0m in \u001b[0;36m<cell line: 1>\u001b[0;34m()\u001b[0m\n\u001b[0;32m----> 1\u001b[0;31m \u001b[0mbadj_close\u001b[0m\u001b[0;34m.\u001b[0m\u001b[0mplot\u001b[0m\u001b[0;34m(\u001b[0m\u001b[0;34m)\u001b[0m\u001b[0;34m\u001b[0m\u001b[0;34m\u001b[0m\u001b[0m\n\u001b[0m",
      "\u001b[0;31mNameError\u001b[0m: name 'badj_close' is not defined"
     ]
    }
   ],
   "source": [
    "badj_close.plot()"
   ]
  },
  {
   "cell_type": "code",
   "execution_count": null,
   "metadata": {
    "colab": {
     "base_uri": "https://localhost:8080/",
     "height": 499
    },
    "id": "hdBizKFMmrGN",
    "outputId": "926769fe-bd06-4e98-93a6-150fa96ddf69"
   },
   "outputs": [],
   "source": [
    "adj_close.hist(figsize=(10,8));"
   ]
  },
  {
   "cell_type": "code",
   "execution_count": null,
   "metadata": {
    "colab": {
     "base_uri": "https://localhost:8080/"
    },
    "id": "-yxuMr8ZoD3Y",
    "outputId": "2f9cd5b3-5324-442d-b9b8-7459ed0301f2"
   },
   "outputs": [],
   "source": [
    "adj_close.columns"
   ]
  },
  {
   "cell_type": "code",
   "execution_count": null,
   "metadata": {
    "colab": {
     "base_uri": "https://localhost:8080/"
    },
    "id": "j3F3ZtA4st9J",
    "outputId": "fa8ef27c-8383-4839-9821-d34c86965adc"
   },
   "outputs": [],
   "source": [
    "#add date column\n",
    "adj_close[\"Date\"] = adj_close.index\n"
   ]
  },
  {
   "cell_type": "code",
   "execution_count": null,
   "metadata": {
    "colab": {
     "base_uri": "https://localhost:8080/"
    },
    "id": "8aEPY9w5tdOn",
    "outputId": "28a5c006-1bbb-4139-af52-5251f3874bc1"
   },
   "outputs": [],
   "source": [
    "adj_close.columns"
   ]
  },
  {
   "cell_type": "code",
   "execution_count": null,
   "metadata": {
    "colab": {
     "base_uri": "https://localhost:8080/",
     "height": 457
    },
    "id": "0uP72XuYtr1U",
    "outputId": "ddb92a36-85a9-4e4b-fbfc-da271ae3c03c"
   },
   "outputs": [],
   "source": [
    "#Lets try see if we have monthly seasonality in our data\n",
    "#create the pivot table\n",
    "pivot_table = adj_close.pivot_table(index=adj_close['Date'].dt.month, columns=adj_close['Date'].dt.year, values='Adj Close')\n",
    "# display the pivot table\n",
    "pivot_table"
   ]
  },
  {
   "cell_type": "code",
   "execution_count": null,
   "metadata": {
    "colab": {
     "base_uri": "https://localhost:8080/",
     "height": 412
    },
    "id": "1CCQvqhruD1M",
    "outputId": "01481587-369d-4503-e6d9-5bebb8950bce"
   },
   "outputs": [],
   "source": [
    "# plot the average BTC Adj Close\n",
    "fig, ax = plt.subplots(figsize=(20, 6))\n",
    "sns.set_palette(\"bright\")\n",
    "sns.lineplot(x=pivot_table.index, y=pivot_table[2018], ax=ax, label='2018')\n",
    "sns.lineplot( x=pivot_table.index, y=pivot_table[2019], ax=ax, label='2019')\n",
    "sns.lineplot( x=pivot_table.index, y=pivot_table[2020], ax=ax, label='2020')\n",
    "sns.lineplot( x=pivot_table.index, y=pivot_table[2021], ax=ax, label='2021')\n",
    "sns.lineplot( x=pivot_table.index, y=pivot_table[2022], ax=ax, label='2022')\n",
    "\n",
    "plt.ylabel('Average BTC Adj Close')\n",
    "plt.title('Average BTC Adj Close Trends for 2018, 2019, 2020,2021 & 2022', fontdict ={'fontsize':16,\n",
    "                                                                   'color':'red',\n",
    "                                                                   'horizontalalignment': 'center'},\n",
    "                                                                   pad=12)\n",
    "# Add a legend\n",
    "plt.legend()\n",
    "plt.show()"
   ]
  },
  {
   "cell_type": "code",
   "execution_count": null,
   "metadata": {
    "colab": {
     "base_uri": "https://localhost:8080/",
     "height": 253
    },
    "id": "mcTPrSsU73QD",
    "outputId": "8aa8d2c0-c607-40e1-9ba6-ac718f9f00ca"
   },
   "outputs": [],
   "source": [
    "#checking Outliers\n",
    "sns.boxplot( y=adj_close[\"Adj Close\"] );\n",
    "plt.show()"
   ]
  },
  {
   "cell_type": "code",
   "execution_count": null,
   "metadata": {
    "colab": {
     "base_uri": "https://localhost:8080/"
    },
    "id": "mq2SbqjAQK6u",
    "outputId": "9473416d-40d4-43d9-f562-087c1335a460"
   },
   "outputs": [],
   "source": [
    "adj_close['Adj Close'].skew()"
   ]
  },
  {
   "cell_type": "code",
   "execution_count": null,
   "metadata": {
    "colab": {
     "base_uri": "https://localhost:8080/"
    },
    "id": "-vg3vbfzQXAq",
    "outputId": "734816b0-114e-41ce-ebed-aabff7f9bc2b"
   },
   "outputs": [],
   "source": [
    "adj_close['Adj Close'].kurtosis()\n"
   ]
  },
  {
   "cell_type": "markdown",
   "metadata": {
    "id": "8_SYEQXfYEXE"
   },
   "source": [
    "## Perform Root test(Ad fuller)"
   ]
  },
  {
   "cell_type": "code",
   "execution_count": null,
   "metadata": {
    "colab": {
     "base_uri": "https://localhost:8080/"
    },
    "id": "hu7Khb7-Xr3O",
    "outputId": "9d4b1aa7-14b7-4bbf-d5f6-2306d4c42624"
   },
   "outputs": [],
   "source": [
    "X = adj_close['Adj Close']\n",
    "result = adfuller(X)\n",
    "print('ADF Statistic: %f' % result[0])\n",
    "print('p-value: %f' % result[1])\n",
    "print('Critical Values:')\n",
    "for key, value in result[4].items():\n",
    "\tprint('\\t%s: %.3f' % (key, value))"
   ]
  },
  {
   "cell_type": "markdown",
   "metadata": {
    "id": "R2PxNI0n6qSN"
   },
   "source": [
    "## Detrending Using Varriable with Linear Regression"
   ]
  },
  {
   "cell_type": "code",
   "execution_count": null,
   "metadata": {
    "id": "3w1l3Iji6pdo"
   },
   "outputs": [],
   "source": []
  },
  {
   "cell_type": "code",
   "execution_count": null,
   "metadata": {
    "colab": {
     "base_uri": "https://localhost:8080/",
     "height": 478
    },
    "id": "W77Upud4sH-6",
    "outputId": "efd0a570-c7a6-44cc-a458-f037461aeae6"
   },
   "outputs": [],
   "source": [
    "# Detrend\n",
    "timeTrend = np.linspace(1, len(adj_close['Adj Close']), len(adj_close['Adj Close']))\n",
    "timeTrend = sm.add_constant(timeTrend)\n",
    "\n",
    "# Fit OLS\n",
    "model = sm.OLS(adj_close['Adj Close'], timeTrend)\n",
    "fit_g = model.fit()\n",
    "fit_g.summary()"
   ]
  },
  {
   "cell_type": "code",
   "execution_count": null,
   "metadata": {
    "colab": {
     "base_uri": "https://localhost:8080/",
     "height": 282
    },
    "id": "ivtZsbaNzPgP",
    "outputId": "b3fda37a-557e-4400-d08b-3018b8d00bc8"
   },
   "outputs": [],
   "source": [
    "# Plot residuals\n",
    "btc_res = fit_g.resid\n",
    "btc_res.plot(linewidth=1.3, xlabel=\"Year\", ylabel=\"Residuals\")\n",
    "plt.show()"
   ]
  },
  {
   "cell_type": "markdown",
   "metadata": {
    "id": "E33Pxo2k5oH9"
   },
   "source": [
    "## Detrending using First Difference"
   ]
  },
  {
   "cell_type": "code",
   "execution_count": null,
   "metadata": {
    "id": "NBucGoHa5exF"
   },
   "outputs": [],
   "source": [
    "## Detrending using First Difference"
   ]
  },
  {
   "cell_type": "code",
   "execution_count": null,
   "metadata": {
    "colab": {
     "base_uri": "https://localhost:8080/",
     "height": 283
    },
    "id": "Q3wBmnsRzewv",
    "outputId": "cf1edf39-aeb6-49f2-dc87-e14b6737cdbf"
   },
   "outputs": [],
   "source": [
    "# Plot First Difference of BTC Stock Price\n",
    "btc_res.diff().plot(\n",
    "    linewidth=1.3, xlabel=\"Year\", ylabel=\"First difference of BTC stock price\"\n",
    ")\n",
    "plt.show()"
   ]
  },
  {
   "cell_type": "code",
   "execution_count": null,
   "metadata": {
    "colab": {
     "base_uri": "https://localhost:8080/",
     "height": 553
    },
    "id": "y9O9w9y4zijs",
    "outputId": "a32eb064-efbf-4c3f-8072-0ceb64d66a6c"
   },
   "outputs": [],
   "source": [
    "# ACF of First Difference of BTC Stock Price\n",
    "# (Note: [1:] as we need to skip first element since the model lost one data point)\n",
    "fig, ax = plt.subplots(figsize=(12, 9))\n",
    "sm.graphics.tsa.plot_acf(\n",
    "    adj_close['Adj Close'].diff()[1:],\n",
    "    title=\"ACF of First Difference of BTC Stock Price\",\n",
    "    lags=30,\n",
    "    ax=ax,\n",
    ")\n",
    "plt.show()"
   ]
  },
  {
   "cell_type": "code",
   "execution_count": null,
   "metadata": {
    "colab": {
     "base_uri": "https://localhost:8080/",
     "height": 553
    },
    "id": "MrXx1FFqzdqK",
    "outputId": "3774f766-f80c-492a-d93f-00ee440ed660"
   },
   "outputs": [],
   "source": [
    "# PACF of First Difference of BTC Stock Price\n",
    "# (Note: [1:] as we need to skip first element since the model lost one data point)\n",
    "fig, ax = plt.subplots(figsize=(12, 9))\n",
    "sm.graphics.tsa.plot_pacf(\n",
    "    adj_close['Adj Close'].diff()[1:],\n",
    "    title=\"PACF of First Difference of BTC Stock Price\",\n",
    "    lags=30,\n",
    "    ax=ax,\n",
    ")\n",
    "plt.show()"
   ]
  },
  {
   "cell_type": "code",
   "execution_count": null,
   "metadata": {
    "colab": {
     "base_uri": "https://localhost:8080/"
    },
    "id": "Se54btO-0WAD",
    "outputId": "d129028c-5d14-4e5e-d2cb-3e8012bf7610"
   },
   "outputs": [],
   "source": [
    "# MA(1) for BTC stock\n",
    "btc_ma1 = statsmodels.tsa.arima.model.ARIMA(adj_close['Adj Close'], order=(0, 0, 1)).fit()\n",
    "print(btc_ma1.params)"
   ]
  },
  {
   "cell_type": "code",
   "execution_count": null,
   "metadata": {
    "colab": {
     "base_uri": "https://localhost:8080/"
    },
    "id": "Gk_jwvm11Zlh",
    "outputId": "ccbd16c9-df2b-4216-dc35-aaa0a830a5b1"
   },
   "outputs": [],
   "source": [
    "!pip install yfinance\n",
    "!pip install arch"
   ]
  },
  {
   "cell_type": "markdown",
   "metadata": {
    "id": "oikq6Ldbx86x"
   },
   "source": [
    "# Forcasting Volatility of ETH-USD using GARCH(1,1)\n",
    "\n"
   ]
  },
  {
   "cell_type": "code",
   "execution_count": null,
   "metadata": {
    "id": "jeZBhIP8yICn"
   },
   "outputs": [],
   "source": [
    "import yfinance as yf\n",
    "import matplotlib.pyplot as plt\n",
    "import numpy as np\n",
    "import seaborn as sns\n",
    "import pandas as pd\n",
    "import statsmodels\n",
    "import statsmodels.api as sm\n",
    "from arch import arch_model"
   ]
  },
  {
   "cell_type": "code",
   "execution_count": null,
   "metadata": {
    "colab": {
     "base_uri": "https://localhost:8080/",
     "height": 455
    },
    "id": "z0yEFPY4yMe0",
    "outputId": "3f9c46db-9c29-41ed-84f2-b99f47af49d0"
   },
   "outputs": [],
   "source": [
    "eth = yf.Ticker(\"ETH-USD\").history(period=\"max\")\n",
    "eth"
   ]
  },
  {
   "cell_type": "code",
   "execution_count": null,
   "metadata": {
    "colab": {
     "base_uri": "https://localhost:8080/",
     "height": 659
    },
    "id": "Cz2EwlO2yNez",
    "outputId": "632ec9d2-28a9-4a72-db2f-d64a9fab278c"
   },
   "outputs": [],
   "source": [
    "def to_return(px):\n",
    "  return np.log(px/px.shift(1)).dropna()\n",
    "\n",
    "def explore_the_data(px_series):\n",
    "  \"\"\"\n",
    "    Plot the following graphs\n",
    "    - px series\n",
    "    - log return series\n",
    "    - ACF of return\n",
    "    - PACF of return\n",
    "    - run the Ljung-Box Test\n",
    "  \"\"\"\n",
    "\n",
    "  fig = plt.figure(figsize=(20, 10))\n",
    "\n",
    "  grid = fig.add_gridspec(3,2)\n",
    "  px_plot = fig.add_subplot(grid[0, 0])\n",
    "  rtn_plot = fig.add_subplot(grid[0, 1])\n",
    "  px_acf_plot = fig.add_subplot(grid[1, 0])\n",
    "  px_pacf_plot = fig.add_subplot(grid[1, 1])\n",
    "  rtn_acf_plot = fig.add_subplot(grid[2, 0])\n",
    "  rtn_pacf_plot = fig.add_subplot(grid[2, 1])\n",
    "\n",
    "\n",
    "  px_plot.plot(px_series)\n",
    "  px_plot.set(title=\"Price of ETH-USD\")\n",
    "\n",
    "  rtn = to_return(px_series)\n",
    "\n",
    "  rtn_plot.plot(rtn)\n",
    "  rtn_plot.set(title=\"Log return of ETH-USD\")\n",
    "\n",
    "  lag = 5 # 7 days\n",
    "\n",
    "  sm.graphics.tsa.plot_acf(\n",
    "      px_series,\n",
    "      title=f\"ACF of the price of ETH-USD close Price, lag={lag}\",\n",
    "      lags=lag,\n",
    "      ax=px_acf_plot,\n",
    "  )\n",
    "\n",
    "  sm.graphics.tsa.plot_pacf(\n",
    "      px_series,\n",
    "      title=f\"PACF of the price of ETH-USD close Price, lag={lag}\",\n",
    "      lags=lag,\n",
    "      ax=px_pacf_plot,\n",
    "  )\n",
    "\n",
    "\n",
    "  sm.graphics.tsa.plot_acf(\n",
    "      rtn,\n",
    "      title=f\"ACF of the return of ETH-USD close Price, lag={lag}\",\n",
    "      lags=lag,\n",
    "      ax=rtn_acf_plot,\n",
    "  )\n",
    "\n",
    "  sm.graphics.tsa.plot_pacf(\n",
    "      rtn,\n",
    "      title=f\"PACF of the return of ETH-USD close Price, lag={lag}\",\n",
    "      lags=lag,\n",
    "      ax=rtn_pacf_plot,\n",
    "  )\n",
    "\n",
    "  result = sm.stats.acorr_ljungbox(rtn, lags=[lag], return_df=True)\n",
    "  plt.savefig('exploration.png')\n",
    "  print(result)\n",
    "\n",
    "  significant_level = 0.05\n",
    "  if(result[\"lb_pvalue\"].item() < 0.05):\n",
    "    print(f\"p value < {significant_level}, null hypothesis rejected -> the return series has serial correlation\")\n",
    "  else:\n",
    "    print(f\"p value > {significant_level}, null hypothesis accepted -> No serial correlation in the return series\")\n",
    "\n",
    "explore_the_data(eth[\"Close\"])"
   ]
  },
  {
   "cell_type": "code",
   "execution_count": null,
   "metadata": {
    "colab": {
     "base_uri": "https://localhost:8080/",
     "height": 827
    },
    "id": "YYWJ0xJ1yPWT",
    "outputId": "96675900-3787-4a18-ff04-c06460edde85"
   },
   "outputs": [],
   "source": [
    "# use GARCH(1, 1) to predict the time series, train: 2017-11-24 - 2021-12-31, test: 2022-01-01 - 2022-12-31\n",
    "train_sdate = pd.to_datetime(\"2017-11-24 00:00:00\", utc=True)\n",
    "train_edate = pd.to_datetime(\"2021-12-31 23:59:59\", utc=True)\n",
    "test_sdate = pd.to_datetime(\"2022-01-01 00:00:00\", utc=True)\n",
    "test_edate = pd.to_datetime(\"2022-12-31 23:59:59\", utc=True)\n",
    "\n",
    "eth[\"close_px_rtn\"] = to_return(eth[\"Close\"])\n",
    "eth = eth.dropna()\n",
    "\n",
    "train = eth.loc[train_sdate:train_edate]\n",
    "test = eth.loc[test_sdate:test_edate]\n",
    "\n",
    "p = 1\n",
    "q = 1\n",
    "model = arch_model(train[\"close_px_rtn\"] * 10, p = p, q = q, mean = 'AR', vol = 'GARCH', dist = 'StudentsT') # multiplier the return by 10 to disable the warning\n",
    "model_fit = model.fit()\n",
    "model_fit.summary()"
   ]
  },
  {
   "cell_type": "code",
   "execution_count": null,
   "metadata": {
    "colab": {
     "base_uri": "https://localhost:8080/"
    },
    "id": "vM2pL-sxybFL",
    "outputId": "8bf6bbb9-5227-4e40-8772-eb680197b665"
   },
   "outputs": [],
   "source": [
    "# predict the volatility and compare to the test set\n",
    "horizon = len(test)\n",
    "print(f\"prediction horizion: {horizon}\")\n",
    "\n",
    "pred = model_fit.forecast(reindex=False, horizon=horizon, method=\"simulation\")\n",
    "test['pred_close_px_rtn_vol'] = np.sqrt(pred.variance.values[0])"
   ]
  },
  {
   "cell_type": "code",
   "execution_count": null,
   "metadata": {
    "colab": {
     "base_uri": "https://localhost:8080/"
    },
    "id": "SGpjCGaoycpj",
    "outputId": "b51e9215-7bdc-4a03-d97a-d95480041a19"
   },
   "outputs": [],
   "source": [
    "test['close_px_rtn']"
   ]
  },
  {
   "cell_type": "code",
   "execution_count": null,
   "metadata": {
    "colab": {
     "base_uri": "https://localhost:8080/"
    },
    "id": "NWmhBlezyd6k",
    "outputId": "42c788d7-93ce-4042-c5cd-01730b0c1e89"
   },
   "outputs": [],
   "source": [
    "test['pred_close_px_rtn_vol']"
   ]
  },
  {
   "cell_type": "code",
   "execution_count": null,
   "metadata": {
    "colab": {
     "base_uri": "https://localhost:8080/",
     "height": 361
    },
    "id": "yvLYXhU1yepr",
    "outputId": "65a037e6-8515-45c8-8bb9-fb4403577bbf"
   },
   "outputs": [],
   "source": [
    "df = pd.DataFrame()\n",
    "df['close_px_rtn'] = test['close_px_rtn'].apply(lambda x: x * 10)\n",
    "df['pred_close_px_rtn_vol'] = test['pred_close_px_rtn_vol']\n",
    "df.plot(secondary_y=['pred_close_px_rtn_vol'], mark_right=False, figsize = (20,5), title=\"Return vs Predicted volatility\").get_figure().savefig('rtn_vol.png')"
   ]
  },
  {
   "cell_type": "code",
   "execution_count": null,
   "metadata": {
    "id": "cW41lvyryfzr"
   },
   "outputs": [],
   "source": []
  }
 ],
 "metadata": {
  "colab": {
   "provenance": []
  },
  "kernelspec": {
   "display_name": "Python 3 (ipykernel)",
   "language": "python",
   "name": "python3"
  },
  "language_info": {
   "codemirror_mode": {
    "name": "ipython",
    "version": 3
   },
   "file_extension": ".py",
   "mimetype": "text/x-python",
   "name": "python",
   "nbconvert_exporter": "python",
   "pygments_lexer": "ipython3",
   "version": "3.9.7"
  }
 },
 "nbformat": 4,
 "nbformat_minor": 1
}
