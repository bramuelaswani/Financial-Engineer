{
 "cells": [
  {
   "cell_type": "code",
   "execution_count": 1,
   "id": "b44e4fbf",
   "metadata": {},
   "outputs": [],
   "source": [
    "#"
   ]
  },
  {
   "cell_type": "code",
   "execution_count": 2,
   "id": "2ff7e0d1",
   "metadata": {},
   "outputs": [],
   "source": [
    "import pandas as pd\n",
    "\n",
    "# Initialize the paramaters of the loan\n",
    "loan_amount = 1000000\n",
    "apr = 0.4\n",
    "loan_term = 361\n",
    "\n",
    "# Get a monthly percentage rate\n",
    "apr /= 100\n",
    "mpr = apr / 12\n",
    "\n",
    "# Calculate the Monthly Payment for a loan\n",
    "monthly_payment = (loan_amount * mpr)/(1-(1+mpr) ** -loan_term)\n",
    "# x = (1 + mpr) ** loan_term\n",
    "# monthly_payment=loan_amount * (mpr * x) / (x - 1)\n",
    "\n",
    "def make_payment(principal, mpr, monthly_payment):\n",
    "    '''Makes a 'payment' by subtracting and updated payment amount from the \n",
    "    principal. Returns the principal remaining, and the amount of principal and interest paid\n",
    "    '''\n",
    "\n",
    "    current_interest_payment = principal * mpr\n",
    "    current_principal_payment = monthly_payment - current_interest_payment\n",
    "    \n",
    "    principal -= current_principal_payment\n",
    "    \n",
    "    return [round(principal, 2), round(current_principal_payment, 2), round(current_interest_payment, 2)] \n",
    "\n",
    "def main(principal, term_remaining, monthly_payment, mpr):\n",
    "    '''Returns an Amortization Table in the form of a DataFrame\n",
    "    '''\n",
    "    \n",
    "    payments = [[principal, 0, 0, 0]]\n",
    "    total_interest = 0\n",
    "    \n",
    "    while principal > 0 and term_remaining > 0:\n",
    "        payment = make_payment(principal, mpr, monthly_payment)\n",
    "        principal = payment[0]\n",
    "        term_remaining -= 1\n",
    "        total_interest += payment[2]\n",
    "        payment.append(total_interest)\n",
    "        payments.append(payment)\n",
    "\n",
    "    amortization_table = pd.DataFrame(data=payments,\n",
    "                                      columns=['Principal Remaining',\n",
    "                                              'Current Principal Payment',\n",
    "                                              'Current Interest Payment',\n",
    "                                              'Total Interest Paid'])\n",
    "    return amortization_table\n",
    "\n",
    "if __name__ == '__main__':\n",
    "    main(loan_amount, loan_term, monthly_payment, mpr)"
   ]
  },
  {
   "cell_type": "code",
   "execution_count": 3,
   "id": "04e63cae",
   "metadata": {},
   "outputs": [
    {
     "name": "stdout",
     "output_type": "stream",
     "text": [
      "[997392.78, 2607.22, 333.33]\n"
     ]
    }
   ],
   "source": [
    "print(make_payment(loan_amount,mpr,monthly_payment))"
   ]
  },
  {
   "cell_type": "code",
   "execution_count": 4,
   "id": "cfaf0031",
   "metadata": {},
   "outputs": [],
   "source": [
    "amortization_table=main(loan_amount,loan_term,monthly_payment,mpr)"
   ]
  },
  {
   "cell_type": "code",
   "execution_count": 5,
   "id": "8ebc03fb",
   "metadata": {},
   "outputs": [
    {
     "data": {
      "text/html": [
       "<div>\n",
       "<style scoped>\n",
       "    .dataframe tbody tr th:only-of-type {\n",
       "        vertical-align: middle;\n",
       "    }\n",
       "\n",
       "    .dataframe tbody tr th {\n",
       "        vertical-align: top;\n",
       "    }\n",
       "\n",
       "    .dataframe thead th {\n",
       "        text-align: right;\n",
       "    }\n",
       "</style>\n",
       "<table border=\"1\" class=\"dataframe\">\n",
       "  <thead>\n",
       "    <tr style=\"text-align: right;\">\n",
       "      <th></th>\n",
       "      <th>Principal Remaining</th>\n",
       "      <th>Current Principal Payment</th>\n",
       "      <th>Current Interest Payment</th>\n",
       "      <th>Total Interest Paid</th>\n",
       "    </tr>\n",
       "  </thead>\n",
       "  <tbody>\n",
       "    <tr>\n",
       "      <th>0</th>\n",
       "      <td>1000000.00</td>\n",
       "      <td>0.00</td>\n",
       "      <td>0.00</td>\n",
       "      <td>0.00</td>\n",
       "    </tr>\n",
       "    <tr>\n",
       "      <th>1</th>\n",
       "      <td>997392.78</td>\n",
       "      <td>2607.22</td>\n",
       "      <td>333.33</td>\n",
       "      <td>333.33</td>\n",
       "    </tr>\n",
       "    <tr>\n",
       "      <th>2</th>\n",
       "      <td>994784.69</td>\n",
       "      <td>2608.09</td>\n",
       "      <td>332.46</td>\n",
       "      <td>665.79</td>\n",
       "    </tr>\n",
       "    <tr>\n",
       "      <th>3</th>\n",
       "      <td>992175.73</td>\n",
       "      <td>2608.96</td>\n",
       "      <td>331.59</td>\n",
       "      <td>997.38</td>\n",
       "    </tr>\n",
       "    <tr>\n",
       "      <th>4</th>\n",
       "      <td>989565.90</td>\n",
       "      <td>2609.83</td>\n",
       "      <td>330.73</td>\n",
       "      <td>1328.11</td>\n",
       "    </tr>\n",
       "  </tbody>\n",
       "</table>\n",
       "</div>"
      ],
      "text/plain": [
       "   Principal Remaining  Current Principal Payment  Current Interest Payment  \\\n",
       "0           1000000.00                       0.00                      0.00   \n",
       "1            997392.78                    2607.22                    333.33   \n",
       "2            994784.69                    2608.09                    332.46   \n",
       "3            992175.73                    2608.96                    331.59   \n",
       "4            989565.90                    2609.83                    330.73   \n",
       "\n",
       "   Total Interest Paid  \n",
       "0                 0.00  \n",
       "1               333.33  \n",
       "2               665.79  \n",
       "3               997.38  \n",
       "4              1328.11  "
      ]
     },
     "execution_count": 5,
     "metadata": {},
     "output_type": "execute_result"
    }
   ],
   "source": [
    "amortization_table.head()"
   ]
  },
  {
   "cell_type": "code",
   "execution_count": 6,
   "id": "f38b481d",
   "metadata": {},
   "outputs": [
    {
     "data": {
      "text/html": [
       "<div>\n",
       "<style scoped>\n",
       "    .dataframe tbody tr th:only-of-type {\n",
       "        vertical-align: middle;\n",
       "    }\n",
       "\n",
       "    .dataframe tbody tr th {\n",
       "        vertical-align: top;\n",
       "    }\n",
       "\n",
       "    .dataframe thead th {\n",
       "        text-align: right;\n",
       "    }\n",
       "</style>\n",
       "<table border=\"1\" class=\"dataframe\">\n",
       "  <thead>\n",
       "    <tr style=\"text-align: right;\">\n",
       "      <th></th>\n",
       "      <th>Principal Remaining</th>\n",
       "      <th>Current Principal Payment</th>\n",
       "      <th>Current Interest Payment</th>\n",
       "      <th>Total Interest Paid</th>\n",
       "    </tr>\n",
       "  </thead>\n",
       "  <tbody>\n",
       "    <tr>\n",
       "      <th>357</th>\n",
       "      <td>11752.35</td>\n",
       "      <td>2935.66</td>\n",
       "      <td>4.90</td>\n",
       "      <td>61529.65</td>\n",
       "    </tr>\n",
       "    <tr>\n",
       "      <th>358</th>\n",
       "      <td>8815.71</td>\n",
       "      <td>2936.64</td>\n",
       "      <td>3.92</td>\n",
       "      <td>61533.57</td>\n",
       "    </tr>\n",
       "    <tr>\n",
       "      <th>359</th>\n",
       "      <td>5878.10</td>\n",
       "      <td>2937.61</td>\n",
       "      <td>2.94</td>\n",
       "      <td>61536.51</td>\n",
       "    </tr>\n",
       "    <tr>\n",
       "      <th>360</th>\n",
       "      <td>2939.51</td>\n",
       "      <td>2938.59</td>\n",
       "      <td>1.96</td>\n",
       "      <td>61538.47</td>\n",
       "    </tr>\n",
       "    <tr>\n",
       "      <th>361</th>\n",
       "      <td>-0.06</td>\n",
       "      <td>2939.57</td>\n",
       "      <td>0.98</td>\n",
       "      <td>61539.45</td>\n",
       "    </tr>\n",
       "  </tbody>\n",
       "</table>\n",
       "</div>"
      ],
      "text/plain": [
       "     Principal Remaining  Current Principal Payment  Current Interest Payment  \\\n",
       "357             11752.35                    2935.66                      4.90   \n",
       "358              8815.71                    2936.64                      3.92   \n",
       "359              5878.10                    2937.61                      2.94   \n",
       "360              2939.51                    2938.59                      1.96   \n",
       "361                -0.06                    2939.57                      0.98   \n",
       "\n",
       "     Total Interest Paid  \n",
       "357             61529.65  \n",
       "358             61533.57  \n",
       "359             61536.51  \n",
       "360             61538.47  \n",
       "361             61539.45  "
      ]
     },
     "execution_count": 6,
     "metadata": {},
     "output_type": "execute_result"
    }
   ],
   "source": [
    "amortization_table.tail()"
   ]
  },
  {
   "cell_type": "code",
   "execution_count": null,
   "id": "81dee295",
   "metadata": {},
   "outputs": [],
   "source": []
  }
 ],
 "metadata": {
  "kernelspec": {
   "display_name": "Python 3 (ipykernel)",
   "language": "python",
   "name": "python3"
  },
  "language_info": {
   "codemirror_mode": {
    "name": "ipython",
    "version": 3
   },
   "file_extension": ".py",
   "mimetype": "text/x-python",
   "name": "python",
   "nbconvert_exporter": "python",
   "pygments_lexer": "ipython3",
   "version": "3.10.6"
  }
 },
 "nbformat": 4,
 "nbformat_minor": 5
}
