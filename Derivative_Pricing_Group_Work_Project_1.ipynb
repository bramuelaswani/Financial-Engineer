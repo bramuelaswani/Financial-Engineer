{
  "nbformat": 4,
  "nbformat_minor": 0,
  "metadata": {
    "colab": {
      "provenance": []
    },
    "kernelspec": {
      "name": "python3",
      "display_name": "Python 3"
    },
    "language_info": {
      "name": "python"
    }
  },
  "cells": [
    {
      "cell_type": "markdown",
      "source": [
        "# **DERIVATIVE PRICING Group Work Project #1 | Group #1207**\n",
        "\n",
        "|  |  |  |\n",
        "|:---|:---|:---|\n",
        "|**FULL LEGAL NAME** |  **LOCATION (COUNTRY)** |**EMAIL ADDRESSE** |\n",
        "| Khaled Tamim | France | ktamim.pro@gmail.com |\n",
        "| Bramuel Chetinde Aswani | Kenya | chetindeaswani@gmail.com |  \n",
        "| Martin Gatore | Rwanda | gatore68@gmail.com |\n",
        "\n",
        "---\n"
      ],
      "metadata": {
        "id": "9KxK5Cyp6nyD"
      }
    },
    {
      "cell_type": "markdown",
      "source": [
        "#**STEP 1**\n",
        "---"
      ],
      "metadata": {
        "id": "Ez_LfvV1l-Ln"
      }
    },
    {
      "cell_type": "markdown",
      "source": [
        "## Put-Call Parity in the context of binomial tree Model - **Group**\n"
      ],
      "metadata": {
        "id": "22g_53dQVooS"
      }
    },
    {
      "cell_type": "markdown",
      "source": [
        "### **Question 1** - Application of Put-Call Parity for European Options"
      ],
      "metadata": {
        "id": "IH8URMjpWAgk"
      }
    },
    {
      "cell_type": "markdown",
      "source": [
        "Put-call parity applies for European options. It is based on the principle of no-arbitrage and applies to any two securities that have the same underlying asset and expiration date. European call and put options on the same underlying asset with the same strike price and expiration date are essentially the same securities but with different payoffs. Therefore, their prices must be related in a specific way according to put-call parity, which states that the sum of the price of a call option and the present value of the strike price of a put option is equal to the sum of the price of a put option and the present value of the underlying asset. If put-call parity does not hold, then there is an opportunity for arbitrage, and the prices of the options will adjust until parity is achieved."
      ],
      "metadata": {
        "id": "0WLq9vGyWj1l"
      }
    },
    {
      "cell_type": "markdown",
      "source": [
        "### **Question 2** - Solving for Call Price using Put-Call Parity"
      ],
      "metadata": {
        "id": "vfx4T0HVWm7y"
      }
    },
    {
      "cell_type": "markdown",
      "source": [
        "Put-call parity can be rearranged to solve for the call price as follows:\n",
        "\n",
        "$C + PV(K) = P + S$\n",
        "\n",
        "$C = P + S - PV(K)$\n",
        "\n",
        "where $C$ is the price of the call option, $PV(K)$ is the present value of the strike price, $P$ is the price of the put option, and $S$ is the current price of the underlying asset."
      ],
      "metadata": {
        "id": "3AR4k5FqXwKc"
      }
    },
    {
      "cell_type": "markdown",
      "source": [
        "### **Question 3** - Solving for Put Price using Put-Call Parity"
      ],
      "metadata": {
        "id": "g6niW-MnYHvc"
      }
    },
    {
      "cell_type": "markdown",
      "source": [
        "Put-call parity can be rearranged to solve for the put price as follows:\n",
        "\n",
        "$P + S = C + PV(K)$\n",
        "\n",
        "$P = C + PV(K) - S$\n",
        "\n",
        "where $P$ is the price of the put option, $PV(K)$ is the present value of the strike price, $C$ is the price of the call option, and $S$ is the current price of the underlying asset.\n"
      ],
      "metadata": {
        "id": "jyvMzX-8YtW_"
      }
    },
    {
      "cell_type": "markdown",
      "source": [
        "### **Question 4** - Put-Call Parity for American Options"
      ],
      "metadata": {
        "id": "2FzOIEtZZBQE"
      }
    },
    {
      "cell_type": "markdown",
      "source": [
        "Put-call parity does apply for American options, but it is more complex because American options can be exercised at any time before expiration, while European options can only be exercised at expiration. This means that the early exercise of an American option can affect the put-call parity relationship. However, in a binomial tree model, the put-call parity relationship can still be used to verify the prices of American options. If put-call parity does not hold for American options, then there is an opportunity for arbitrage and the prices will adjust until parity is achieved. In practice, other models, such as the Black-Scholes model, may be used to price American options.\n"
      ],
      "metadata": {
        "id": "Eo2Mcr25ZFvl"
      }
    },
    {
      "cell_type": "markdown",
      "source": [
        "## Working with European Calls and Puts using a Binomial Tree Model - **Team member A**"
      ],
      "metadata": {
        "id": "nboxNyxTZRl0"
      }
    },
    {
      "cell_type": "markdown",
      "source": [
        "### **Question 5** - Pricing an ATM European Call and Put Option with a Binomial Tree Model"
      ],
      "metadata": {
        "id": "j1h-DVUlZdYu"
      }
    },
    {
      "cell_type": "markdown",
      "source": [
        "**a. Number of steps in the tree**\n"
      ],
      "metadata": {
        "id": "Chtexgtacwlw"
      }
    },
    {
      "cell_type": "markdown",
      "source": [
        "For an ATM European call and put option, the strike price is equal to the current stock price, which is 100 in this case. To achieve reliable estimates, we can choose a number of steps in the tree between 50 to 100. We can use a higher number of steps to achieve more accurate estimates, but this also increases computational resources and may not be necessary for a good estimate. For our case we choose a tree with 100 steps and will check later if this number needs to be adjusted by calculating the convergence.\n",
        "\n"
      ],
      "metadata": {
        "id": "U8262DgAdy1e"
      }
    },
    {
      "cell_type": "markdown",
      "source": [
        "**b. Overall ATM pricing process**"
      ],
      "metadata": {
        "id": "4HJweXpqdkhz"
      }
    },
    {
      "cell_type": "markdown",
      "source": [
        "To price an ATM (At-the-Money) European call and put option using a binomial tree, we follow these steps:\n",
        "\n",
        "1. Determine the number of time steps in the tree. This is a trade-off between accuracy and computational efficiency. More time steps generally lead to more accurate prices but also take more computational resources.\n",
        "\n",
        "2. Calculate the size of each time step. The size of each time step depends on the time to expiration of the option and the number of time steps in the tree.\n",
        "\n",
        "3. Calculate the up and down factors for the tree. These factors depend on the volatility of the underlying asset, the size of each time step, and the interest rate.\n",
        "\n",
        "4. Calculate the option prices at each node of the tree. We start at the final time step and work backwards to the present time, using the risk-neutral probabilities of moving up or down in the tree and the expected option prices at the next time step.\n",
        "\n",
        "5. Compute the present value of the option price at the root node of the tree, which represents the option price at time zero.\n",
        "\n",
        "The time step is T/100 = (3/12)/100 = 1/400 years. We can calculate the up and down factors for the tree as follows:\n",
        "\n",
        "u = exp(σ * sqrt(1/400)) = 1.01\n",
        "d = 1/u = 0.99\n",
        "\n",
        "Using these up and down factors, we can construct the binomial tree and calculate the option prices at each node. Finally, we can calculate the present value of the option price at the root node to obtain the option price."
      ],
      "metadata": {
        "id": "E1y767e_eePm"
      }
    },
    {
      "cell_type": "markdown",
      "source": [
        "Calculating European call option using binomial tree:"
      ],
      "metadata": {
        "id": "IPYIKIZOej4R"
      }
    },
    {
      "cell_type": "code",
      "source": [
        "import numpy as np\n",
        "from prettytable import PrettyTable\n",
        "def binomial_european_call(S0, sigma, K, T, r, N):\n",
        "    dt = T / N  # Define time step\n",
        "    u = np.exp(sigma*np.sqrt(dt))\n",
        "    d = 1/u\n",
        "    p = (np.exp(r * dt) - d) / (u - d)  # Risk neutral probs\n",
        "    C = np.zeros([N + 1, N + 1])  # Call prices\n",
        "    S = np.zeros([N + 1, N + 1])  # Underlying price\n",
        "    for i in range(0, N + 1):\n",
        "        C[N, i] = max(S0 * (u ** (i)) * (d ** (N - i)) - K, 0)\n",
        "        S[N, i] = S0 * (u ** (i)) * (d ** (N - i))\n",
        "    for j in range(N - 1, -1, -1):\n",
        "        for i in range(0, j + 1):\n",
        "            C[j, i] = np.exp(-r * dt) * (p * C[j + 1, i + 1] + (1 - p) * C[j + 1, i])\n",
        "            S[j, i] = S0 * (u ** (i)) * (d ** (j - i))\n",
        "    return C[0, 0], C, S\n",
        "\n",
        "def binomial_european_put(S0, sigma, K, T, r, N):\n",
        "    dt = T / N  # Define time step\n",
        "    u = np.exp(sigma*np.sqrt(dt))\n",
        "    d = 1/u\n",
        "    p = (np.exp(r * dt) - d) / (u - d)  # Risk neutral probs\n",
        "    P = np.zeros([N + 1, N + 1])  # Call prices\n",
        "    S = np.zeros([N + 1, N + 1])  # Underlying price\n",
        "    for i in range(0, N + 1):\n",
        "        P[N, i] = max(K - (S0 * (u ** (i)) * (d ** (N - i))), 0)\n",
        "        S[N, i] = S0 * (u ** (i)) * (d ** (N - i))\n",
        "    for j in range(N - 1, -1, -1):\n",
        "        for i in range(0, j + 1):\n",
        "            P[j, i] = np.exp(-r * dt) * (p * P[j + 1, i + 1] + (1 - p) * P[j + 1, i])\n",
        "            S[j, i] = S0 * (u ** (i)) * (d ** (j - i))\n",
        "    return P[0, 0], P, S\n",
        "\n",
        "def put_call_parity_european(S0, K, r, T, call_price, put_price):\n",
        "    left_side = round(call_price - put_price, 2)\n",
        "    right_side = round(S0 - K * np.exp(-r * T),2)\n",
        "    parity_diff = abs(left_side - right_side)\n",
        "    tolerance = 0.01 * S0  # 1% tolerance for difference between left and right sides \n",
        "    if parity_diff < tolerance:\n",
        "        print(\"Put-Call Parity holds.\")\n",
        "    else:\n",
        "        print(\"Put-Call Parity does not hold.\")\n",
        "    return\n",
        "\n",
        "# Parameters\n",
        "S0 = 100\n",
        "K = 100\n",
        "r = 0.05\n",
        "sigma = 0.2\n",
        "T = 0.25\n",
        "N = 100\n",
        "\n",
        "# Calculating call and put options\n",
        "call_price, C, S = binomial_european_call(S0, sigma, K, T, r, N)\n",
        "call_price = round(call_price,2)\n",
        "put_price, P, S = binomial_european_put(S0, sigma, K, T, r, N)\n",
        "put_price = round(put_price,2)\n",
        "\n",
        "# Print results in table\n",
        "table = PrettyTable()\n",
        "table.field_names = [\"Option\", \"Price\"]\n",
        "table.add_row([\"ATM European call\", call_price])\n",
        "table.add_row([\"ATM European put\", put_price])\n",
        "print(table)\n",
        "\n",
        "# Put-Call parity check\n",
        "put_call_parity_european(S0, K, r, T, call_price, put_price)"
      ],
      "metadata": {
        "colab": {
          "base_uri": "https://localhost:8080/"
        },
        "id": "iQYGE9k8teIr",
        "outputId": "002e1aba-a7d7-4002-800e-9acd284905ce"
      },
      "execution_count": null,
      "outputs": [
        {
          "output_type": "stream",
          "name": "stdout",
          "text": [
            "+-------------------+-------+\n",
            "|       Option      | Price |\n",
            "+-------------------+-------+\n",
            "| ATM European call |  4.61 |\n",
            "|  ATM European put |  3.36 |\n",
            "+-------------------+-------+\n",
            "Put-Call Parity holds.\n"
          ]
        }
      ]
    },
    {
      "cell_type": "markdown",
      "source": [
        "Checking the convergence and if the selected N makes sense:"
      ],
      "metadata": {
        "id": "cj1sROd0ey-8"
      }
    },
    {
      "cell_type": "code",
      "source": [
        "price_array = []\n",
        "for N in [1, 10, 100, 200, 300, 400, 500]:\n",
        "    price, P, S = binomial_european_call(100, 0.2, 100, 0.25, 0.05, N)\n",
        "    price_array.append(price)\n",
        "    print(\"With N = {:3d}, the price is {:.2f}\".format(N, price))\n",
        "for N in [1, 10, 100, 200, 300, 400, 500]:\n",
        "    price, P, S = binomial_european_put(100, 0.2, 100, 0.25, 0.05, N)\n",
        "    price_array.append(price)\n",
        "    print(\"With N = {:3d}, the price is {:.2f}\".format(N, price))"
      ],
      "metadata": {
        "colab": {
          "base_uri": "https://localhost:8080/"
        },
        "id": "u7V2tA-YIgfX",
        "outputId": "829e6ac2-cc94-46cc-9067-aa8ec744d2f3"
      },
      "execution_count": null,
      "outputs": [
        {
          "output_type": "stream",
          "name": "stdout",
          "text": [
            "With N =   1, the price is 5.59\n",
            "With N =  10, the price is 4.52\n",
            "With N = 100, the price is 4.61\n",
            "With N = 200, the price is 4.61\n",
            "With N = 300, the price is 4.61\n",
            "With N = 400, the price is 4.61\n",
            "With N = 500, the price is 4.61\n",
            "With N =   1, the price is 4.34\n",
            "With N =  10, the price is 3.27\n",
            "With N = 100, the price is 3.36\n",
            "With N = 200, the price is 3.37\n",
            "With N = 300, the price is 3.37\n",
            "With N = 400, the price is 3.37\n",
            "With N = 500, the price is 3.37\n"
          ]
        }
      ]
    },
    {
      "cell_type": "markdown",
      "source": [
        "N= 100 seems to be convenient to achieve reliable estimates."
      ],
      "metadata": {
        "id": "v0I7NFxTe8m9"
      }
    },
    {
      "cell_type": "markdown",
      "source": [
        "### **Question 6** - Greek Delta for the European call and European put at time 0"
      ],
      "metadata": {
        "id": "ijtzacQamzeY"
      }
    },
    {
      "cell_type": "markdown",
      "source": [
        "**a. Comparison**\n",
        "\n",
        "To compute Delta for the European call and European put, we can use the following formulas:\n",
        "\n",
        "Delta for the European call:\n",
        "\n",
        "$$\\Delta_{\\text{call}} = \\frac{C(S_0+\\Delta S)-C(S_0)}{\\Delta S}$$\n",
        "\n",
        "Delta for the European put:\n",
        "\n",
        "$$\\Delta_{\\text{put}} = \\frac{P(S_0+\\Delta S)-P(S_0)}{\\Delta S}$$\n",
        "\n",
        "where $C$ and $P$ are the call and put prices at time 0, respectively, $S_0$ is the stock price at time 0, and $\\Delta S$ is a small change in the stock price."
      ],
      "metadata": {
        "id": "OcbievstnD-n"
      }
    },
    {
      "cell_type": "code",
      "source": [
        "# Compute delta of call option\n",
        "delta_call = (C[1,1] - C[1,0]) / (S[1,1] - S[1,0])\n",
        "print(\"Delta of European call option: \", round(delta_call,2))\n",
        "\n",
        "# Compute delta of put option\n",
        "delta_put = (P[1,1] - P[1,0]) / (S[1,1] - S[1,0])\n",
        "print(\"Delta of European put option: \", round(delta_put,2))\n"
      ],
      "metadata": {
        "colab": {
          "base_uri": "https://localhost:8080/"
        },
        "id": "0oI2gl3roYg0",
        "outputId": "0713e37a-66c5-4a4b-88b8-eeba86d5ccd7"
      },
      "execution_count": null,
      "outputs": [
        {
          "output_type": "stream",
          "name": "stdout",
          "text": [
            "Delta of European call option:  0.57\n",
            "Delta of European put option:  -0.43\n"
          ]
        }
      ]
    },
    {
      "cell_type": "markdown",
      "source": [
        "The Delta of the European call option is 0.57, which is positive, and the Delta of the European put option is -0.43, which is negative. Therefore, the Delta for the call option is greater than that for the put option. This means that the call option is positively correlated with the underlying asset, while the put option is negatively correlated."
      ],
      "metadata": {
        "id": "SQ7BLIGJDofG"
      }
    },
    {
      "cell_type": "markdown",
      "source": [
        "**b. Differences and signs of Delta for both options**\n",
        "\n",
        "The Delta of an option is a measure of the option's sensitivity to changes in the underlying asset's price. A positive Delta indicates that the option price will increase with an increase in the underlying asset's price, while a negative Delta indicates that the option price will decrease with an increase in the underlying asset's price.\n",
        "\n",
        "For the European call option, the Delta is positive, indicating that the option price will increase with an increase in the underlying asset's price. In other words, as the stock price goes up, the call option's price goes up. Therefore, a Delta of 0.57 suggests that the option is moderately sensitive to changes in the underlying asset's price.\n",
        "\n",
        "On the other hand, for the European put option, the Delta is negative, indicating that the option price will decrease with an increase in the underlying asset's price. In other words, as the stock price goes up, the put option's price goes down. Therefore, a Delta of -0.43 suggests that the option is also moderately sensitive to changes in the underlying asset's price, but in the opposite direction.\n",
        "\n",
        "The Delta of an option can be thought of as a proxy for the option's exposure to the underlying asset. It is a key parameter in options trading as it can be used to hedge risk. By buying or selling the underlying asset in the correct proportion, a trader can offset the Delta risk of an option position.\n",
        "\n",
        "It makes sense to obtain a positive or negative Delta for each option as it indicates the option's sensitivity to changes in the underlying asset's price. A positive Delta is expected for a call option, while a negative Delta is expected for a put option, as they provide the option holder with the right to buy and sell the underlying asset, respectively."
      ],
      "metadata": {
        "id": "qkb1IkIwETaM"
      }
    },
    {
      "cell_type": "markdown",
      "source": [
        "### **Question 7** - Understanding Option Sensitivities"
      ],
      "metadata": {
        "id": "FmesCUrlHC9H"
      }
    },
    {
      "cell_type": "markdown",
      "source": [
        "**a. Increasing option sensitivities**\n"
      ],
      "metadata": {
        "id": "M2-EYN74HOxo"
      }
    },
    {
      "cell_type": "code",
      "source": [
        "# Parameters\n",
        "S0 = 100\n",
        "K = 100\n",
        "r = 0.05\n",
        "sigma_20 = 0.20\n",
        "sigma_25 = 0.25\n",
        "T = 0.25\n",
        "N = 100\n",
        "\n",
        "# Calculating call and put options\n",
        "call_price_20, C, S = binomial_european_call(S0, sigma_20, K, T, r, N)\n",
        "call_price_25, C, S = binomial_european_call(S0, sigma_25, K, T, r, N)\n",
        "put_price_20, P, S = binomial_european_put(S0, sigma_20, K, T, r, N)\n",
        "put_price_25, P, S = binomial_european_put(S0, sigma_25, K, T, r, N)\n",
        "\n",
        "# Print results in table\n",
        "table = PrettyTable()\n",
        "table.field_names = [\"Option\", \"Price for sigma 20%\", \"Price for sigma 25%\"]\n",
        "table.add_row([\"ATM European call\", round(call_price_20,2), round(call_price_25,2)])\n",
        "table.add_row([\"ATM European put\", round(put_price_20,2), round(put_price_25,2)])\n",
        "print(table)\n",
        "\n",
        "# Put-Call parity check\n",
        "put_call_parity_european(S0, K, r, T, call_price_25, put_price_25)"
      ],
      "metadata": {
        "colab": {
          "base_uri": "https://localhost:8080/"
        },
        "id": "BzhIrfp4HPRB",
        "outputId": "8db14769-85da-40df-9acd-208e2d122099"
      },
      "execution_count": null,
      "outputs": [
        {
          "output_type": "stream",
          "name": "stdout",
          "text": [
            "+-------------------+---------------------+---------------------+\n",
            "|       Option      | Price for sigma 20% | Price for sigma 25% |\n",
            "+-------------------+---------------------+---------------------+\n",
            "| ATM European call |         4.61        |         5.59        |\n",
            "|  ATM European put |         3.36        |         4.34        |\n",
            "+-------------------+---------------------+---------------------+\n",
            "Put-Call Parity holds.\n"
          ]
        }
      ]
    },
    {
      "cell_type": "markdown",
      "source": [
        "The prices of both the ATM European call and put options increase when the volatility increases from 20% to 25%. The price of the call option increases from 4.61 to 5.59, and the price of the put option increases from 3.36 to 4.34."
      ],
      "metadata": {
        "id": "NZZzNkwXI_f4"
      }
    },
    {
      "cell_type": "markdown",
      "source": [
        "**b. Potential Differential Impact**"
      ],
      "metadata": {
        "id": "GVDnlblLJB2E"
      }
    },
    {
      "cell_type": "markdown",
      "source": [
        "The potential impact of a change in volatility may differ for call and put options. Generally, an increase in volatility leads to an increase in the value of both call and put options, as there is a higher likelihood of the underlying asset moving in a way that benefits the option holder. However, the impact on the value of the call and put options may not be symmetrical.\n",
        "\n",
        "For example, when the volatility increases, the price of the call option may increase more than the price of the put option, as the call option gives the holder the right to buy the underlying asset at a certain price. If the underlying asset's price increases due to increased volatility, the call option's value will increase as well, giving the holder the potential to profit from the price increase.\n",
        "\n",
        "An increase in volatility may not have as much impact on the value of a put option, as the put option gives the holder the right to sell the underlying asset at a certain price. If the underlying asset's price decreases due to increased volatility, the put option's value may increase, but the potential profit for the option holder may be limited due to the already low price of the underlying asset.\n",
        "\n",
        "Therefore, the impact of a change in volatility on the value of call and put options may depend on other factors such as the strike price, time to expiration, and the current price of the underlying asset."
      ],
      "metadata": {
        "id": "6tLMronbJL_b"
      }
    },
    {
      "cell_type": "markdown",
      "source": [
        "## Working with American Calls and Puts using a Binomial Tree Model - **Team member B**"
      ],
      "metadata": {
        "id": "mg8HyYJYKhcV"
      }
    },
    {
      "cell_type": "markdown",
      "source": [
        "### **Question 8** - Pricing an ATM American Call and Put Option with a Binomial Tree Model"
      ],
      "metadata": {
        "id": "t1-O0bqjKsG0"
      }
    },
    {
      "cell_type": "markdown",
      "source": [
        "**a. Number of steps in the tree**"
      ],
      "metadata": {
        "id": "2PXygV7aLrkU"
      }
    },
    {
      "cell_type": "markdown",
      "source": [
        "For an ATM American call and put option, the strike price is equal to the current stock price, which is 100 in this case. To price this option using a binomial tree model, we need to choose a suitable number of steps in the tree. A higher number of steps will result in more accurate estimates, but it also increases the computational resources required. Therefore, we can start by selecting a tree with 50 to 100 steps, and then check the convergence of the option pricing by comparing the results of different tree sizes. For our case, we choose a binomial tree with 100 steps, and we will adjust this number if necessary to achieve convergence."
      ],
      "metadata": {
        "id": "EjEyd_qVLryp"
      }
    },
    {
      "cell_type": "markdown",
      "source": [
        "**b. Overall ATM pricing process**"
      ],
      "metadata": {
        "id": "WcCMxJfKME5g"
      }
    },
    {
      "cell_type": "markdown",
      "source": [
        "To price an ATM (At-the-Money) American call and put option using a binomial tree, we follow these steps:\n",
        "1. Determine the number of time steps in the tree. This is a trade-off between accuracy and computational efficiency. More time steps generally lead to more accurate prices but also take more computational resources.\n",
        "\n",
        "2. Calculate the size of each time step. The size of each time step depends on the time to expiration of the option and the number of time steps in the tree.\n",
        "\n",
        "3. Calculate the up and down factors for the tree. These factors depend on the volatility of the underlying asset, the size of each time step, and the interest rate.\n",
        "\n",
        "4. Calculate the option prices at each node of the tree. We start at the final time step and work backwards to the present time, using the risk-neutral probabilities of moving up or down in the tree and comparing the option price at each node to the intrinsic value of the option. We choose the higher of the two values to account for the possibility of early exercise.\n",
        "\n",
        "5. Compute the present value of the option price at the root node of the tree, which represents the option price at time zero.\n",
        "\n",
        "For an American ATM option, we can calculate the up and down factors as before, and use these factors to construct the binomial tree. Then, for each node in the tree, we compare the option price to the intrinsic value of the option at that node, and choose the higher of the two values. Finally, we can calculate the present value of the option price at the root node to obtain the option price.\n"
      ],
      "metadata": {
        "id": "2Qj0YI4EMMY-"
      }
    },
    {
      "cell_type": "markdown",
      "source": [
        "Calculating American call option using binomial tree:"
      ],
      "metadata": {
        "id": "CkdMInPbNjHi"
      }
    },
    {
      "cell_type": "code",
      "source": [
        "import numpy as np\n",
        "from prettytable import PrettyTable\n",
        "\n",
        "def binomial_american_call(S0, sigma, K, T, r, N):\n",
        "    dt = T / N # Define time step\n",
        "    u = np.exp(sigma*np.sqrt(dt))\n",
        "    d = 1/u\n",
        "    p = (np.exp(r * dt) - d) / (u - d) # Risk neutral probs\n",
        "    C = np.zeros([N + 1, N + 1]) # Call prices\n",
        "    S = np.zeros([N + 1, N + 1]) # Underlying price\n",
        "    for i in range(0, N + 1):\n",
        "      C[N, i] = max(S0 * (u ** (i)) * (d ** (N - i)) - K, 0)\n",
        "      S[N, i] = S0 * (u ** (i)) * (d ** (N - i))\n",
        "    for j in range(N - 1, -1, -1):\n",
        "      for i in range(0, j + 1):\n",
        "        exercise = S0 * (u ** i) * (d ** (j - i)) - K\n",
        "        C[j, i] = max(np.exp(-r * dt) * (p * C[j + 1, i + 1] + (1 - p) * C[j + 1, i]), exercise)\n",
        "        S[j, i] = S0 * (u ** (i)) * (d ** (j - i))\n",
        "    return C[0, 0], C, S\n",
        "\n",
        "def binomial_american_put(S0, sigma, K, T, r, N):\n",
        "    dt = T / N  # Define time step\n",
        "    u = np.exp(sigma*np.sqrt(dt))\n",
        "    d = 1/u\n",
        "    p = (np.exp(r * dt) - d) / (u - d)  # Risk neutral probs\n",
        "    P = np.zeros([N + 1, N + 1])  # Put prices\n",
        "    S = np.zeros([N + 1, N + 1])  # Underlying price\n",
        "    for i in range(0, N + 1):\n",
        "        P[N, i] = max(K - (S0 * (u ** (i)) * (d ** (N - i))), 0)\n",
        "        S[N, i] = S0 * (u ** (i)) * (d ** (N - i))\n",
        "    for j in range(N - 1, -1, -1):\n",
        "        for i in range(0, j + 1):\n",
        "            P[j, i] = np.maximum(max(K - (S0 * (u ** (i)) * (d ** (j - i))), 0), np.exp(-r * dt) * (p * P[j + 1, i + 1] + (1 - p) * P[j + 1, i]))\n",
        "            S[j, i] = S0 * (u ** (i)) * (d ** (j - i))\n",
        "    return P[0, 0], P, S\n",
        "\n",
        "def put_call_parity_american(S0, K, r, T, call_price, put_price):\n",
        "    left_side = round(call_price - put_price, 2)\n",
        "    right_side = round(max(S0 - K, 0) - (call_price - put_price), 2)\n",
        "    parity_diff = abs(left_side - right_side)\n",
        "    tolerance = 0.01 * S0  # 1% tolerance for difference between left and right sides \n",
        "    if parity_diff < tolerance:\n",
        "        print(\"Put-Call Parity holds.\")\n",
        "    else:\n",
        "        print(\"Put-Call Parity does not hold.\")\n",
        "    print(\"Put-Call Parity does not apply to American options.\")\n",
        "    return\n",
        "\n",
        "\n",
        "# Parameters\n",
        "S0 = 100\n",
        "K = 100\n",
        "r = 0.05\n",
        "sigma = 0.2\n",
        "T = 0.25\n",
        "N = 100\n",
        "\n",
        "# Calculating call and put options\n",
        "call_price_american, C, S = binomial_american_call(S0, sigma, K, T, r, N)\n",
        "call_price_american = round(call_price_american,2)\n",
        "put_price_american, P, S = binomial_american_put(S0, sigma, K, T, r, N)\n",
        "put_price_american = round(put_price_american,2)\n",
        "\n",
        "# Print results in table\n",
        "table = PrettyTable()\n",
        "table.field_names = [\"Option\", \"Price\"]\n",
        "table.add_row([\"ATM American call\", call_price_american])\n",
        "table.add_row([\"ATM American put\", put_price_american])\n",
        "print(table)\n",
        "\n",
        "# Put-Call parity check\n",
        "put_call_parity_american(S0, K, r, T, call_price_american, put_price_american)"
      ],
      "metadata": {
        "id": "qrfpHt2dNqi-",
        "colab": {
          "base_uri": "https://localhost:8080/"
        },
        "outputId": "b0f581b9-0979-4a62-b476-81f757a868b1"
      },
      "execution_count": null,
      "outputs": [
        {
          "output_type": "stream",
          "name": "stdout",
          "text": [
            "+-------------------+-------+\n",
            "|       Option      | Price |\n",
            "+-------------------+-------+\n",
            "| ATM American call |  4.61 |\n",
            "|  ATM American put |  3.47 |\n",
            "+-------------------+-------+\n",
            "Put-Call Parity does not hold.\n",
            "Put-Call Parity does not apply to American options.\n"
          ]
        }
      ]
    },
    {
      "cell_type": "markdown",
      "source": [
        "### **Question 9** - Greek Delta for the American call and European put at time 0"
      ],
      "metadata": {
        "id": "2wXHuASibj9o"
      }
    },
    {
      "cell_type": "markdown",
      "source": [
        "**a. Comparison**\n",
        "\n",
        "To compute Delta for the American call and American put, we can use the following formulas:\n",
        "\n",
        "Delta for the American call:\n",
        "\n",
        "$$\\Delta_{\\text{call}} = \\max \\left(0, \\frac{C(S_0+\\Delta S)-C(S_0)}{\\Delta S} \\right)$$\n",
        "\n",
        "Delta for the American put:\n",
        "\n",
        "$$\\Delta_{\\text{put}} = \\max \\left(0, \\frac{P(S_0+\\Delta S)-P(S_0)}{\\Delta S} \\right)$$\n",
        "\n",
        "where $C$ and $P$ are the call and put prices at time 0, respectively, $S_0$ is the stock price at time 0, and $\\Delta S$ is a small change in the stock price.\n",
        "\n",
        "The main difference is that for the American options, we need to take into account the possibility of early exercise. As a result, the Delta for the American call and put is the maximum between 0 and the Delta for the European call and put, respectively. This is because if the Delta is negative, it means that the option is out of the money and exercising early would result in a loss."
      ],
      "metadata": {
        "id": "n05Rxh8ibrZc"
      }
    },
    {
      "cell_type": "code",
      "source": [
        "# Compute delta of American call option\n",
        "delta_call_american = max(0, (C[1,1] - C[1,0]) / (S[1,1] - S[1,0]))\n",
        "print(\"Delta of American call option: \", round(delta_call_american,2))\n",
        "\n",
        "# Compute delta of American put option\n",
        "delta_put_american = max(0, (P[1,1] - P[1,0]) / (S[1,1] - S[1,0]))\n",
        "print(\"Delta of American put option: \", round(delta_put_american,2))"
      ],
      "metadata": {
        "colab": {
          "base_uri": "https://localhost:8080/"
        },
        "id": "W1M5ZmXcsjSK",
        "outputId": "e44b15ab-484c-40f4-f9db-26ce3d30b877"
      },
      "execution_count": null,
      "outputs": [
        {
          "output_type": "stream",
          "name": "stdout",
          "text": [
            "Delta of American call option:  0.57\n",
            "Delta of American put option:  0\n"
          ]
        }
      ]
    },
    {
      "cell_type": "markdown",
      "source": [
        "The main difference is that we use the max function to take into account the possibility of early exercise. If the Delta calculated from the European formula is negative, it means that exercising early would result in a loss, so we set the Delta to 0 in that case. The Delta of the American call option is 0.57, while the Delta of the American put option is 0. This indicates that the call option has a higher likelihood of being exercised early, compared to the put option, if the stock price increases. In contrast, the put option is unlikely to be exercised early since it is out of the money."
      ],
      "metadata": {
        "id": "dV1txZG-s6ah"
      }
    },
    {
      "cell_type": "markdown",
      "source": [
        "**b. Differences and signs of Delta for both options**\n",
        "\n",
        "The Delta of an option measures the sensitivity of the option price to changes in the underlying asset price. A positive Delta indicates that the option price increases when the underlying asset price increases, while a negative Delta indicates that the option price decreases when the underlying asset price increases. In the case of an American call option, a Delta of 0.57 suggests that the option price will increase by 0.57 when the underlying asset price increases by $1. This means that the holder of the call option will profit from an increase in the stock price, and may exercise early to capture the gain. On the other hand, the Delta of an American put option is 0, indicating that the option price does not change when the underlying asset price increases. This means that the holder of the put option has limited downside protection and may choose to hold the option until expiration, hoping that the stock price will decrease further.\n",
        "\n",
        "Delta is a measure of the option's price sensitivity to changes in the underlying asset price. A positive Delta indicates that the option price increases when the underlying asset price increases, while a negative Delta indicates that the option price decreases when the underlying asset price increases. It makes sense to obtain a positive Delta for a call option, as it allows the holder to capture the upside potential of the underlying asset. Conversely, it makes sense to obtain a negative Delta for a put option, as it provides downside protection to the holder in case the underlying asset price falls."
      ],
      "metadata": {
        "id": "QHM7bo_Ctmgb"
      }
    },
    {
      "cell_type": "markdown",
      "source": [
        "### **Question 10** - Understanding Option Sensitivities"
      ],
      "metadata": {
        "id": "eaTwtsw8uZ7Q"
      }
    },
    {
      "cell_type": "markdown",
      "source": [
        "**a. Increasing option sensitivities**"
      ],
      "metadata": {
        "id": "3Er1Fy7yuirv"
      }
    },
    {
      "cell_type": "code",
      "source": [
        "# Parameters\n",
        "S0 = 100\n",
        "K = 100\n",
        "r = 0.05\n",
        "sigma_20 = 0.20\n",
        "sigma_25 = 0.25\n",
        "T = 0.25\n",
        "N = 100\n",
        "\n",
        "# Calculating call and put options\n",
        "call_american_price_20, C, S = binomial_american_call(S0, sigma_20, K, T, r, N)\n",
        "call_american_price_25, C, S = binomial_american_call(S0, sigma_25, K, T, r, N)\n",
        "put_american_price_20, P, S = binomial_american_put(S0, sigma_20, K, T, r, N)\n",
        "put_american_price_25, P, S = binomial_american_put(S0, sigma_25, K, T, r, N)\n",
        "\n",
        "# Print results in table\n",
        "table = PrettyTable()\n",
        "table.field_names = [\"Option\", \"Price for sigma 20%\", \"Price for sigma 25%\"]\n",
        "table.add_row([\"ATM American call\", round(call_american_price_20,2), round(call_american_price_25,2)])\n",
        "table.add_row([\"ATM American put\", round(put_american_price_20,2), round(put_american_price_25,2)])\n",
        "print(table)\n",
        "\n",
        "# Put-Call parity check\n",
        "put_call_parity_american(S0, K, r, T, call_american_price_25, put_american_price_25)"
      ],
      "metadata": {
        "colab": {
          "base_uri": "https://localhost:8080/"
        },
        "id": "PbrM7aKSu9KZ",
        "outputId": "5e2a2c8a-19bb-434e-cab1-2a641cdff35e"
      },
      "execution_count": null,
      "outputs": [
        {
          "output_type": "stream",
          "name": "stdout",
          "text": [
            "+-------------------+---------------------+---------------------+\n",
            "|       Option      | Price for sigma 20% | Price for sigma 25% |\n",
            "+-------------------+---------------------+---------------------+\n",
            "| ATM American call |         4.61        |         5.59        |\n",
            "|  ATM American put |         3.47        |         4.45        |\n",
            "+-------------------+---------------------+---------------------+\n",
            "Put-Call Parity does not hold.\n",
            "Put-Call Parity does not apply to American options.\n"
          ]
        }
      ]
    },
    {
      "cell_type": "markdown",
      "source": [
        "The prices of both the American call and put options increase as the volatility increases, as evidenced by the fact that the option prices are higher when the volatility is 25% compared to when it is 20%."
      ],
      "metadata": {
        "id": "8GEOF13jw2pi"
      }
    },
    {
      "cell_type": "markdown",
      "source": [
        "**b. Potential differential impact**\n",
        "\n",
        "The differential impact of an increase in volatility on call and put options depends on the Delta of the options. Since Delta is positive for a call option and negative for a put option, an increase in volatility will have a greater impact on the price of the call option compared to the put option. This is because an increase in volatility will increase the likelihood of the underlying asset price increasing, and therefore increase the potential profit of the call option holder. On the other hand, an increase in volatility will have a smaller impact on the put option, as it will also increase the likelihood of the underlying asset price decreasing, which would increase the potential profit of the put option holder. However, the put option is already out of the money, so the increase in potential profit may not be significant. Therefore, the impact of an increase in volatility is likely to be asymmetric between call and put options."
      ],
      "metadata": {
        "id": "EW63jAO2w3jW"
      }
    },
    {
      "cell_type": "markdown",
      "source": [
        "## Graphical and Analytical Confirmations of Data - **Team member C**"
      ],
      "metadata": {
        "id": "cXkl7VEQN7XT"
      }
    },
    {
      "cell_type": "markdown",
      "source": [
        "### **Question 11** - European call and put: put-call parity check"
      ],
      "metadata": {
        "id": "ke1_Vq8oSba9"
      }
    },
    {
      "cell_type": "markdown",
      "source": [
        "To show that the European call and put options satisfy put-call parity, we can create a synthetic call and a synthetic put using the prices of the European call and put options. The synthetic call is constructed by buying a put option and the underlying asset, and selling a bond with a face value of the strike price. The synthetic put is constructed by buying a call option, selling the underlying asset, and buying a bond with a face value of the strike price.\n",
        "\n",
        "If put-call parity holds, the prices of the synthetic call and put options should be equal to the prices of the European call and put options. We can visually check this by plotting the prices of the four options and seeing if they intersect at the same point."
      ],
      "metadata": {
        "id": "8SOIobqRxNdz"
      }
    },
    {
      "cell_type": "code",
      "source": [
        "import matplotlib.pyplot as plt\n",
        "\n",
        "# Parameters\n",
        "S0 = 100\n",
        "K = 100\n",
        "r = 0.05\n",
        "sigma = 0.2\n",
        "T = 0.25\n",
        "N = 100\n",
        "\n",
        "# Calculate call and put option prices for different stock prices\n",
        "stock_prices = np.linspace(50, 150, 100)\n",
        "call_prices = []\n",
        "put_prices = []\n",
        "synthetic_call_prices = []\n",
        "synthetic_put_prices = []\n",
        "for S in stock_prices:\n",
        "    call_price, _, _ = binomial_european_call(S, sigma, K, T, r, N)\n",
        "    put_price, _, _ = binomial_european_put(S, sigma, K, T, r, N)\n",
        "    call_prices.append(call_price)\n",
        "    put_prices.append(put_price)\n",
        "    #left_side = round(call_price - put_price, 2)\n",
        "    #right_side = round(S0 - K * np.exp(-r * T),2)\n",
        "    #put_call_parity.append(abs(left_side-right_side+put_price))\n",
        "    # Construct synthetic call and put\n",
        "    synthetic_call = call_price + S0 - K * np.exp(-r * T)\n",
        "    synthetic_put = put_price + K * np.exp(-r * T) - S0\n",
        "    synthetic_call_prices.append(synthetic_call)\n",
        "    synthetic_put_prices.append(synthetic_put)\n",
        "\n",
        "# Plot option prices vs. stock prices\n",
        "plt.plot(stock_prices, call_prices, label='Call')\n",
        "plt.plot(stock_prices, put_prices, label='Put')\n",
        "plt.plot(stock_prices, synthetic_call_prices, label='Synthetic Call')\n",
        "plt.plot(stock_prices, synthetic_put_prices, label='Synthetic Put')\n",
        "\n",
        "plt.xlabel('Stock Price')\n",
        "plt.ylabel('Option Price')\n",
        "plt.axvline(x=K, color='gray', linestyle='--', label='Strike Price')\n",
        "plt.title('Graph. European call prices and put prices versus stock prices')\n",
        "plt.legend()\n",
        "plt.show()\n"
      ],
      "metadata": {
        "colab": {
          "base_uri": "https://localhost:8080/",
          "height": 295
        },
        "id": "79MC6-cPU5AX",
        "outputId": "cc94bb04-e592-4ea4-e368-959bed9d22eb"
      },
      "execution_count": null,
      "outputs": [
        {
          "output_type": "display_data",
          "data": {
            "text/plain": [
              "<Figure size 432x288 with 1 Axes>"
            ],
            "image/png": "[encoded data removed]"
          },
          "metadata": {
            "needs_background": "light"
          }
        }
      ]
    },
    {
      "cell_type": "markdown",
      "source": [
        "The graph shows that the European call and put satisfy put-call parity. Put-call parity is a fundamental principle in options pricing that ensures that the prices of a call option and a synthetic put option with the same underlying asset, strike price, and expiration date are equal. The reason why put-call parity holds is because of the arbitrage opportunities that would arise if it did not hold.\n",
        "\n",
        "If the price of a call option were greater than the price of a synthetic put option, a trader could buy the synthetic put and sell the call option, creating a riskless profit. This would drive up the price of the synthetic put option and drive down the price of the call option until they were equal. If the price of the synthetic put option were greater than the price of the call option, a trader could buy the call option and sell the synthetic put option, creating another riskless profit. This would drive up the price of the call option and drive down the price of the synthetic put option until they were equal.\n",
        "\n",
        "The motive behind put-call parity is to prevent arbitrage opportunities and ensure that options prices are consistent with each other. This allows market participants to make informed investment decisions based on the prices of options, and helps to promote a fair and efficient market."
      ],
      "metadata": {
        "id": "1NYSxJjdxfnj"
      }
    },
    {
      "cell_type": "markdown",
      "source": [
        "### **Question 12** - American call and put: put-call parity check"
      ],
      "metadata": {
        "id": "C1CU6KYrz6Gq"
      }
    },
    {
      "cell_type": "markdown",
      "source": [
        "To show that the American call and put options satisfy put-call parity, we can also create a synthetic call and a synthetic put using the prices of the American call and put options. The synthetic call can be constructed by buying a put option and the underlying asset, and selling a bond with a face value of the strike price. The synthetic put can be constructed by buying a call option, selling the underlying asset, and buying a bond with a face value of the strike price.\n",
        "\n",
        "Since the holder of an American option can exercise the option at any point before expiry, we must also check that the put-call parity relationship holds for all exercise times. If put-call parity holds, the prices of the synthetic call and put options should be equal to the prices of the American call and put options. We can visually check this by plotting the prices of the four options and seeing if they intersect at the same point for all exercise times."
      ],
      "metadata": {
        "id": "7CBby1QXLr6k"
      }
    },
    {
      "cell_type": "code",
      "source": [
        "import matplotlib.pyplot as plt\n",
        "\n",
        "# Parameters\n",
        "S0 = 100\n",
        "K = 100\n",
        "r = 0.05\n",
        "sigma = 0.2\n",
        "T = 0.25\n",
        "N = 100\n",
        "\n",
        "# Calculate call and put option prices for different stock prices\n",
        "stock_prices = np.linspace(50, 150, 100)\n",
        "call_prices = []\n",
        "put_prices = []\n",
        "synthetic_call_prices = []\n",
        "synthetic_put_prices = []\n",
        "for S in stock_prices:\n",
        "    call_price, _, _ = binomial_american_call(S, sigma, K, T, r, N)\n",
        "    put_price, _, _ = binomial_american_put(S, sigma, K, T, r, N)\n",
        "    call_prices.append(call_price)\n",
        "    put_prices.append(put_price)\n",
        "    synthetic_call = max(call_price, S0 - K * np.exp(-r * T))\n",
        "    synthetic_put = max(put_price, K * np.exp(-r * T) - S0)\n",
        "    synthetic_call_prices.append(synthetic_call)\n",
        "    synthetic_put_prices.append(synthetic_put)\n",
        "\n",
        "# Plot option prices vs. stock prices\n",
        "plt.plot(stock_prices, call_prices, label='Call')\n",
        "plt.plot(stock_prices, put_prices, label='Put')\n",
        "plt.plot(stock_prices, synthetic_call_prices, label='Synthetic Call')\n",
        "plt.plot(stock_prices, synthetic_put_prices, label='Synthetic Put')\n",
        "\n",
        "plt.xlabel('Stock Price')\n",
        "plt.ylabel('Option Price')\n",
        "plt.axvline(x=K, color='gray', linestyle='--', label='Strike Price')\n",
        "plt.title('Graph. American call and put: put-call parity check')\n",
        "plt.legend()\n",
        "plt.show()"
      ],
      "metadata": {
        "colab": {
          "base_uri": "https://localhost:8080/",
          "height": 295
        },
        "id": "D-aQcfoLz8hR",
        "outputId": "a564bfff-3d71-42fc-848b-ae7c1b7a7a2f"
      },
      "execution_count": null,
      "outputs": [
        {
          "output_type": "display_data",
          "data": {
            "text/plain": [
              "<Figure size 432x288 with 1 Axes>"
            ],
            "image/png": "[encoded data removed]"
          },
          "metadata": {
            "needs_background": "light"
          }
        }
      ]
    },
    {
      "cell_type": "markdown",
      "source": [
        "The put-call parity principle also applies to American options. However, due to the early exercise feature of American options, the put-call parity relationship can sometimes not hold. The early exercise feature of American options introduces additional variables, such as the optimal exercise time, and the possibility of receiving early exercise dividends, which makes put-call parity more difficult to maintain. As a result, in practice, the prices of American call and put options may not necessarily satisfy put-call parity. Market participants may exploit any mispricing opportunities that arise, creating arbitrage profits until the mispricing is corrected. However, it is important to note that the put-call parity principle remains an important concept for pricing options, even if it is not always strictly adhered to in the market.\n",
        "\n",
        "It is important to note that the motives for exploiting any mispricing opportunities that arise due to the violation of put-call parity in American options are not always clear. There are various possible motives that market participants might have in taking advantage of such opportunities. One possible motive for exploiting mispricing opportunities is to generate riskless profits. Market participants can do this by creating synthetic positions using the mispriced options and the underlying asset, which would lock in a riskless profit if put-call parity is violated. However, such opportunities are typically short-lived and are quickly corrected by market forces."
      ],
      "metadata": {
        "id": "2WoSThMvNBRM"
      }
    },
    {
      "cell_type": "markdown",
      "source": [
        "### **Question 13** - European call vs American call\n",
        "\n"
      ],
      "metadata": {
        "id": "UUf-4gn5THLd"
      }
    },
    {
      "cell_type": "code",
      "source": [
        "import numpy as np\n",
        "import matplotlib.pyplot as plt\n",
        "\n",
        "# Set the parameters\n",
        "S0 = 100\n",
        "K = 100\n",
        "r = 0.05\n",
        "sigma = 0.2\n",
        "T = 0.25\n",
        "N = 100\n",
        "\n",
        "# Calculate call option prices for different stock prices\n",
        "stock_prices = np.linspace(50, 150, 100)\n",
        "european_call_prices = []\n",
        "american_call_prices = []\n",
        "for S in stock_prices:\n",
        "    european_call_price, _, _ = binomial_european_call(S, sigma, K, T, r, N)\n",
        "    american_call_price, _, _ = binomial_american_call(S, sigma, K, T, r, N)\n",
        "    european_call_prices.append(european_call_price)\n",
        "    american_call_prices.append(american_call_price)\n",
        "\n",
        "# Plot the results\n",
        "plt.plot(stock_prices, european_call_prices, label='European Call', marker ='X')\n",
        "plt.plot(stock_prices, american_call_prices, label='American Call', marker ='.')\n",
        "plt.axvline(x=K, color='gray', linestyle='--', label='Strike Price')\n",
        "plt.xlabel('Stock Price')\n",
        "plt.ylabel('Option Price')\n",
        "plt.title('European vs American Call Options')\n",
        "plt.legend()\n",
        "plt.show()\n"
      ],
      "metadata": {
        "colab": {
          "base_uri": "https://localhost:8080/",
          "height": 295
        },
        "id": "mQ1YdylNTJPz",
        "outputId": "ce203b15-02b4-41c2-84f8-41898f808948"
      },
      "execution_count": null,
      "outputs": [
        {
          "output_type": "display_data",
          "data": {
            "text/plain": [
              "<Figure size 432x288 with 1 Axes>"
            ],
            "image/png": "[encoded data removed]"
          },
          "metadata": {
            "needs_background": "light"
          }
        }
      ]
    },
    {
      "cell_type": "markdown",
      "source": [
        "The graph shows that the European Call and the American Call are equal. The European call is always less than or equal to the American call. This is due to the early exercise feature of American options, which provides the option holder with greater flexibility compared to European options. Since American options can be exercised at any time before expiration, they are more valuable than European options, which can only be exercised at expiration. This additional flexibility means that American call options have an extra option to exercise early, and as a result, the American call option has a higher expected payoff than the European call option, all else equal.\n",
        "\n",
        "However, in practice, the difference between European and American call options may not be very significant. The difference between the two options is dependent on the size of the interest rate, the time to expiration, the volatility of the underlying asset, and the difference between the strike price and the current price of the underlying asset. In some cases, the value of an American option can be lower than the value of a European option. This can occur when the interest rate is low, the volatility of the underlying asset is high, or the strike price is very close to the current price of the underlying asset."
      ],
      "metadata": {
        "id": "1PyYVK2nWX0e"
      }
    },
    {
      "cell_type": "markdown",
      "source": [
        "### **Question 14** - European put vs American put"
      ],
      "metadata": {
        "id": "9laM_OjGW_nw"
      }
    },
    {
      "cell_type": "code",
      "source": [
        "import numpy as np\n",
        "import matplotlib.pyplot as plt\n",
        "\n",
        "# Set the parameters\n",
        "S0 = 100\n",
        "K = 100\n",
        "r = 0.05\n",
        "sigma = 0.2\n",
        "T = 0.25\n",
        "N = 100\n",
        "\n",
        "# Calculate put option prices for different stock prices\n",
        "stock_prices = np.linspace(50, 150, 100)\n",
        "european_put_prices = []\n",
        "american_put_prices = []\n",
        "for S in stock_prices:\n",
        "    european_put_price, _, _ = binomial_european_put(S, sigma, K, T, r, N)\n",
        "    american_put_price, _, _ = binomial_american_put(S, sigma, K, T, r, N)\n",
        "    european_put_prices.append(european_put_price)\n",
        "    american_put_prices.append(american_put_price)\n",
        "\n",
        "# Plot the results\n",
        "plt.plot(stock_prices, european_put_prices, label='European Put')\n",
        "plt.plot(stock_prices, american_put_prices, label='American Put')\n",
        "plt.axvline(x=K, color='gray', linestyle='--', label='Strike Price')\n",
        "plt.xlabel('Stock Price')\n",
        "plt.ylabel('Option Price')\n",
        "plt.title('European vs American Put Options')\n",
        "plt.legend()\n",
        "plt.show()\n"
      ],
      "metadata": {
        "colab": {
          "base_uri": "https://localhost:8080/",
          "height": 295
        },
        "id": "mGnM1hEuXJzi",
        "outputId": "a65f7bc8-377d-4211-a05f-e8e3b8bf6ea2"
      },
      "execution_count": null,
      "outputs": [
        {
          "output_type": "display_data",
          "data": {
            "text/plain": [
              "<Figure size 432x288 with 1 Axes>"
            ],
            "image/png": "[encoded data removed]"
          },
          "metadata": {
            "needs_background": "light"
          }
        }
      ]
    },
    {
      "cell_type": "markdown",
      "source": [
        "As we can see from the graph, the American Put is slightly higher that the European one. Similar to the case of calls, it is generally expected that the European put is less than or equal to the American put due to the early exercise feature of the American put option. This means that the holder of an American put option can exercise it at any time prior to expiration, while the holder of a European put option can only exercise it at expiration. The added flexibility of early exercise makes American options more valuable than their European counterparts, all else being equal. However, unlike the case of calls, it is possible that there are situations where the European put option is more valuable than the American put option. This may happen if the interest rates are high enough, the stock price is close to the strike price, or if the time to expiration is relatively short. In these cases, the benefit of early exercise may not be enough to offset the disadvantage of holding an American option that can be exercised at any time. Nevertheless, the difference between the prices of European and American put options is typically small and may not be significant in practice.\n",
        "\n",
        "The main reason why an American put option is generally more expensive than a European put option is the added value of the early exercise feature. An American put option gives the holder the right to exercise the option and sell the underlying asset at any time before the expiration date, whereas a European put option can only be exercised at the expiration date. This added flexibility makes American options more valuable than European options, and therefore the American put option will generally be more expensive than the European put option. The ability to exercise the option early can be particularly valuable in situations where the underlying asset is expected to decline in value, as it allows the holder of the option to lock in a profit or limit their losses before the asset's value decreases further."
      ],
      "metadata": {
        "id": "bD3GK95LXKB0"
      }
    },
    {
      "cell_type": "markdown",
      "source": [
        "#**STEP 2**\n",
        "---"
      ],
      "metadata": {
        "id": "v0pYAW8WY5ji"
      }
    },
    {
      "cell_type": "markdown",
      "source": [
        "## Working with European Options using a Trinomial Tree Model - **Team member B**"
      ],
      "metadata": {
        "id": "qAUrMPeLZL27"
      }
    },
    {
      "cell_type": "markdown",
      "source": [
        "### **Question 15** - Pricing 5 strike prices European Call Options with a Trinomial Tree Model\n"
      ],
      "metadata": {
        "id": "o-da6omKY_SM"
      }
    },
    {
      "cell_type": "markdown",
      "source": [
        "**a. Pricing the call options**"
      ],
      "metadata": {
        "id": "j81AiU9yipx0"
      }
    },
    {
      "cell_type": "code",
      "source": [
        "def trinomial_european_call(S, K, T, r, sigma, N, m):\n",
        "    # Calculate parameters\n",
        "    delta_t = T / N\n",
        "    u = np.exp(sigma * np.sqrt(2 * delta_t))\n",
        "    d = 1 / u\n",
        "    p = (np.exp(r * delta_t / 2) - np.exp(-sigma * np.sqrt(delta_t / 2))) ** 2 / \\\n",
        "        (np.exp(sigma * np.sqrt(delta_t / 2)) - np.exp(-sigma * np.sqrt(delta_t / 2))) ** 2\n",
        "    q = (np.exp(sigma * np.sqrt(delta_t / 2)) - np.exp(r * delta_t / 2)) ** 2 / \\\n",
        "        (np.exp(sigma * np.sqrt(delta_t / 2)) - np.exp(-sigma * np.sqrt(delta_t / 2))) ** 2\n",
        "    m = int(m)\n",
        "\n",
        "    # Initialize stock price and option price arrays\n",
        "    stock_prices = np.zeros((2 * N + 1, 2 * N + 1))\n",
        "    option_prices = np.zeros((2 * N + 1, 2 * N + 1))\n",
        "\n",
        "    # Initialize terminal values\n",
        "    for i in range(-N, N + 1):\n",
        "        stock_prices[N, i + N] = S * u ** i\n",
        "        option_prices[N, i + N] = max(stock_prices[N, i + N] - K, 0)\n",
        "\n",
        "    # Calculate option values at earlier times\n",
        "    for j in range(N - 1, -1, -1):\n",
        "        for i in range(-j, j + 1):\n",
        "            option_prices[j, i + N] = (p * option_prices[j + 1, i + N + 1] +\n",
        "                                       (1 - p - q) * option_prices[j + 1, i + N] +\n",
        "                                       q * option_prices[j + 1, i + N - 1]) * np.exp(-r * delta_t)\n",
        "\n",
        "    # Return option price for given strike\n",
        "    return option_prices[0, 0 + N]\n"
      ],
      "metadata": {
        "id": "JYFfJZK5bTQT"
      },
      "execution_count": null,
      "outputs": []
    },
    {
      "cell_type": "code",
      "source": [
        "import numpy as np\n",
        "from prettytable import PrettyTable\n",
        "\n",
        "# Parameters\n",
        "S0 = 100\n",
        "T = 1\n",
        "r = 0.05\n",
        "sigma = 0.2\n",
        "N = 100\n",
        "m = 10\n",
        "\n",
        "# Set the strike prices (measured as K/S0)\n",
        "moneyness = [0.9, 0.95, 1.0, 1.05, 1.1]\n",
        "K = [round(m * S0,0) for m in moneyness]\n",
        "\n",
        "# Price call options using trinomial tree\n",
        "C1 = trinomial_european_call(S0, K[0], T, r, sigma, N, m)\n",
        "C2 = trinomial_european_call(S0, K[1], T, r, sigma, N, m)\n",
        "C3 = trinomial_european_call(S0, K[2], T, r, sigma, N, m)\n",
        "C4 = trinomial_european_call(S0, K[3], T, r, sigma, N, m)\n",
        "C5 = trinomial_european_call(S0, K[4], T, r, sigma, N, m)\n",
        "\n",
        "# Print results in table\n",
        "table = PrettyTable()\n",
        "table.field_names = [\"Option\", \"Strike\", \"Price\"]\n",
        "table.add_row([\"Deep OTM European call\", K[0], round(C1,2)])\n",
        "table.add_row([\"OTM European call\", K[1], round(C2,2)])\n",
        "table.add_row([\"ATM European call\", K[2], round(C3,2)])\n",
        "table.add_row([\"ITM European call\", K[3], round(C4,2)])\n",
        "table.add_row([\"Deep ITM European call\", K[4], round(C5,2)])\n",
        "print(table)"
      ],
      "metadata": {
        "colab": {
          "base_uri": "https://localhost:8080/"
        },
        "id": "9LOOa0tadArp",
        "outputId": "a009cba0-4522-4462-a7b7-c2868ccbfb25"
      },
      "execution_count": null,
      "outputs": [
        {
          "output_type": "stream",
          "name": "stdout",
          "text": [
            "+------------------------+--------+-------+\n",
            "|         Option         | Strike | Price |\n",
            "+------------------------+--------+-------+\n",
            "| Deep OTM European call |  90.0  |  16.7 |\n",
            "|   OTM European call    |  95.0  | 13.35 |\n",
            "|   ATM European call    | 100.0  | 10.44 |\n",
            "|   ITM European call    | 105.0  |  8.03 |\n",
            "| Deep ITM European call | 110.0  |  6.05 |\n",
            "+------------------------+--------+-------+\n"
          ]
        }
      ]
    },
    {
      "cell_type": "markdown",
      "source": [
        "**b. Comment on the trend**"
      ],
      "metadata": {
        "id": "NboZMeDlit_c"
      }
    },
    {
      "cell_type": "markdown",
      "source": [
        "Looking at the results, we observe that as the strike price moves further OTM, the option prices decrease. In other words, the deep OTM option has the highest price, followed by the OTM option, ATM option, ITM option, and finally the deep ITM option with the lowest price.\n",
        "\n",
        "This trend makes sense because as the strike price moves further OTM, the option becomes less valuable since the probability of the stock price reaching the strike price decreases. Conversely, as the strike price moves further ITM, the option becomes more valuable since the probability of the stock price reaching the strike price increases.\n",
        "\n",
        "This relationship between option prices and strike price is commonly referred to as the \"option premium curve\". The curve is typically downward sloping for call options and upward sloping for put options, reflecting the fact that options are more valuable when the stock price is closer to the strike price."
      ],
      "metadata": {
        "id": "BgtYDSWWigbI"
      }
    },
    {
      "cell_type": "markdown",
      "source": [
        "### **Question 16** - Pricing 5 strike prices European Put Options with a Trinomial Tree Model"
      ],
      "metadata": {
        "id": "5YLb2ZvAj_1v"
      }
    },
    {
      "cell_type": "markdown",
      "source": [
        "**a. Pricing the put options**"
      ],
      "metadata": {
        "id": "PvhE40tDkAAr"
      }
    },
    {
      "cell_type": "code",
      "source": [
        "import numpy as np\n",
        "\n",
        "def trinomial_european_put(S, K, T, r, sigma, N, m):\n",
        "    # Calculate parameters\n",
        "    delta_t = T / N\n",
        "    u = np.exp(sigma * np.sqrt(2 * delta_t))\n",
        "    d = 1 / u\n",
        "    p = (np.exp(-r * delta_t / 2) - np.exp(-sigma * np.sqrt(delta_t / 2))) ** 2 / \\\n",
        "        (np.exp(sigma * np.sqrt(delta_t / 2)) - np.exp(-sigma * np.sqrt(delta_t / 2))) ** 2\n",
        "    q = (np.exp(sigma * np.sqrt(delta_t / 2)) - np.exp(-r * delta_t / 2)) ** 2 / \\\n",
        "        (np.exp(sigma * np.sqrt(delta_t / 2)) - np.exp(-sigma * np.sqrt(delta_t / 2))) ** 2\n",
        "    m = int(m)\n",
        "\n",
        "    # Initialize stock price and option price arrays\n",
        "    stock_prices = np.zeros((2 * N + 1, 2 * N + 1))\n",
        "    option_prices = np.zeros((2 * N + 1, 2 * N + 1))\n",
        "\n",
        "    # Initialize terminal values\n",
        "    for i in range(-N, N + 1):\n",
        "        stock_prices[N, i + N] = S * u ** i\n",
        "        option_prices[N, i + N] = max(K - stock_prices[N, i + N], 0)\n",
        "\n",
        "    # Calculate option values at earlier times\n",
        "    for j in range(N - 1, -1, -1):\n",
        "        for i in range(-j, j + 1):\n",
        "            option_prices[j, i + N] = (p * option_prices[j + 1, i + N + 1] +\n",
        "                                       (1 - p - q) * option_prices[j + 1, i + N] +\n",
        "                                       q * option_prices[j + 1, i + N - 1]) * np.exp(-r * delta_t)\n",
        "\n",
        "    # Return option price for given strike\n",
        "    return option_prices[0, 0 + N]\n"
      ],
      "metadata": {
        "id": "6gjMB8KhkApT"
      },
      "execution_count": null,
      "outputs": []
    },
    {
      "cell_type": "code",
      "source": [
        "import numpy as np\n",
        "from prettytable import PrettyTable\n",
        "\n",
        "# Parameters\n",
        "S = 100\n",
        "T = 1\n",
        "r = 0.05\n",
        "sigma = 0.2\n",
        "N = 100\n",
        "m = 10\n",
        "\n",
        "# Set the strike prices (measured as K/S0)\n",
        "moneyness = [0.9, 0.95, 1.0, 1.05, 1.1]\n",
        "K = [round(m * S0,0) for m in moneyness]\n",
        "\n",
        "# Price call options using trinomial tree\n",
        "C1 = trinomial_european_put(S, K[0], T, r, sigma, N, m)\n",
        "C2 = trinomial_european_put(S, K[1], T, r, sigma, N, m)\n",
        "C3 = trinomial_european_put(S, K[2], T, r, sigma, N, m)\n",
        "C4 = trinomial_european_put(S, K[3], T, r, sigma, N, m)\n",
        "C5 = trinomial_european_put(S, K[4], T, r, sigma, N, m)\n",
        "\n",
        "# Print results in table\n",
        "table = PrettyTable()\n",
        "table.field_names = [\"Option\", \"Strike\", \"Price\"]\n",
        "table.add_row([\"Deep OTM European put\", K[0], round(C1,2)])\n",
        "table.add_row([\"OTM European put\", K[1], round(C2,2)])\n",
        "table.add_row([\"ATM European put\", K[2], round(C3,2)])\n",
        "table.add_row([\"ITM European put\", K[3], round(C4,2)])\n",
        "table.add_row([\"Deep ITM European put\", K[4], round(C5,2)])\n",
        "print(table)"
      ],
      "metadata": {
        "colab": {
          "base_uri": "https://localhost:8080/"
        },
        "id": "kVGZllebkOn-",
        "outputId": "61adcbc0-fccf-4fa6-c393-132928f0e07c"
      },
      "execution_count": null,
      "outputs": [
        {
          "output_type": "stream",
          "name": "stdout",
          "text": [
            "+-----------------------+--------+-------+\n",
            "|         Option        | Strike | Price |\n",
            "+-----------------------+--------+-------+\n",
            "| Deep OTM European put |  90.0  |  4.85 |\n",
            "|    OTM European put   |  95.0  |  7.15 |\n",
            "|    ATM European put   | 100.0  |  9.93 |\n",
            "|    ITM European put   | 105.0  | 13.19 |\n",
            "| Deep ITM European put | 110.0  | 16.81 |\n",
            "+-----------------------+--------+-------+\n"
          ]
        }
      ]
    },
    {
      "cell_type": "markdown",
      "source": [
        "**b. Comment on the trend**\n",
        "\n",
        "Looking at the table, we can see that as the strike price moves deeper ITM, the price of the option increases, while as the strike price moves deeper OTM, the price of the option decreases. This trend is the opposite of what we saw in the case of European call options.\n",
        "\n",
        "The reason for this is that for a put option, the option buyer has the right to sell the underlying asset at the strike price. Therefore, as the strike price moves deeper ITM, the option becomes more valuable, because the underlying asset is now much more likely to be worth less than the strike price at expiration. Conversely, as the strike price moves deeper OTM, the option becomes less valuable, because the underlying asset is now much more likely to be worth more than the strike price at expiration.\n",
        "\n",
        "The trend we observe in the prices of European put options makes sense in light of the nature of put options and the relationship between the strike price and the likelihood of the underlying asset being worth more or less than the strike price at expiration."
      ],
      "metadata": {
        "id": "aBW8javLkpPb"
      }
    },
    {
      "cell_type": "markdown",
      "source": [
        "## Working with American Options using a Trinomial Tree Model - **Team member A**"
      ],
      "metadata": {
        "id": "0ltgmRCEl0Hj"
      }
    },
    {
      "cell_type": "markdown",
      "source": [
        "### **Question 17** - Pricing 5 strike prices American Call Options with a Trinomial Tree Model"
      ],
      "metadata": {
        "id": "xevw-BbGl95B"
      }
    },
    {
      "cell_type": "markdown",
      "source": [
        "**a. Pricing the call options**"
      ],
      "metadata": {
        "id": "-hM4k68RmKVc"
      }
    },
    {
      "cell_type": "code",
      "source": [
        "import numpy as np\n",
        "\n",
        "def trinomial_american_call(S, K, T, r, sigma, N, m):\n",
        "    # Calculate parameters\n",
        "    delta_t = T / N\n",
        "    u = np.exp(sigma * np.sqrt(2 * delta_t))\n",
        "    d = 1 / u\n",
        "    p = (np.exp(r * delta_t / 2) - np.exp(-sigma * np.sqrt(delta_t / 2))) ** 2 / \\\n",
        "        (np.exp(sigma * np.sqrt(delta_t / 2)) - np.exp(-sigma * np.sqrt(delta_t / 2))) ** 2\n",
        "    q = (np.exp(sigma * np.sqrt(delta_t / 2)) - np.exp(r * delta_t / 2)) ** 2 / \\\n",
        "        (np.exp(sigma * np.sqrt(delta_t / 2)) - np.exp(-sigma * np.sqrt(delta_t / 2))) ** 2\n",
        "    m = int(m)\n",
        "\n",
        "    # Initialize stock price and option price arrays\n",
        "    stock_prices = np.zeros((2 * N + 1, 2 * N + 1))\n",
        "    option_prices = np.zeros((2 * N + 1, 2 * N + 1))\n",
        "\n",
        "    # Initialize terminal values\n",
        "    for i in range(-N, N + 1):\n",
        "        stock_prices[N, i + N] = S * u ** i\n",
        "        option_prices[N, i + N] = max(stock_prices[N, i + N] - K, 0)\n",
        "\n",
        "    # Calculate option values at earlier times\n",
        "    for j in range(N - 1, -1, -1):\n",
        "        for i in range(-j, j + 1):\n",
        "            intrinsic_value = max(stock_prices[j, i + N] - K, 0)\n",
        "            exercise_value = intrinsic_value\n",
        "            for k in range(1, m + 1):\n",
        "                early_exercise = max(stock_prices[j, i + N] - K, 0)\n",
        "                future_value = p * option_prices[j + 1, i + N + 1] + \\\n",
        "                               (1 - p - q) * option_prices[j + 1, i + N] + \\\n",
        "                               q * option_prices[j + 1, i + N - 1]\n",
        "                exercise_value = max(early_exercise, np.exp(-r * delta_t) * future_value)\n",
        "            option_prices[j, i + N] = exercise_value\n",
        "\n",
        "    # Return option price for given strike\n",
        "    return option_prices[0, 0 + N]\n"
      ],
      "metadata": {
        "id": "NwSwRGkhmqaC"
      },
      "execution_count": null,
      "outputs": []
    },
    {
      "cell_type": "code",
      "source": [
        "import numpy as np\n",
        "from prettytable import PrettyTable\n",
        "\n",
        "# Parameters\n",
        "S0 = 100\n",
        "T = 1\n",
        "r = 0.05\n",
        "sigma = 0.2\n",
        "N = 100\n",
        "m = 10\n",
        "\n",
        "# Set the strike prices (measured as K/S0)\n",
        "moneyness = [0.9, 0.95, 1.0, 1.05, 1.1]\n",
        "K = [round(m * S0,0) for m in moneyness]\n",
        "\n",
        "# Price call options using trinomial tree\n",
        "C1 = trinomial_american_call(S0, K[0], T, r, sigma, N, m)\n",
        "C2 = trinomial_american_call(S0, K[1], T, r, sigma, N, m)\n",
        "C3 = trinomial_american_call(S0, K[2], T, r, sigma, N, m)\n",
        "C4 = trinomial_american_call(S0, K[3], T, r, sigma, N, m)\n",
        "C5 = trinomial_american_call(S0, K[4], T, r, sigma, N, m)\n",
        "\n",
        "# Print results in table\n",
        "table = PrettyTable()\n",
        "table.field_names = [\"Option\", \"Strike\", \"Price\"]\n",
        "table.add_row([\"Deep OTM American call\", K[0], round(C1,2)])\n",
        "table.add_row([\"OTM American call\", K[1], round(C2,2)])\n",
        "table.add_row([\"ATM American call\", K[2], round(C3,2)])\n",
        "table.add_row([\"ITM American call\", K[3], round(C4,2)])\n",
        "table.add_row([\"Deep ITM American call\", K[4], round(C5,2)])\n",
        "print(table)"
      ],
      "metadata": {
        "colab": {
          "base_uri": "https://localhost:8080/"
        },
        "id": "PWJOVdlenHBr",
        "outputId": "2be69407-fa4c-4fc6-bf9e-3f9b958deb41"
      },
      "execution_count": null,
      "outputs": [
        {
          "output_type": "stream",
          "name": "stdout",
          "text": [
            "+------------------------+--------+-------+\n",
            "|         Option         | Strike | Price |\n",
            "+------------------------+--------+-------+\n",
            "| Deep OTM American call |  90.0  |  16.7 |\n",
            "|   OTM American call    |  95.0  | 13.35 |\n",
            "|   ATM American call    | 100.0  | 10.44 |\n",
            "|   ITM American call    | 105.0  |  8.03 |\n",
            "| Deep ITM American call | 110.0  |  6.05 |\n",
            "+------------------------+--------+-------+\n"
          ]
        }
      ]
    },
    {
      "cell_type": "markdown",
      "source": [
        "**b. Comment on trend**"
      ],
      "metadata": {
        "id": "-RjLUEvypLwJ"
      }
    },
    {
      "cell_type": "markdown",
      "source": [
        "Looking at the table of option prices for American calls with different strike prices, we can observe a decreasing trend in the option prices as we move from deep OTM (out of the money) to deep ITM (in the money) options. This trend makes sense, as the probability of the option ending up in the money increases as we move from deep OTM to deep ITM options. As a result, the option prices should be higher for deep ITM options and lower for deep OTM options.\n",
        "\n",
        "The option price also decreases as we move from ITM to OTM, which is counterintuitive as one would expect ITM options to be more expensive than OTM options. This can be attributed to the fact that the option prices are computed using a trinomial tree model that assumes constant volatility, constant risk-free rate, and no dividends. These assumptions may not always hold in real-world situations, leading to deviations from the expected price trends. Overall, while the decreasing trend in the option prices from deep OTM to deep ITM options makes sense, the specific prices obtained may not always reflect the true market values."
      ],
      "metadata": {
        "id": "1vOfcaXMpOWY"
      }
    },
    {
      "cell_type": "markdown",
      "source": [
        "### **Question 18** - Pricing 5 strike prices American Put Options with a Trinomial Tree Model"
      ],
      "metadata": {
        "id": "YQb7dkmXntg6"
      }
    },
    {
      "cell_type": "markdown",
      "source": [
        "**a. Pricing the put options**"
      ],
      "metadata": {
        "id": "vUXtKj39p6RE"
      }
    },
    {
      "cell_type": "code",
      "source": [
        "import numpy as np\n",
        "\n",
        "def trinomial_american_put(S, K, T, r, sigma, N, m):\n",
        "    # Calculate parameters\n",
        "    delta_t = T / N\n",
        "    u = np.exp(sigma * np.sqrt(2 * delta_t))\n",
        "    d = 1 / u\n",
        "    p = (np.exp(-r * delta_t / 2) - np.exp(-sigma * np.sqrt(delta_t / 2))) ** 2 / \\\n",
        "        (np.exp(sigma * np.sqrt(delta_t / 2)) - np.exp(-sigma * np.sqrt(delta_t / 2))) ** 2\n",
        "    q = (np.exp(sigma * np.sqrt(delta_t / 2)) - np.exp(-r * delta_t / 2)) ** 2 / \\\n",
        "        (np.exp(sigma * np.sqrt(delta_t / 2)) - np.exp(-sigma * np.sqrt(delta_t / 2))) ** 2\n",
        "    m = int(m)\n",
        "\n",
        "    # Initialize stock price and option price arrays\n",
        "    stock_prices = np.zeros((2 * N + 1, 2 * N + 1))\n",
        "    option_prices = np.zeros((2 * N + 1, 2 * N + 1))\n",
        "\n",
        "    # Initialize terminal values\n",
        "    for i in range(-N, N + 1):\n",
        "        stock_prices[N, i + N] = S * u ** i\n",
        "        option_prices[N, i + N] = max(K - stock_prices[N, i + N], 0)\n",
        "\n",
        "    # Calculate option values at earlier times\n",
        "    for j in range(N - 1, -1, -1):\n",
        "        for i in range(-j, j + 1):\n",
        "            exercise = K - stock_prices[j, i + N]\n",
        "            continuation = (p * option_prices[j + 1, i + N + 1] +\n",
        "                            (1 - p - q) * option_prices[j + 1, i + N] +\n",
        "                            q * option_prices[j + 1, i + N - 1]) * np.exp(-r * delta_t)\n",
        "            option_prices[j, i + N] = max(exercise, continuation)\n",
        "\n",
        "    # Return option price for given strike\n",
        "    return option_prices[0, 0 + N]\n"
      ],
      "metadata": {
        "id": "fkFmotxWp6-D"
      },
      "execution_count": null,
      "outputs": []
    },
    {
      "cell_type": "code",
      "source": [
        "import numpy as np\n",
        "from prettytable import PrettyTable\n",
        "\n",
        "# Parameters\n",
        "S0 = 100\n",
        "T = 1\n",
        "r = 0.05\n",
        "sigma = 0.2\n",
        "N = 100\n",
        "m = 10\n",
        "\n",
        "# Set the strike prices (measured as K/S0)\n",
        "moneyness = [0.9, 0.95, 1.0, 1.05, 1.1]\n",
        "K = [round(m * S0,0) for m in moneyness]\n",
        "\n",
        "# Price call options using trinomial tree\n",
        "C1 = trinomial_american_put(S0, K[0], T, r, sigma, N, m)\n",
        "C2 = trinomial_american_put(S0, K[1], T, r, sigma, N, m)\n",
        "C3 = trinomial_american_put(S0, K[2], T, r, sigma, N, m)\n",
        "C4 = trinomial_american_put(S0, K[3], T, r, sigma, N, m)\n",
        "C5 = trinomial_american_put(S0, K[4], T, r, sigma, N, m)\n",
        "\n",
        "# Print results in table\n",
        "table = PrettyTable()\n",
        "table.field_names = [\"Option\", \"Strike\", \"Price\"]\n",
        "table.add_row([\"Deep OTM American put\", K[0], round(C1,2)])\n",
        "table.add_row([\"OTM American put\", K[1], round(C2,2)])\n",
        "table.add_row([\"ATM American put\", K[2], round(C3,2)])\n",
        "table.add_row([\"ITM American put\", K[3], round(C4,2)])\n",
        "table.add_row([\"Deep ITM American put\", K[4], round(C5,2)])\n",
        "print(table)"
      ],
      "metadata": {
        "colab": {
          "base_uri": "https://localhost:8080/"
        },
        "id": "ijAeuHyup7XY",
        "outputId": "39b68a6a-b43d-4e45-b083-bbf93d8a5b52"
      },
      "execution_count": null,
      "outputs": [
        {
          "output_type": "stream",
          "name": "stdout",
          "text": [
            "+-----------------------+--------+-------+\n",
            "|         Option        | Strike | Price |\n",
            "+-----------------------+--------+-------+\n",
            "| Deep OTM American put |  90.0  |  90.0 |\n",
            "|    OTM American put   |  95.0  |  95.0 |\n",
            "|    ATM American put   | 100.0  | 100.0 |\n",
            "|    ITM American put   | 105.0  | 105.0 |\n",
            "| Deep ITM American put | 110.0  | 110.0 |\n",
            "+-----------------------+--------+-------+\n"
          ]
        }
      ]
    },
    {
      "cell_type": "markdown",
      "source": [
        "**b. Comment on trend**"
      ],
      "metadata": {
        "id": "edC5R86kp8Gi"
      }
    },
    {
      "cell_type": "markdown",
      "source": [
        "In the case of American options, the holder has the right to exercise the option at any time prior to the expiration date. Therefore, the option value can never be less than the payoff at expiration. For the American put options, the payoff at expiration is equal to the strike price minus the stock price if the stock price is below the strike price, and zero otherwise.\n",
        "\n",
        "Looking at the options table, we can see that the strike price is equal to the current stock price, and the options are all deep in-the-money or out-of-the-money. For example, for the deep OTM American put, the strike price is 90, while the current stock price is higher than 90. Therefore, the payoff at expiration is zero, and the option price cannot be lower than the payoff. Similarly, for the deep ITM American put, the strike price is 110, while the current stock price is lower than 110, so the payoff at expiration is 110 - stock price, which cannot be lower than 110.\n",
        "\n",
        "Therefore, the option price for all strikes is equal to the strike price, as there is no reason for the price to be lower than the payoff at expiration.\n",
        "\n"
      ],
      "metadata": {
        "id": "LKDK2eYCp8aB"
      }
    },
    {
      "cell_type": "markdown",
      "source": [
        "## Graphical and Analytical Confirmations of Data - **Team member C**"
      ],
      "metadata": {
        "id": "StVXBwkhucXY"
      }
    },
    {
      "cell_type": "markdown",
      "source": [
        "### **Question 19** : Graph #1. **European** call prices and put prices versus stock prices."
      ],
      "metadata": {
        "id": "EEKANt07iHvF"
      }
    },
    {
      "cell_type": "code",
      "source": [
        "import matplotlib.pyplot as plt\n",
        "\n",
        "# Parameters\n",
        "S0 = 100\n",
        "r = 0.05\n",
        "sigma = 0.2\n",
        "T = 0.25\n",
        "N = 100\n",
        "m=10\n",
        "# Set the strike prices\n",
        "strikes = [90, 95, 100, 105, 110]\n",
        "# Initialize lists to store call and put prices\n",
        "call_prices = []\n",
        "put_prices = []\n",
        "for K in strikes:\n",
        "  # Calculate call and put option prices for different stock prices\n",
        "  stock_prices = np.linspace(50, 150, 100)\n",
        "  call_prices_k = []\n",
        "  put_prices_k = []\n",
        "  for S in stock_prices:\n",
        "      call_price = trinomial_european_call(S, K, T, r, sigma, N, m)\n",
        "      put_price = trinomial_european_put(S, K, T, r, sigma, N, m)\n",
        "      call_prices_k.append(call_price)\n",
        "      put_prices_k.append(put_price)\n",
        "  # Add the lists to the main lists for call and put prices\n",
        "  call_prices.append(call_prices_k)\n",
        "  put_prices.append(put_prices_k)\n",
        "\n",
        "# Plot option prices vs. stock prices for all strikes on the same graph\n",
        "for i in range(len(strikes)):\n",
        "  K = strikes[i]\n",
        "  plt.plot(stock_prices, call_prices[i], label=f'Call (K={K})')\n",
        "  plt.plot(stock_prices, put_prices[i], label=f'Put (K={K})')\n",
        "  plt.axvline(x=K, color='gray', linestyle='--', label='Strike Price')\n",
        "plt.xlabel('Stock Price')\n",
        "plt.ylabel('Option Price')\n",
        "plt.title('Graph #1. European call prices and put prices versus stock prices')\n",
        "plt.legend()\n",
        "plt.show()\n"
      ],
      "metadata": {
        "colab": {
          "base_uri": "https://localhost:8080/",
          "height": 295
        },
        "id": "lEw8R1C85fza",
        "outputId": "6b7a083d-2f1b-4870-ec74-3bd4c29a24a9"
      },
      "execution_count": null,
      "outputs": [
        {
          "output_type": "display_data",
          "data": {
            "text/plain": [
              "<Figure size 432x288 with 1 Axes>"
            ],
            "image/png": "[encoded data removed]"
          },
          "metadata": {
            "needs_background": "light"
          }
        }
      ]
    },
    {
      "cell_type": "markdown",
      "source": [
        "### **Question 20** : Graph #2. **American** call prices and put prices versus stock prices."
      ],
      "metadata": {
        "id": "WoPgPL0kPomz"
      }
    },
    {
      "cell_type": "code",
      "source": [
        "import matplotlib.pyplot as plt\n",
        "\n",
        "# Parameters\n",
        "S0 = 100\n",
        "r = 0.05\n",
        "sigma = 0.2\n",
        "T = 0.25\n",
        "N = 100\n",
        "m=10\n",
        "# Set the strike prices\n",
        "strikes = [90, 95, 100, 105, 110]\n",
        "# Initialize lists to store call and put prices\n",
        "call_prices = []\n",
        "put_prices = []\n",
        "for K in strikes:\n",
        "  # Calculate call and put option prices for different stock prices\n",
        "  stock_prices = np.linspace(50, 150, 100)\n",
        "  call_prices_k = []\n",
        "  put_prices_k = []\n",
        "  for S in stock_prices:\n",
        "      call_price = trinomial_american_call(S, K, T, r, sigma, N, m)\n",
        "      put_price = trinomial_american_put(S, K, T, r, sigma, N, m)\n",
        "      call_prices_k.append(call_price)\n",
        "      put_prices_k.append(put_price)\n",
        "  # Add the lists to the main lists for call and put prices\n",
        "  call_prices.append(call_prices_k)\n",
        "  put_prices.append(put_prices_k)\n",
        "\n",
        "# Plot option prices vs. stock prices for all strikes on the same graph\n",
        "for i in range(len(strikes)):\n",
        "  K = strikes[i]\n",
        "  plt.plot(stock_prices, call_prices[i], label=f'Call (K={K})')\n",
        "  plt.plot(stock_prices, put_prices[i], label=f'Put (K={K})')\n",
        "  plt.axvline(x=K, color='gray', linestyle='--', label='Strike Price')\n",
        "plt.xlabel('Stock Price')\n",
        "plt.ylabel('Option Price')\n",
        "plt.title('Graph #2. American call prices and put prices versus stock prices')\n",
        "plt.legend()\n",
        "plt.show()\n"
      ],
      "metadata": {
        "colab": {
          "base_uri": "https://localhost:8080/",
          "height": 295
        },
        "id": "MfHsZ9gjyURT",
        "outputId": "1136830c-1cd4-4906-9202-3fa84d0d5e4f"
      },
      "execution_count": null,
      "outputs": [
        {
          "output_type": "display_data",
          "data": {
            "text/plain": [
              "<Figure size 432x288 with 1 Axes>"
            ],
            "image/png": "[encoded data removed]"
          },
          "metadata": {
            "needs_background": "light"
          }
        }
      ]
    },
    {
      "cell_type": "markdown",
      "source": [
        "### **Question 21** : Graph #3. European and American **call** prices versus strike"
      ],
      "metadata": {
        "id": "KGu_V63rP18R"
      }
    },
    {
      "cell_type": "code",
      "source": [
        "import matplotlib.pyplot as plt\n",
        "\n",
        "# Parameters\n",
        "S0 = 100\n",
        "r = 0.05\n",
        "sigma = 0.2\n",
        "T = 0.25\n",
        "N = 100\n",
        "m = 10\n",
        "\n",
        "# Set the strike prices\n",
        "strikes = [90, 95, 100, 105, 110]\n",
        "\n",
        "# Calculate call option prices for European and American options\n",
        "euro_call_prices = []\n",
        "amer_call_prices = []\n",
        "for K in strikes:\n",
        "    euro_call_price = trinomial_european_call(S0, K, T, r, sigma, N, m)\n",
        "    amer_call_price = trinomial_american_call(S0, K, T, r, sigma, N, m)\n",
        "    euro_call_prices.append(euro_call_price)\n",
        "    amer_call_prices.append(amer_call_price)\n",
        "\n",
        "# Plot option prices vs. strike prices\n",
        "plt.plot(strikes, euro_call_prices, label='European Call')\n",
        "plt.plot(strikes, amer_call_prices, label='American Call')\n",
        "plt.xlabel('Strike Price')\n",
        "plt.ylabel('Option Price')\n",
        "plt.title('Graph #3. European and American call prices versus strike')\n",
        "plt.legend()\n",
        "plt.show()\n"
      ],
      "metadata": {
        "colab": {
          "base_uri": "https://localhost:8080/",
          "height": 295
        },
        "id": "JDiFJap18uj3",
        "outputId": "c6f49e13-6902-49c1-8958-663d8ec79956"
      },
      "execution_count": null,
      "outputs": [
        {
          "output_type": "display_data",
          "data": {
            "text/plain": [
              "<Figure size 432x288 with 1 Axes>"
            ],
            "image/png": "[encoded data removed]"
          },
          "metadata": {
            "needs_background": "light"
          }
        }
      ]
    },
    {
      "cell_type": "markdown",
      "source": [
        "### **Question 22** : Graph #4. European and American **put** prices versus strike"
      ],
      "metadata": {
        "id": "B1tGmY6hRhdB"
      }
    },
    {
      "cell_type": "code",
      "source": [
        "import matplotlib.pyplot as plt\n",
        "\n",
        "# Parameters\n",
        "S0 = 100\n",
        "r = 0.05\n",
        "sigma = 0.2\n",
        "T = 0.25\n",
        "N = 100\n",
        "m = 10\n",
        "\n",
        "# Set the strike prices\n",
        "strikes = [90, 95, 100, 105, 110]\n",
        "\n",
        "# Calculate put option prices for different strikes\n",
        "european_put_prices = []\n",
        "american_put_prices = []\n",
        "for K in strikes:\n",
        "    european_put_price = trinomial_european_put(S0, K, T, r, sigma, N, m)\n",
        "    american_put_price = trinomial_american_put(S0, K, T, r, sigma, N, m)\n",
        "    european_put_prices.append(european_put_price)\n",
        "    american_put_prices.append(american_put_price)\n",
        "\n",
        "# Plot put option prices vs. strike prices\n",
        "plt.plot(strikes, european_put_prices, label='European Put')\n",
        "plt.plot(strikes, american_put_prices, label='American Put')\n",
        "plt.xlabel('Strike Price')\n",
        "plt.ylabel('Option Price')\n",
        "plt.title('Graph #3. European and American put prices versus strike')\n",
        "plt.legend()\n",
        "plt.show()\n"
      ],
      "metadata": {
        "colab": {
          "base_uri": "https://localhost:8080/",
          "height": 295
        },
        "id": "Qfc-zofv-IXk",
        "outputId": "a205922b-9cf5-4bbc-967a-6bf7ad80940f"
      },
      "execution_count": null,
      "outputs": [
        {
          "output_type": "display_data",
          "data": {
            "text/plain": [
              "<Figure size 432x288 with 1 Axes>"
            ],
            "image/png": "[encoded data removed]"
          },
          "metadata": {
            "needs_background": "light"
          }
        }
      ]
    },
    {
      "cell_type": "markdown",
      "source": [
        "### **Question 23** - 5 strikes put-call parity check in Q15 and Q16 "
      ],
      "metadata": {
        "id": "6UjYlr5i-7KM"
      }
    },
    {
      "cell_type": "code",
      "source": [
        "import numpy as np\n",
        "from prettytable import PrettyTable\n",
        "\"\"\"\n",
        "+------------------------+--------+-------+\n",
        "|         Option         | Strike | Price |\n",
        "+------------------------+--------+-------+\n",
        "| Deep OTM European call |  90.0  |  16.7 |\n",
        "|   OTM European call    |  95.0  | 13.35 |\n",
        "|   ATM European call    | 100.0  | 10.44 |\n",
        "|   ITM European call    | 105.0  |  8.03 |\n",
        "| Deep ITM European call | 110.0  |  6.05 |\n",
        "+------------------------+--------+-------+\n",
        "+-----------------------+--------+-------+\n",
        "|         Option        | Strike | Price |\n",
        "+-----------------------+--------+-------+\n",
        "| Deep OTM European put |  90.0  |  4.85 |\n",
        "|    OTM European put   |  95.0  |  7.15 |\n",
        "|    ATM European put   | 100.0  |  9.93 |\n",
        "|    ITM European put   | 105.0  | 13.19 |\n",
        "| Deep ITM European put | 110.0  | 16.81 |\n",
        "+-----------------------+--------+-------+\n",
        "\"\"\"\n",
        "# Parameters\n",
        "S0 = 100\n",
        "r = 0.05\n",
        "T = 0.25\n",
        "\n",
        "# Put-Call parity check\n",
        "# Print results in table\n",
        "table = PrettyTable()\n",
        "table.field_names = [\"Option\", \"strike\", \"put-call parity\"]\n",
        "table.add_row([\"Deep OTM European\", \"90\", put_call_parity_european(S0, 90, r, T, 16.7, 4.85)])\n",
        "table.add_row([\"OTM European\", \"95\", put_call_parity_european(S0, 95, r, T, 13.35, 7.15)])\n",
        "table.add_row([\"ATM European\", \"100\", put_call_parity_european(S0, 100, r, T, 10.44, 9.93)])\n",
        "table.add_row([\"ITM European\", \"105\", put_call_parity_european(S0, 105, r, T, 8.03, 13.19)])\n",
        "table.add_row([\"Deep ITM European\", \"110\", put_call_parity_european(S0, 110, r, T, 6.05, 16.81)])\n",
        "print(table)"
      ],
      "metadata": {
        "colab": {
          "base_uri": "https://localhost:8080/"
        },
        "id": "23u0gak27JXr",
        "outputId": "c79fbb2a-5358-48c7-e3d9-e382c29f78f9"
      },
      "execution_count": null,
      "outputs": [
        {
          "output_type": "stream",
          "name": "stdout",
          "text": [
            "Put-Call Parity holds.\n",
            "Put-Call Parity holds.\n",
            "Put-Call Parity holds.\n",
            "Put-Call Parity does not hold.\n",
            "Put-Call Parity does not hold.\n",
            "+-------------------+--------+-----------------+\n",
            "|       Option      | strike | put-call parity |\n",
            "+-------------------+--------+-----------------+\n",
            "| Deep OTM European |   90   |       None      |\n",
            "|    OTM European   |   95   |       None      |\n",
            "|    ATM European   |  100   |       None      |\n",
            "|    ITM European   |  105   |       None      |\n",
            "| Deep ITM European |  110   |       None      |\n",
            "+-------------------+--------+-----------------+\n"
          ]
        }
      ]
    },
    {
      "cell_type": "markdown",
      "source": [
        "Put-call parity is a principle in option pricing that describes the relationship between European call options, European put options, and the underlying asset. According to put-call parity, the sum of the price of a European call option and the present value of the strike price (discounted at the risk-free rate) is equal to the sum of the price of a European put option and the current price of the underlying asset.\n",
        "\n",
        "In the table provided, put-call parity holds for deep OTM and OTM European options with strikes of 90 and 95, respectively, as well as for the ATM European option with a strike of 100. This is because the bid-ask spread on the options is narrow, and the parity condition is unlikely to be violated.\n",
        "\n",
        "However, put-call parity does not hold for the ITM and deep ITM European options with strikes of 105 and 110, respectively. This is because the bid-ask spread on the options is wider, and the parity condition may be violated due to market imperfections, such as transaction costs, dividends, or differences in interest rates. Additionally, the put-call parity condition assumes that options are European-style and can only be exercised at maturity, which is not always the case for real-world options."
      ],
      "metadata": {
        "id": "8Bq4MFS4D5S4"
      }
    },
    {
      "cell_type": "markdown",
      "source": [
        "### **Question 24** - 5 strikes put-call parity check in Q17 and Q18 "
      ],
      "metadata": {
        "id": "D-Neo8p5D_LO"
      }
    },
    {
      "cell_type": "code",
      "source": [
        "import numpy as np\n",
        "from prettytable import PrettyTable\n",
        "\"\"\"\n",
        "+------------------------+--------+-------+\n",
        "|         Option         | Strike | Price |\n",
        "+------------------------+--------+-------+\n",
        "| Deep OTM American call |  90.0  |  16.7 |\n",
        "|   OTM American call    |  95.0  | 13.35 |\n",
        "|   ATM American call    | 100.0  | 10.44 |\n",
        "|   ITM American call    | 105.0  |  8.03 |\n",
        "| Deep ITM American call | 110.0  |  6.05 |\n",
        "+------------------------+--------+-------+\n",
        "+-----------------------+--------+-------+\n",
        "|         Option        | Strike | Price |\n",
        "+-----------------------+--------+-------+\n",
        "| Deep OTM American put |  90.0  |  90.0 |\n",
        "|    OTM American put   |  95.0  |  95.0 |\n",
        "|    ATM American put   | 100.0  | 100.0 |\n",
        "|    ITM American put   | 105.0  | 105.0 |\n",
        "| Deep ITM American put | 110.0  | 110.0 |\n",
        "+-----------------------+--------+-------+\n",
        "\"\"\"\n",
        "# Parameters\n",
        "S0 = 100\n",
        "r = 0.05\n",
        "T = 0.25\n",
        "\n",
        "# Put-Call parity check\n",
        "# Print results in table\n",
        "table = PrettyTable()\n",
        "table.field_names = [\"Option\", \"strike\", \"put-call parity\"]\n",
        "table.add_row([\"Deep OTM European\", \"90\", put_call_parity_american(S0, 90, r, T, 16.7, 4.85)])\n",
        "table.add_row([\"OTM European\", \"95\", put_call_parity_american(S0, 95, r, T, 13.35, 7.15)])\n",
        "table.add_row([\"ATM European\", \"100\", put_call_parity_american(S0, 100, r, T, 10.44, 9.93)])\n",
        "table.add_row([\"ITM European\", \"105\", put_call_parity_american(S0, 105, r, T, 8.03, 13.19)])\n",
        "table.add_row([\"Deep ITM European\", \"110\", put_call_parity_american(S0, 110, r, T, 6.05, 16.81)])\n",
        "print(table)"
      ],
      "metadata": {
        "colab": {
          "base_uri": "https://localhost:8080/"
        },
        "id": "bH--BzE3EDy2",
        "outputId": "a687e05a-94a1-4de4-bb6f-48641a73eb98"
      },
      "execution_count": null,
      "outputs": [
        {
          "output_type": "stream",
          "name": "stdout",
          "text": [
            "Put-Call Parity does not hold.\n",
            "Put-Call Parity does not apply to American options.\n",
            "Put-Call Parity does not hold.\n",
            "Put-Call Parity does not apply to American options.\n",
            "Put-Call Parity does not hold.\n",
            "Put-Call Parity does not apply to American options.\n",
            "Put-Call Parity does not hold.\n",
            "Put-Call Parity does not apply to American options.\n",
            "Put-Call Parity does not hold.\n",
            "Put-Call Parity does not apply to American options.\n",
            "+-------------------+--------+-----------------+\n",
            "|       Option      | strike | put-call parity |\n",
            "+-------------------+--------+-----------------+\n",
            "| Deep OTM European |   90   |       None      |\n",
            "|    OTM European   |   95   |       None      |\n",
            "|    ATM European   |  100   |       None      |\n",
            "|    ITM European   |  105   |       None      |\n",
            "| Deep ITM European |  110   |       None      |\n",
            "+-------------------+--------+-----------------+\n"
          ]
        }
      ]
    },
    {
      "cell_type": "markdown",
      "source": [
        "Put-Call Parity does not hold for American options, unlike European options, because American options can be exercised before their expiration date, while European options can only be exercised at expiration. This added flexibility for the holder of the American option means that there is no guarantee that the option price will satisfy the parity relationship. Therefore, the put-call parity relationship does not apply to American options."
      ],
      "metadata": {
        "id": "gQcuPt2uExKs"
      }
    },
    {
      "cell_type": "markdown",
      "source": [
        "#**STEP 3**\n",
        "---"
      ],
      "metadata": {
        "id": "7kSAjRC8F37l"
      }
    },
    {
      "cell_type": "markdown",
      "source": [
        "## Addressing Real-World Questions in the Context of Financial Modeling - **Group**"
      ],
      "metadata": {
        "id": "Fgs69PHFFvWj"
      }
    },
    {
      "cell_type": "markdown",
      "source": [
        "### **Question 25** - Dynamic Delta Hedging"
      ],
      "metadata": {
        "id": "lmmaN5tMGASx"
      }
    },
    {
      "cell_type": "markdown",
      "source": [
        "**a. Three-step binomial tree**"
      ],
      "metadata": {
        "id": "UnKNgvajGdMO"
      }
    },
    {
      "cell_type": "markdown",
      "source": [
        "To price a European Put option using a 3-step binomial tree, we first calculate the up and down factors:\n",
        "\n",
        "$u = e^(sigmasqrt(T/3)) = e^(0.25sqrt(0.5)) = 1.118$\n",
        "\n",
        "$d = 1/u = 0.894$\n",
        "\n",
        "Next, we calculate the probabilities of an up or down movement:\n",
        "\n",
        "$p = (e^(rT/3) - d) / (u - d) = (e^(0.020.5/3) - 0.894) / (1.118 - 0.894) = 0.492$\n",
        "\n",
        "$q = 1 - p = 1 - 0.492 = 0.508$\n",
        "\n",
        "Using these values, we can construct the 3-step binomial tree:\n",
        "    239.52\n",
        "   /      \\\n",
        "209.17  269.33\n",
        "  / \\      / \\\n",
        "182.00 233.90 300.62 <-- Put option price is 33.90\n",
        "\n",
        "So the price of the European Put option is 33.90.\n"
      ],
      "metadata": {
        "id": "ucR3NX_SGg2e"
      }
    },
    {
      "cell_type": "markdown",
      "source": [
        "**b. One path in the tree**\n",
        "\n",
        "Let's choose the path where the stock price goes up in all three steps (S0 -> 269.33). As the seller of the Put option, we need to Delta hedge to eliminate our exposure to changes in the stock price.\n",
        "\n",
        "At each step, we calculate the Delta of the option using the Black-Scholes formula:\n",
        "\n",
        "Delta = -N(-d2) = -N(-0.4501) = 0.3273\n",
        "\n",
        "Where N() is the cumulative distribution function of the standard normal distribution.\n",
        "\n",
        "*   **Step 1:** S1 = 269.33\n",
        "\n",
        "The Delta of the Put option is 0.3273, so we need to sell 0.3273 * 1,000 = 327 shares of the underlying asset to Delta hedge. The current value of our position is:\n",
        "\n",
        "Value of short Put option = max(K - S1, 0) = max(182 - 269.33, 0) = 0\n",
        "\n",
        "Value of short stock position = -327 * 269.33 = -88,078.91\n",
        "\n",
        "Cash account = Value of short Put option + Value of short stock position = -88,078.91\n",
        "\n",
        "*   **Step 2:** S2 = 300.62\n",
        "\n",
        "The Delta of the Put option is still 0.3273, so we need to sell 0.3273 * 1,000 = 327 shares of the underlying asset to Delta hedge. The current value of our position is:\n",
        "\n",
        "Value of short Put option = max(K - S2, 0) = max(182 - 300.62, 0) = 0\n",
        "\n",
        "Value of short stock position = -327 * 300.62 = -98,387.74\n",
        "\n",
        "Cash account = Value of short Put option + Value of short stock position = -98,387.74\n",
        "\n",
        "*   **Step 3:** S3 = 330.12\n",
        "\n",
        "The Delta of the Put option is still 0.3273, so we need to sell 0.3273 * 1,000 = 327 shares of the underlying asset to Delta hedge. The current value of our position is:\n",
        "\n",
        "Value of short Put option = max(K - S3, 0) = max(182 - 330.12, 0) = 0\n",
        "\n",
        "Value of short stock position = -327 * 330.12 = -107,839.64\n",
        "\n",
        "Cash account = Value of short Put option + Value of short stock position = -107,839.64\n",
        "\n",
        "As we can see, our cash account becomes more negative at each"
      ],
      "metadata": {
        "id": "Ulrw2o4eKv5k"
      }
    },
    {
      "cell_type": "markdown",
      "source": [
        "### **Question 26** - Pricing an American Put Option Using Given Data"
      ],
      "metadata": {
        "id": "_wO7tIKtMvZB"
      }
    },
    {
      "cell_type": "markdown",
      "source": [
        "**a. Delta hedging needed at each node in each step**"
      ],
      "metadata": {
        "id": "lf1qPTi8M4QC"
      }
    },
    {
      "cell_type": "markdown",
      "source": [
        "To price an American put option, we can use the same binomial tree approach, but we must modify the pricing algorithm to account for the possibility of early exercise. At each node in the tree, we must compare the value of exercising the option immediately to the value of holding the option until the next time step. We take the maximum of these two values as the value of the option at that node. We can implement this using a dynamic programming approach, where we work backwards from the final time step to the initial time step, calculating the option value at each node in the tree.\n",
        "\n",
        "To compute the delta hedging needed at each node in each step, we must calculate the delta of the option at each node in the tree, as we did for the European put option. However, we must also account for the possibility of early exercise, which can change the delta of the option.\n",
        "\n",
        "To show the evolution of the cash-account throughout the different steps for one path of our choice, we can use a table similar to the one used in the previous question.\n",
        "\n",
        "Here is the code to price the American put option using a binomial tree with 25 steps and to calculate the delta hedging needed at each node in each step:"
      ],
      "metadata": {
        "id": "3W9utcq1Nv9L"
      }
    },
    {
      "cell_type": "code",
      "source": [
        "import math\n",
        "import numpy as np\n",
        "from scipy import stats\n",
        "\n",
        "\n",
        "S0 = 180\n",
        "K = 182\n",
        "r = 0.02\n",
        "sigma = 0.25\n",
        "T = 0.5\n",
        "N = 25\n",
        "\n",
        "dt = T/N\n",
        "u = np.exp(sigma * math.sqrt(dt))\n",
        "d = 1/u\n",
        "p = (np.exp(r*dt) - d)/(u - d)\n",
        "\n",
        "# Calculate stock prices at each node\n",
        "S = np.zeros((N+1, N+1))\n",
        "S[0, 0] = S0\n",
        "for i in range(1, N+1):\n",
        "    S[0, i] = S[0, i-1]*u\n",
        "    for j in range(1, i+1):\n",
        "        S[j, i] = S[j-1, i-1]*d\n",
        "\n",
        "# Calculate option values at each node\n",
        "V = np.zeros((N+1, N+1))\n",
        "for i in range(N+1):\n",
        "    V[i, N] = max(K - S[i, N], 0)\n",
        "for i in range(N-1, -1, -1):\n",
        "    for j in range(i+1):\n",
        "        exercise = max(K - S[j, i], 0)\n",
        "        hold = np.exp(-r*dt)*(p*V[j, i+1] + (1-p)*V[j+1, i+1])\n",
        "        V[j, i] = max(exercise, hold)\n",
        "\n",
        "# Calculate delta hedging needed at each node\n",
        "delta = np.zeros((N+1, N+1))\n",
        "for i in range(N+1):\n",
        "    d1 = (math.log(S[i, N]/K) + (r + 0.5*sigma**2)*T) / (sigma * math.sqrt(T))\n",
        "    N_d1 = stats.norm.cdf(-d1)\n",
        "    delta[i, N] = -N_d1\n",
        "for i in range(N-1, -1, -1):\n",
        "    for j in range(i+1):\n",
        "        cash = -delta[j, i]*S[j, i]\n",
        "        if j == 0:\n",
        "            cash += V[j, i] + delta[j, i]*S[j, i]\n",
        "        else:\n",
        "            cash += delta[j-1, i]*S[j-1, i] + V[j, i] - V[j-1, i]\n",
        "        print(\"Step {}, Node {}: Delta = {:.3f}, Cash = {:.2f}\".format(i+1, j+1, delta[j, i], cash))\n"
      ],
      "metadata": {
        "colab": {
          "base_uri": "https://localhost:8080/"
        },
        "id": "9L7jq1a4OZWi",
        "outputId": "29d2a3bc-305b-4b76-ecfc-c6f27ebb9998"
      },
      "execution_count": null,
      "outputs": [
        {
          "output_type": "stream",
          "name": "stdout",
          "text": [
            "Step 25, Node 1: Delta = 0.000, Cash = 0.00\n",
            "Step 25, Node 2: Delta = 0.000, Cash = 0.00\n",
            "Step 25, Node 3: Delta = 0.000, Cash = 0.00\n",
            "Step 25, Node 4: Delta = 0.000, Cash = 0.00\n",
            "Step 25, Node 5: Delta = 0.000, Cash = 0.00\n",
            "Step 25, Node 6: Delta = 0.000, Cash = 0.00\n",
            "Step 25, Node 7: Delta = 0.000, Cash = 0.00\n",
            "Step 25, Node 8: Delta = 0.000, Cash = 0.00\n",
            "Step 25, Node 9: Delta = 0.000, Cash = 0.00\n",
            "Step 25, Node 10: Delta = 0.000, Cash = 0.00\n",
            "Step 25, Node 11: Delta = 0.000, Cash = 0.00\n",
            "Step 25, Node 12: Delta = 0.000, Cash = 0.00\n",
            "Step 25, Node 13: Delta = 0.000, Cash = 4.15\n",
            "Step 25, Node 14: Delta = 0.000, Cash = 10.14\n",
            "Step 25, Node 15: Delta = 0.000, Cash = 11.45\n",
            "Step 25, Node 16: Delta = 0.000, Cash = 10.67\n",
            "Step 25, Node 17: Delta = 0.000, Cash = 9.94\n",
            "Step 25, Node 18: Delta = 0.000, Cash = 9.26\n",
            "Step 25, Node 19: Delta = 0.000, Cash = 8.63\n",
            "Step 25, Node 20: Delta = 0.000, Cash = 8.04\n",
            "Step 25, Node 21: Delta = 0.000, Cash = 7.49\n",
            "Step 25, Node 22: Delta = 0.000, Cash = 6.98\n",
            "Step 25, Node 23: Delta = 0.000, Cash = 6.50\n",
            "Step 25, Node 24: Delta = 0.000, Cash = 6.06\n",
            "Step 25, Node 25: Delta = 0.000, Cash = 5.65\n",
            "Step 24, Node 1: Delta = 0.000, Cash = 0.00\n",
            "Step 24, Node 2: Delta = 0.000, Cash = 0.00\n",
            "Step 24, Node 3: Delta = 0.000, Cash = 0.00\n",
            "Step 24, Node 4: Delta = 0.000, Cash = 0.00\n",
            "Step 24, Node 5: Delta = 0.000, Cash = 0.00\n",
            "Step 24, Node 6: Delta = 0.000, Cash = 0.00\n",
            "Step 24, Node 7: Delta = 0.000, Cash = 0.00\n",
            "Step 24, Node 8: Delta = 0.000, Cash = 0.00\n",
            "Step 24, Node 9: Delta = 0.000, Cash = 0.00\n",
            "Step 24, Node 10: Delta = 0.000, Cash = 0.00\n",
            "Step 24, Node 11: Delta = 0.000, Cash = 0.00\n",
            "Step 24, Node 12: Delta = 0.000, Cash = 2.09\n",
            "Step 24, Node 13: Delta = 0.000, Cash = 7.16\n",
            "Step 24, Node 14: Delta = 0.000, Cash = 10.87\n",
            "Step 24, Node 15: Delta = 0.000, Cash = 11.05\n",
            "Step 24, Node 16: Delta = 0.000, Cash = 10.30\n",
            "Step 24, Node 17: Delta = 0.000, Cash = 9.59\n",
            "Step 24, Node 18: Delta = 0.000, Cash = 8.94\n",
            "Step 24, Node 19: Delta = 0.000, Cash = 8.33\n",
            "Step 24, Node 20: Delta = 0.000, Cash = 7.76\n",
            "Step 24, Node 21: Delta = 0.000, Cash = 7.23\n",
            "Step 24, Node 22: Delta = 0.000, Cash = 6.74\n",
            "Step 24, Node 23: Delta = 0.000, Cash = 6.28\n",
            "Step 24, Node 24: Delta = 0.000, Cash = 5.85\n",
            "Step 23, Node 1: Delta = 0.000, Cash = 0.00\n",
            "Step 23, Node 2: Delta = 0.000, Cash = 0.00\n",
            "Step 23, Node 3: Delta = 0.000, Cash = 0.00\n",
            "Step 23, Node 4: Delta = 0.000, Cash = 0.00\n",
            "Step 23, Node 5: Delta = 0.000, Cash = 0.00\n",
            "Step 23, Node 6: Delta = 0.000, Cash = 0.00\n",
            "Step 23, Node 7: Delta = 0.000, Cash = 0.00\n",
            "Step 23, Node 8: Delta = 0.000, Cash = 0.00\n",
            "Step 23, Node 9: Delta = 0.000, Cash = 0.00\n",
            "Step 23, Node 10: Delta = 0.000, Cash = 0.00\n",
            "Step 23, Node 11: Delta = 0.000, Cash = 1.05\n",
            "Step 23, Node 12: Delta = 0.000, Cash = 4.64\n",
            "Step 23, Node 13: Delta = 0.000, Cash = 9.02\n",
            "Step 23, Node 14: Delta = 0.000, Cash = 11.03\n",
            "Step 23, Node 15: Delta = 0.000, Cash = 10.67\n",
            "Step 23, Node 16: Delta = 0.000, Cash = 9.94\n",
            "Step 23, Node 17: Delta = 0.000, Cash = 9.26\n",
            "Step 23, Node 18: Delta = 0.000, Cash = 8.63\n",
            "Step 23, Node 19: Delta = 0.000, Cash = 8.04\n",
            "Step 23, Node 20: Delta = 0.000, Cash = 7.49\n",
            "Step 23, Node 21: Delta = 0.000, Cash = 6.98\n",
            "Step 23, Node 22: Delta = 0.000, Cash = 6.50\n",
            "Step 23, Node 23: Delta = 0.000, Cash = 6.06\n",
            "Step 22, Node 1: Delta = 0.000, Cash = 0.00\n",
            "Step 22, Node 2: Delta = 0.000, Cash = 0.00\n",
            "Step 22, Node 3: Delta = 0.000, Cash = 0.00\n",
            "Step 22, Node 4: Delta = 0.000, Cash = 0.00\n",
            "Step 22, Node 5: Delta = 0.000, Cash = 0.00\n",
            "Step 22, Node 6: Delta = 0.000, Cash = 0.00\n",
            "Step 22, Node 7: Delta = 0.000, Cash = 0.00\n",
            "Step 22, Node 8: Delta = 0.000, Cash = 0.00\n",
            "Step 22, Node 9: Delta = 0.000, Cash = 0.00\n",
            "Step 22, Node 10: Delta = 0.000, Cash = 0.53\n",
            "Step 22, Node 11: Delta = 0.000, Cash = 2.85\n",
            "Step 22, Node 12: Delta = 0.000, Cash = 6.84\n",
            "Step 22, Node 13: Delta = 0.000, Cash = 10.03\n",
            "Step 22, Node 14: Delta = 0.000, Cash = 10.92\n",
            "Step 22, Node 15: Delta = 0.000, Cash = 10.30\n",
            "Step 22, Node 16: Delta = 0.000, Cash = 9.59\n",
            "Step 22, Node 17: Delta = 0.000, Cash = 8.94\n",
            "Step 22, Node 18: Delta = 0.000, Cash = 8.33\n",
            "Step 22, Node 19: Delta = 0.000, Cash = 7.76\n",
            "Step 22, Node 20: Delta = 0.000, Cash = 7.23\n",
            "Step 22, Node 21: Delta = 0.000, Cash = 6.74\n",
            "Step 22, Node 22: Delta = 0.000, Cash = 6.28\n",
            "Step 21, Node 1: Delta = 0.000, Cash = 0.00\n",
            "Step 21, Node 2: Delta = 0.000, Cash = 0.00\n",
            "Step 21, Node 3: Delta = 0.000, Cash = 0.00\n",
            "Step 21, Node 4: Delta = 0.000, Cash = 0.00\n",
            "Step 21, Node 5: Delta = 0.000, Cash = 0.00\n",
            "Step 21, Node 6: Delta = 0.000, Cash = 0.00\n",
            "Step 21, Node 7: Delta = 0.000, Cash = 0.00\n",
            "Step 21, Node 8: Delta = 0.000, Cash = 0.00\n",
            "Step 21, Node 9: Delta = 0.000, Cash = 0.27\n",
            "Step 21, Node 10: Delta = 0.000, Cash = 1.70\n",
            "Step 21, Node 11: Delta = 0.000, Cash = 4.86\n",
            "Step 21, Node 12: Delta = 0.000, Cash = 8.44\n",
            "Step 21, Node 13: Delta = 0.000, Cash = 10.47\n",
            "Step 21, Node 14: Delta = 0.000, Cash = 10.67\n",
            "Step 21, Node 15: Delta = 0.000, Cash = 9.94\n",
            "Step 21, Node 16: Delta = 0.000, Cash = 9.26\n",
            "Step 21, Node 17: Delta = 0.000, Cash = 8.63\n",
            "Step 21, Node 18: Delta = 0.000, Cash = 8.04\n",
            "Step 21, Node 19: Delta = 0.000, Cash = 7.49\n",
            "Step 21, Node 20: Delta = 0.000, Cash = 6.98\n",
            "Step 21, Node 21: Delta = 0.000, Cash = 6.50\n",
            "Step 20, Node 1: Delta = 0.000, Cash = 0.00\n",
            "Step 20, Node 2: Delta = 0.000, Cash = 0.00\n",
            "Step 20, Node 3: Delta = 0.000, Cash = 0.00\n",
            "Step 20, Node 4: Delta = 0.000, Cash = 0.00\n",
            "Step 20, Node 5: Delta = 0.000, Cash = 0.00\n",
            "Step 20, Node 6: Delta = 0.000, Cash = 0.00\n",
            "Step 20, Node 7: Delta = 0.000, Cash = 0.00\n",
            "Step 20, Node 8: Delta = 0.000, Cash = 0.13\n",
            "Step 20, Node 9: Delta = 0.000, Cash = 0.99\n",
            "Step 20, Node 10: Delta = 0.000, Cash = 3.29\n",
            "Step 20, Node 11: Delta = 0.000, Cash = 6.66\n",
            "Step 20, Node 12: Delta = 0.000, Cash = 9.46\n",
            "Step 20, Node 13: Delta = 0.000, Cash = 10.64\n",
            "Step 20, Node 14: Delta = 0.000, Cash = 10.30\n",
            "Step 20, Node 15: Delta = 0.000, Cash = 9.59\n",
            "Step 20, Node 16: Delta = 0.000, Cash = 8.94\n",
            "Step 20, Node 17: Delta = 0.000, Cash = 8.33\n",
            "Step 20, Node 18: Delta = 0.000, Cash = 7.76\n",
            "Step 20, Node 19: Delta = 0.000, Cash = 7.23\n",
            "Step 20, Node 20: Delta = 0.000, Cash = 6.74\n",
            "Step 19, Node 1: Delta = 0.000, Cash = 0.00\n",
            "Step 19, Node 2: Delta = 0.000, Cash = 0.00\n",
            "Step 19, Node 3: Delta = 0.000, Cash = 0.00\n",
            "Step 19, Node 4: Delta = 0.000, Cash = 0.00\n",
            "Step 19, Node 5: Delta = 0.000, Cash = 0.00\n",
            "Step 19, Node 6: Delta = 0.000, Cash = 0.00\n",
            "Step 19, Node 7: Delta = 0.000, Cash = 0.07\n",
            "Step 19, Node 8: Delta = 0.000, Cash = 0.56\n",
            "Step 19, Node 9: Delta = 0.000, Cash = 2.14\n",
            "Step 19, Node 10: Delta = 0.000, Cash = 4.98\n",
            "Step 19, Node 11: Delta = 0.000, Cash = 8.07\n",
            "Step 19, Node 12: Delta = 0.000, Cash = 10.05\n",
            "Step 19, Node 13: Delta = 0.000, Cash = 10.54\n",
            "Step 19, Node 14: Delta = 0.000, Cash = 9.94\n",
            "Step 19, Node 15: Delta = 0.000, Cash = 9.26\n",
            "Step 19, Node 16: Delta = 0.000, Cash = 8.63\n",
            "Step 19, Node 17: Delta = 0.000, Cash = 8.04\n",
            "Step 19, Node 18: Delta = 0.000, Cash = 7.49\n",
            "Step 19, Node 19: Delta = 0.000, Cash = 6.98\n",
            "Step 18, Node 1: Delta = 0.000, Cash = 0.00\n",
            "Step 18, Node 2: Delta = 0.000, Cash = 0.00\n",
            "Step 18, Node 3: Delta = 0.000, Cash = 0.00\n",
            "Step 18, Node 4: Delta = 0.000, Cash = 0.00\n",
            "Step 18, Node 5: Delta = 0.000, Cash = 0.00\n",
            "Step 18, Node 6: Delta = 0.000, Cash = 0.03\n",
            "Step 18, Node 7: Delta = 0.000, Cash = 0.32\n",
            "Step 18, Node 8: Delta = 0.000, Cash = 1.36\n",
            "Step 18, Node 9: Delta = 0.000, Cash = 3.57\n",
            "Step 18, Node 10: Delta = 0.000, Cash = 6.53\n",
            "Step 18, Node 11: Delta = 0.000, Cash = 9.06\n",
            "Step 18, Node 12: Delta = 0.000, Cash = 10.30\n",
            "Step 18, Node 13: Delta = 0.000, Cash = 10.30\n",
            "Step 18, Node 14: Delta = 0.000, Cash = 9.59\n",
            "Step 18, Node 15: Delta = 0.000, Cash = 8.94\n",
            "Step 18, Node 16: Delta = 0.000, Cash = 8.33\n",
            "Step 18, Node 17: Delta = 0.000, Cash = 7.76\n",
            "Step 18, Node 18: Delta = 0.000, Cash = 7.23\n",
            "Step 17, Node 1: Delta = 0.000, Cash = 0.00\n",
            "Step 17, Node 2: Delta = 0.000, Cash = 0.00\n",
            "Step 17, Node 3: Delta = 0.000, Cash = 0.00\n",
            "Step 17, Node 4: Delta = 0.000, Cash = 0.00\n",
            "Step 17, Node 5: Delta = 0.000, Cash = 0.02\n",
            "Step 17, Node 6: Delta = 0.000, Cash = 0.18\n",
            "Step 17, Node 7: Delta = 0.000, Cash = 0.84\n",
            "Step 17, Node 8: Delta = 0.000, Cash = 2.47\n",
            "Step 17, Node 9: Delta = 0.000, Cash = 5.06\n",
            "Step 17, Node 10: Delta = 0.000, Cash = 7.80\n",
            "Step 17, Node 11: Delta = 0.000, Cash = 9.68\n",
            "Step 17, Node 12: Delta = 0.000, Cash = 10.37\n",
            "Step 17, Node 13: Delta = 0.000, Cash = 9.94\n",
            "Step 17, Node 14: Delta = 0.000, Cash = 9.26\n",
            "Step 17, Node 15: Delta = 0.000, Cash = 8.63\n",
            "Step 17, Node 16: Delta = 0.000, Cash = 8.04\n",
            "Step 17, Node 17: Delta = 0.000, Cash = 7.49\n",
            "Step 16, Node 1: Delta = 0.000, Cash = 0.00\n",
            "Step 16, Node 2: Delta = 0.000, Cash = 0.00\n",
            "Step 16, Node 3: Delta = 0.000, Cash = 0.00\n",
            "Step 16, Node 4: Delta = 0.000, Cash = 0.01\n",
            "Step 16, Node 5: Delta = 0.000, Cash = 0.10\n",
            "Step 16, Node 6: Delta = 0.000, Cash = 0.51\n",
            "Step 16, Node 7: Delta = 0.000, Cash = 1.66\n",
            "Step 16, Node 8: Delta = 0.000, Cash = 3.77\n",
            "Step 16, Node 9: Delta = 0.000, Cash = 6.44\n",
            "Step 16, Node 10: Delta = 0.000, Cash = 8.74\n",
            "Step 16, Node 11: Delta = 0.000, Cash = 10.02\n",
            "Step 16, Node 12: Delta = 0.000, Cash = 10.22\n",
            "Step 16, Node 13: Delta = 0.000, Cash = 9.59\n",
            "Step 16, Node 14: Delta = 0.000, Cash = 8.94\n",
            "Step 16, Node 15: Delta = 0.000, Cash = 8.33\n",
            "Step 16, Node 16: Delta = 0.000, Cash = 7.76\n",
            "Step 15, Node 1: Delta = 0.000, Cash = 0.00\n",
            "Step 15, Node 2: Delta = 0.000, Cash = 0.00\n",
            "Step 15, Node 3: Delta = 0.000, Cash = 0.00\n",
            "Step 15, Node 4: Delta = 0.000, Cash = 0.05\n",
            "Step 15, Node 5: Delta = 0.000, Cash = 0.30\n",
            "Step 15, Node 6: Delta = 0.000, Cash = 1.09\n",
            "Step 15, Node 7: Delta = 0.000, Cash = 2.72\n",
            "Step 15, Node 8: Delta = 0.000, Cash = 5.11\n",
            "Step 15, Node 9: Delta = 0.000, Cash = 7.59\n",
            "Step 15, Node 10: Delta = 0.000, Cash = 9.38\n",
            "Step 15, Node 11: Delta = 0.000, Cash = 10.15\n",
            "Step 15, Node 12: Delta = 0.000, Cash = 9.94\n",
            "Step 15, Node 13: Delta = 0.000, Cash = 9.26\n",
            "Step 15, Node 14: Delta = 0.000, Cash = 8.63\n",
            "Step 15, Node 15: Delta = 0.000, Cash = 8.04\n",
            "Step 14, Node 1: Delta = 0.000, Cash = 0.00\n",
            "Step 14, Node 2: Delta = 0.000, Cash = 0.00\n",
            "Step 14, Node 3: Delta = 0.000, Cash = 0.03\n",
            "Step 14, Node 4: Delta = 0.000, Cash = 0.18\n",
            "Step 14, Node 5: Delta = 0.000, Cash = 0.70\n",
            "Step 14, Node 6: Delta = 0.000, Cash = 1.91\n",
            "Step 14, Node 7: Delta = 0.000, Cash = 3.92\n",
            "Step 14, Node 8: Delta = 0.000, Cash = 6.36\n",
            "Step 14, Node 9: Delta = 0.000, Cash = 8.49\n",
            "Step 14, Node 10: Delta = 0.000, Cash = 9.77\n",
            "Step 14, Node 11: Delta = 0.000, Cash = 10.11\n",
            "Step 14, Node 12: Delta = 0.000, Cash = 9.59\n",
            "Step 14, Node 13: Delta = 0.000, Cash = 8.94\n",
            "Step 14, Node 14: Delta = 0.000, Cash = 8.33\n",
            "Step 13, Node 1: Delta = 0.000, Cash = 0.00\n",
            "Step 13, Node 2: Delta = 0.000, Cash = 0.02\n",
            "Step 13, Node 3: Delta = 0.000, Cash = 0.10\n",
            "Step 13, Node 4: Delta = 0.000, Cash = 0.44\n",
            "Step 13, Node 5: Delta = 0.000, Cash = 1.31\n",
            "Step 13, Node 6: Delta = 0.000, Cash = 2.92\n",
            "Step 13, Node 7: Delta = 0.000, Cash = 5.14\n",
            "Step 13, Node 8: Delta = 0.000, Cash = 7.43\n",
            "Step 13, Node 9: Delta = 0.000, Cash = 9.13\n",
            "Step 13, Node 10: Delta = 0.000, Cash = 9.94\n",
            "Step 13, Node 11: Delta = 0.000, Cash = 9.92\n",
            "Step 13, Node 12: Delta = 0.000, Cash = 9.26\n",
            "Step 13, Node 13: Delta = 0.000, Cash = 8.63\n",
            "Step 12, Node 1: Delta = 0.000, Cash = 0.01\n",
            "Step 12, Node 2: Delta = 0.000, Cash = 0.06\n",
            "Step 12, Node 3: Delta = 0.000, Cash = 0.27\n",
            "Step 12, Node 4: Delta = 0.000, Cash = 0.88\n",
            "Step 12, Node 5: Delta = 0.000, Cash = 2.12\n",
            "Step 12, Node 6: Delta = 0.000, Cash = 4.04\n",
            "Step 12, Node 7: Delta = 0.000, Cash = 6.29\n",
            "Step 12, Node 8: Delta = 0.000, Cash = 8.28\n",
            "Step 12, Node 9: Delta = 0.000, Cash = 9.53\n",
            "Step 12, Node 10: Delta = 0.000, Cash = 9.99\n",
            "Step 12, Node 11: Delta = 0.000, Cash = 9.59\n",
            "Step 12, Node 12: Delta = 0.000, Cash = 8.94\n",
            "Step 11, Node 1: Delta = 0.000, Cash = 0.04\n",
            "Step 11, Node 2: Delta = 0.000, Cash = 0.17\n",
            "Step 11, Node 3: Delta = 0.000, Cash = 0.58\n",
            "Step 11, Node 4: Delta = 0.000, Cash = 1.50\n",
            "Step 11, Node 5: Delta = 0.000, Cash = 3.08\n",
            "Step 11, Node 6: Delta = 0.000, Cash = 5.17\n",
            "Step 11, Node 7: Delta = 0.000, Cash = 7.29\n",
            "Step 11, Node 8: Delta = 0.000, Cash = 8.91\n",
            "Step 11, Node 9: Delta = 0.000, Cash = 9.76\n",
            "Step 11, Node 10: Delta = 0.000, Cash = 9.86\n",
            "Step 11, Node 11: Delta = 0.000, Cash = 9.26\n",
            "Step 10, Node 1: Delta = 0.000, Cash = 0.12\n",
            "Step 10, Node 2: Delta = 0.000, Cash = 0.37\n",
            "Step 10, Node 3: Delta = 0.000, Cash = 1.04\n",
            "Step 10, Node 4: Delta = 0.000, Cash = 2.30\n",
            "Step 10, Node 5: Delta = 0.000, Cash = 4.13\n",
            "Step 10, Node 6: Delta = 0.000, Cash = 6.23\n",
            "Step 10, Node 7: Delta = 0.000, Cash = 8.10\n",
            "Step 10, Node 8: Delta = 0.000, Cash = 9.33\n",
            "Step 10, Node 9: Delta = 0.000, Cash = 9.84\n",
            "Step 10, Node 10: Delta = 0.000, Cash = 9.59\n",
            "Step 9, Node 1: Delta = 0.000, Cash = 0.31\n",
            "Step 9, Node 2: Delta = 0.000, Cash = 0.71\n",
            "Step 9, Node 3: Delta = 0.000, Cash = 1.67\n",
            "Step 9, Node 4: Delta = 0.000, Cash = 3.22\n",
            "Step 9, Node 5: Delta = 0.000, Cash = 5.19\n",
            "Step 9, Node 6: Delta = 0.000, Cash = 7.17\n",
            "Step 9, Node 7: Delta = 0.000, Cash = 8.72\n",
            "Step 9, Node 8: Delta = 0.000, Cash = 9.58\n",
            "Step 9, Node 9: Delta = 0.000, Cash = 9.78\n",
            "Step 8, Node 1: Delta = 0.000, Cash = 0.67\n",
            "Step 8, Node 2: Delta = 0.000, Cash = 1.19\n",
            "Step 8, Node 3: Delta = 0.000, Cash = 2.45\n",
            "Step 8, Node 4: Delta = 0.000, Cash = 4.21\n",
            "Step 8, Node 5: Delta = 0.000, Cash = 6.18\n",
            "Step 8, Node 6: Delta = 0.000, Cash = 7.94\n",
            "Step 8, Node 7: Delta = 0.000, Cash = 9.15\n",
            "Step 8, Node 8: Delta = 0.000, Cash = 9.68\n",
            "Step 7, Node 1: Delta = 0.000, Cash = 1.27\n",
            "Step 7, Node 2: Delta = 0.000, Cash = 1.82\n",
            "Step 7, Node 3: Delta = 0.000, Cash = 3.33\n",
            "Step 7, Node 4: Delta = 0.000, Cash = 5.20\n",
            "Step 7, Node 5: Delta = 0.000, Cash = 7.07\n",
            "Step 7, Node 6: Delta = 0.000, Cash = 8.55\n",
            "Step 7, Node 7: Delta = 0.000, Cash = 9.41\n",
            "Step 6, Node 1: Delta = 0.000, Cash = 2.18\n",
            "Step 6, Node 2: Delta = 0.000, Cash = 2.58\n",
            "Step 6, Node 3: Delta = 0.000, Cash = 4.27\n",
            "Step 6, Node 4: Delta = 0.000, Cash = 6.14\n",
            "Step 6, Node 5: Delta = 0.000, Cash = 7.81\n",
            "Step 6, Node 6: Delta = 0.000, Cash = 8.98\n",
            "Step 5, Node 1: Delta = 0.000, Cash = 3.48\n",
            "Step 5, Node 2: Delta = 0.000, Cash = 3.43\n",
            "Step 5, Node 3: Delta = 0.000, Cash = 5.21\n",
            "Step 5, Node 4: Delta = 0.000, Cash = 6.97\n",
            "Step 5, Node 5: Delta = 0.000, Cash = 8.39\n",
            "Step 4, Node 1: Delta = 0.000, Cash = 5.20\n",
            "Step 4, Node 2: Delta = 0.000, Cash = 4.32\n",
            "Step 4, Node 3: Delta = 0.000, Cash = 6.09\n",
            "Step 4, Node 4: Delta = 0.000, Cash = 7.68\n",
            "Step 3, Node 1: Delta = 0.000, Cash = 7.38\n",
            "Step 3, Node 2: Delta = 0.000, Cash = 5.21\n",
            "Step 3, Node 3: Delta = 0.000, Cash = 6.89\n",
            "Step 2, Node 1: Delta = 0.000, Cash = 9.99\n",
            "Step 2, Node 2: Delta = 0.000, Cash = 6.05\n",
            "Step 1, Node 1: Delta = 0.000, Cash = 13.04\n"
          ]
        }
      ]
    },
    {
      "cell_type": "markdown",
      "source": [
        "**b. Evolution of the cash-account**"
      ],
      "metadata": {
        "id": "02uJBNNSPPfk"
      }
    },
    {
      "cell_type": "markdown",
      "source": [
        "To show the evolution of the cash-account throughout the different steps for one path of our choice, we can modify the above code to only print the cash account at each step for a specific path. For example, to show the cash account evolution for the path where the stock price goes up at every step, we can use:"
      ],
      "metadata": {
        "id": "cdaPZGI7O3Oh"
      }
    },
    {
      "cell_type": "code",
      "source": [
        "path = [1, 2, 3, 4, 5, 6, 7, 8, 9, 10, 11, 12, 13, 14, 15, 16, 17, 18, 19, 20, 21, 22, 23, 24, 25]\n",
        "\n",
        "cash = 0\n",
        "for i in range(N):\n",
        "    j = path[i]-1\n",
        "    delta_i = delta[j, i]\n",
        "    cash_i = -delta_i*S[j, i]\n",
        "    if j == 0:\n",
        "        cash_i += V[j, i] + delta_i*S[j, i]\n",
        "    else:\n",
        "        cash_i += delta[j-1, i]*S[j-1, i] + V[j, i] - V[j-1, i]\n",
        "    cash += cash_i\n",
        "    print(\"Step {}: Delta = {:.3f}, Cash = {:.2f}\".format(i+1, delta_i, cash))\n"
      ],
      "metadata": {
        "colab": {
          "base_uri": "https://localhost:8080/"
        },
        "id": "wyjvYWxrO24h",
        "outputId": "7358881b-7cf0-4ebc-8fad-69d92ac3eae3"
      },
      "execution_count": null,
      "outputs": [
        {
          "output_type": "stream",
          "name": "stdout",
          "text": [
            "Step 1: Delta = 0.000, Cash = 13.04\n",
            "Step 2: Delta = 0.000, Cash = 19.09\n",
            "Step 3: Delta = 0.000, Cash = 25.98\n",
            "Step 4: Delta = 0.000, Cash = 33.67\n",
            "Step 5: Delta = 0.000, Cash = 42.06\n",
            "Step 6: Delta = 0.000, Cash = 51.04\n",
            "Step 7: Delta = 0.000, Cash = 60.45\n",
            "Step 8: Delta = 0.000, Cash = 70.13\n",
            "Step 9: Delta = 0.000, Cash = 79.91\n",
            "Step 10: Delta = 0.000, Cash = 89.51\n",
            "Step 11: Delta = 0.000, Cash = 98.77\n",
            "Step 12: Delta = 0.000, Cash = 107.71\n",
            "Step 13: Delta = 0.000, Cash = 116.34\n",
            "Step 14: Delta = 0.000, Cash = 124.66\n",
            "Step 15: Delta = 0.000, Cash = 132.70\n",
            "Step 16: Delta = 0.000, Cash = 140.46\n",
            "Step 17: Delta = 0.000, Cash = 147.96\n",
            "Step 18: Delta = 0.000, Cash = 155.19\n",
            "Step 19: Delta = 0.000, Cash = 162.17\n",
            "Step 20: Delta = 0.000, Cash = 168.90\n",
            "Step 21: Delta = 0.000, Cash = 175.41\n",
            "Step 22: Delta = 0.000, Cash = 181.68\n",
            "Step 23: Delta = 0.000, Cash = 187.74\n",
            "Step 24: Delta = 0.000, Cash = 193.59\n",
            "Step 25: Delta = 0.000, Cash = 199.24\n"
          ]
        }
      ]
    },
    {
      "cell_type": "markdown",
      "source": [
        "**c. Comment on the Delta hedging**"
      ],
      "metadata": {
        "id": "lnZmA3bfPGl_"
      }
    },
    {
      "cell_type": "markdown",
      "source": [
        "Comparing the delta hedging process for the American put option to that of the European put option, we see that the American put option requires more frequent adjustments to the hedge. This is because the possibility of early exercise means that the option can become in the money at any time, and the option seller must be prepared to deliver the underlying asset immediately. This increases the sensitivity of the hedge to changes in the stock price and requires more frequent adjustments to maintain a delta-neutral position."
      ],
      "metadata": {
        "id": "SeJNoy8ZO-8j"
      }
    },
    {
      "cell_type": "markdown",
      "source": [
        "### **Question 27** - Pricing an Asian ATM Put Option"
      ],
      "metadata": {
        "id": "hHgsW03jRG63"
      }
    },
    {
      "cell_type": "markdown",
      "source": [
        "To price the Asian ATM Put option, we need to use the binomial tree model. We will assume that the stock follows a lognormal distribution and use the Cox-Ross-Rubinstein model. We will also assume that we are acting as the seller of the put option, which means that we will need to delta hedge our position at each node.\n",
        "\n",
        "To implement this model in Python, we can define a function that takes the following inputs:\n",
        "\n",
        "S0: the initial stock price\n",
        "\n",
        "r: the risk-free interest rate\n",
        "\n",
        "sigma: the volatility of the stock price\n",
        "\n",
        "T: the time to maturity in years\n",
        "\n",
        "K: the strike price of the option\n",
        "\n",
        "N: the number of time steps in the tree\n",
        "\n",
        "The function will then use these inputs to compute the value of the option and the delta hedging required at each node in each step."
      ],
      "metadata": {
        "id": "ZjyRaYIrRJig"
      }
    },
    {
      "cell_type": "code",
      "source": [
        "import numpy as np\n",
        "from scipy.stats import norm\n",
        "import warnings\n",
        "warnings.filterwarnings('ignore')\n",
        "\n",
        "def asian_atm_put_price(S0, r, sigma, T, K, N):\n",
        "    # Calculate basic parameters\n",
        "    dt = T / N\n",
        "    u = np.exp(sigma * np.sqrt(dt))\n",
        "    d = 1 / u\n",
        "    p = (np.exp(r * dt) - d) / (u - d)\n",
        "    q = 1 - p\n",
        "    \n",
        "    # Create stock price tree\n",
        "    stock_tree = np.zeros((N+1, N+1))\n",
        "    stock_tree[0, 0] = S0\n",
        "    for i in range(1, N+1):\n",
        "        stock_tree[0, i] = stock_tree[0, i-1] * u\n",
        "        for j in range(1, i+1):\n",
        "            stock_tree[j, i] = stock_tree[j-1, i-1] * d\n",
        "    \n",
        "    # Compute the average of the stock price over the time steps\n",
        "    stock_avg_tree = np.zeros((N+1, N+1))\n",
        "    stock_avg_tree[0, 0] = S0\n",
        "    for i in range(1, N+1):\n",
        "        for j in range(0, i+1):\n",
        "            if j == 0:\n",
        "                stock_avg_tree[j, i] = (stock_avg_tree[j, i-1] * (i-1) + stock_tree[j, i]) / i\n",
        "            elif j == i:\n",
        "                stock_avg_tree[j, i] = (stock_avg_tree[j-1, i-1] * (i-1) + stock_tree[j, i]) / i\n",
        "            else:\n",
        "                stock_avg_tree[j, i] = (stock_avg_tree[j-1, i-1] * j + stock_avg_tree[j, i-1] * (i-j)) / i\n",
        "    \n",
        "    # Create option value tree\n",
        "    put_tree = np.zeros((N+1, N+1))\n",
        "    for j in range(N+1):\n",
        "        put_tree[j, N] = max(K - stock_avg_tree[j, N], 0)\n",
        "    for i in range(N-1, -1, -1):\n",
        "        for j in range(i+1):\n",
        "            put_tree[j, i] = np.exp(-r * dt) * (p * put_tree[j, i+1] + q * put_tree[j+1, i+1])\n",
        "    \n",
        "    # Compute delta hedging at each node\n",
        "    delta_tree = np.zeros((N+1, N+1))\n",
        "    cash_tree = np.zeros((N+1, N+1))\n",
        "    for i in range(N):\n",
        "        for j in range(i+1):\n",
        "            delta_tree[j, i] = norm.cdf(-d1(stock_tree[j, i], K, r, sigma, T - i))\n",
        "            cash_tree[j, i] = -delta_tree[j, i] * stock_tree[j, i]\n",
        "    \n",
        "    # Compute cash account evolution for one path\n",
        "    cash_path = np.zeros(N+1)\n",
        "    cash_path[0] = delta_tree[0, 0] * S0\n",
        "    for i in range(1, N+1):\n",
        "        for j in range(i+1):\n",
        "            delta = delta_tree[j, i]\n",
        "            cash = cash_tree[j, i]\n",
        "            stock_price = stock_tree[j, i]\n",
        "            cash_path[i] += delta * (stock_price - stock_tree[j-1, i-1]) + cash\n",
        "    \n",
        "    # Return option value and delta hedging\n",
        "    return put_tree[0, 0], delta_tree, cash_path\n",
        "\n",
        "def d1(S, K, r, sigma, T):\n",
        "    return (np.log(S / K) + (r + 0.5 * sigma**2) * T) / (sigma * np.sqrt(T))\n"
      ],
      "metadata": {
        "id": "XnzChu8tRTTB"
      },
      "execution_count": null,
      "outputs": []
    },
    {
      "cell_type": "code",
      "source": [
        "S0 = 180\n",
        "r = 0.02\n",
        "sigma = 0.25\n",
        "T = 0.5\n",
        "K = 182.26\n",
        "N = 25\n",
        "\n",
        "price, delta, cash = asian_atm_put_price(S0, r, sigma, T, K, N)\n",
        "\n",
        "print(\"Option price:\", price)\n"
      ],
      "metadata": {
        "colab": {
          "base_uri": "https://localhost:8080/"
        },
        "id": "zOSRxOzBXTqb",
        "outputId": "16955147-eb20-4a67-ac97-c5f96276fd34"
      },
      "execution_count": null,
      "outputs": [
        {
          "output_type": "stream",
          "name": "stdout",
          "text": [
            "Option price: 2.482429132925077\n"
          ]
        }
      ]
    },
    {
      "cell_type": "markdown",
      "source": [
        "The Asian ATM Put option price is significantly lower than the regular European Put option price of 33.90. This is because the Asian option has a feature that averages the stock price over the life of the option, which reduces the variability of the stock price and makes the option less valuable. Additionally, the ATM strike price of the Asian option is closer to the current stock price, which further reduces the value of the option compared to the European Put option."
      ],
      "metadata": {
        "id": "eKnKyByOYlz1"
      }
    },
    {
      "cell_type": "markdown",
      "source": [
        "---\n",
        "# REFERENCES\n",
        "\n",
        "Derivatives. Corporate Finance Institute. (2023, February 14). Retrieved February 15, 2023, from https://corporatefinanceinstitute.com/topic/derivatives/\n",
        "\n",
        "Derivatives Review - Columbia University in the City of New York. (n.d.). Retrieved February 15, 2023, from http://www.columbia.edu/~mh2078/QRM/DerivativesReview.pdf\n",
        "\n",
        "Faculty.ksu.edu.sa. (n.d.). Retrieved February 15, 2023, from https://faculty.ksu.edu.sa/sites/default/files/options_futures_and_other_derivatives_8th_ed_part2.pdf\n",
        "\n",
        "MSC in Financial Engineering. WorldQuant University. (n.d.). Retrieved February 16, 2023, from https://vm.wqu.edu/lab/tree/work/mscfe-derivative-pricing/ "
      ],
      "metadata": {
        "id": "-A0XzaZtmUKC"
      }
    }
  ]
}