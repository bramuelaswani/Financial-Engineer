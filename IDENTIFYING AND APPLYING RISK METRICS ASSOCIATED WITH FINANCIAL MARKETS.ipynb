{
 "cells": [
  {
   "cell_type": "code",
   "execution_count": 1,
   "id": "dc108724",
   "metadata": {},
   "outputs": [],
   "source": [
    "import numpy as np\n",
    "import pandas as pd\n",
    "import pandas_datareader.data as web\n",
    "\n",
    "pd.options.display.float_format = \"{:,.3f}\".format\n",
    "import datetime\n",
    "from datetime import date\n",
    "\n",
    "import seaborn as sns\n",
    "from IPython.display import VimeoVideo\n",
    "from matplotlib import pyplot as plt"
   ]
  },
  {
   "cell_type": "code",
   "execution_count": 2,
   "id": "2726fbfe",
   "metadata": {},
   "outputs": [],
   "source": [
    "# start = datetime.date.today()-datetime.timedelta(365*10)\n",
    "# end = datetime.date.today()\n",
    "start = datetime.date(2011, 11, 25)\n",
    "end = datetime.date(2021, 11, 22)\n",
    "\n",
    "prices = web.DataReader([\"^GSPC\", \"^RUT\"], \"yahoo\", start, end)[\"Adj Close\"]\n",
    "\n",
    "# Rename column to make names more intuitive\n",
    "prices = prices.rename(columns={\"^GSPC\": \"SP500\", \"^RUT\": \"Russell2000\"})"
   ]
  },
  {
   "cell_type": "code",
   "execution_count": 3,
   "id": "10d6c211",
   "metadata": {},
   "outputs": [
    {
     "data": {
      "text/html": [
       "<div>\n",
       "<style scoped>\n",
       "    .dataframe tbody tr th:only-of-type {\n",
       "        vertical-align: middle;\n",
       "    }\n",
       "\n",
       "    .dataframe tbody tr th {\n",
       "        vertical-align: top;\n",
       "    }\n",
       "\n",
       "    .dataframe thead th {\n",
       "        text-align: right;\n",
       "    }\n",
       "</style>\n",
       "<table border=\"1\" class=\"dataframe\">\n",
       "  <thead>\n",
       "    <tr style=\"text-align: right;\">\n",
       "      <th>Symbols</th>\n",
       "      <th>SP500</th>\n",
       "      <th>Russell2000</th>\n",
       "    </tr>\n",
       "  </thead>\n",
       "  <tbody>\n",
       "    <tr>\n",
       "      <th>count</th>\n",
       "      <td>2,515.000</td>\n",
       "      <td>2,515.000</td>\n",
       "    </tr>\n",
       "    <tr>\n",
       "      <th>mean</th>\n",
       "      <td>2,436.210</td>\n",
       "      <td>1,352.007</td>\n",
       "    </tr>\n",
       "    <tr>\n",
       "      <th>std</th>\n",
       "      <td>802.765</td>\n",
       "      <td>384.850</td>\n",
       "    </tr>\n",
       "    <tr>\n",
       "      <th>min</th>\n",
       "      <td>1,158.670</td>\n",
       "      <td>666.160</td>\n",
       "    </tr>\n",
       "    <tr>\n",
       "      <th>25%</th>\n",
       "      <td>1,881.550</td>\n",
       "      <td>1,114.755</td>\n",
       "    </tr>\n",
       "    <tr>\n",
       "      <th>50%</th>\n",
       "      <td>2,198.180</td>\n",
       "      <td>1,264.300</td>\n",
       "    </tr>\n",
       "    <tr>\n",
       "      <th>75%</th>\n",
       "      <td>2,876.725</td>\n",
       "      <td>1,552.530</td>\n",
       "    </tr>\n",
       "    <tr>\n",
       "      <th>max</th>\n",
       "      <td>4,704.540</td>\n",
       "      <td>2,442.740</td>\n",
       "    </tr>\n",
       "  </tbody>\n",
       "</table>\n",
       "</div>"
      ],
      "text/plain": [
       "Symbols     SP500  Russell2000\n",
       "count   2,515.000    2,515.000\n",
       "mean    2,436.210    1,352.007\n",
       "std       802.765      384.850\n",
       "min     1,158.670      666.160\n",
       "25%     1,881.550    1,114.755\n",
       "50%     2,198.180    1,264.300\n",
       "75%     2,876.725    1,552.530\n",
       "max     4,704.540    2,442.740"
      ]
     },
     "execution_count": 3,
     "metadata": {},
     "output_type": "execute_result"
    }
   ],
   "source": [
    "prices.describe()"
   ]
  },
  {
   "cell_type": "code",
   "execution_count": 4,
   "id": "7402c7fe",
   "metadata": {},
   "outputs": [
    {
     "data": {
      "text/html": [
       "<div>\n",
       "<style scoped>\n",
       "    .dataframe tbody tr th:only-of-type {\n",
       "        vertical-align: middle;\n",
       "    }\n",
       "\n",
       "    .dataframe tbody tr th {\n",
       "        vertical-align: top;\n",
       "    }\n",
       "\n",
       "    .dataframe thead th {\n",
       "        text-align: right;\n",
       "    }\n",
       "</style>\n",
       "<table border=\"1\" class=\"dataframe\">\n",
       "  <thead>\n",
       "    <tr style=\"text-align: right;\">\n",
       "      <th>Symbols</th>\n",
       "      <th>SP500</th>\n",
       "      <th>Russell2000</th>\n",
       "    </tr>\n",
       "    <tr>\n",
       "      <th>Date</th>\n",
       "      <th></th>\n",
       "      <th></th>\n",
       "    </tr>\n",
       "  </thead>\n",
       "  <tbody>\n",
       "    <tr>\n",
       "      <th>2011-11-25</th>\n",
       "      <td>1,158.670</td>\n",
       "      <td>666.160</td>\n",
       "    </tr>\n",
       "    <tr>\n",
       "      <th>2011-11-28</th>\n",
       "      <td>1,192.550</td>\n",
       "      <td>697.900</td>\n",
       "    </tr>\n",
       "    <tr>\n",
       "      <th>2011-11-29</th>\n",
       "      <td>1,195.190</td>\n",
       "      <td>696.100</td>\n",
       "    </tr>\n",
       "    <tr>\n",
       "      <th>2011-11-30</th>\n",
       "      <td>1,246.960</td>\n",
       "      <td>737.420</td>\n",
       "    </tr>\n",
       "    <tr>\n",
       "      <th>2011-12-01</th>\n",
       "      <td>1,244.580</td>\n",
       "      <td>730.750</td>\n",
       "    </tr>\n",
       "  </tbody>\n",
       "</table>\n",
       "</div>"
      ],
      "text/plain": [
       "Symbols        SP500  Russell2000\n",
       "Date                             \n",
       "2011-11-25 1,158.670      666.160\n",
       "2011-11-28 1,192.550      697.900\n",
       "2011-11-29 1,195.190      696.100\n",
       "2011-11-30 1,246.960      737.420\n",
       "2011-12-01 1,244.580      730.750"
      ]
     },
     "execution_count": 4,
     "metadata": {},
     "output_type": "execute_result"
    }
   ],
   "source": [
    "prices.head()"
   ]
  },
  {
   "cell_type": "markdown",
   "id": "0bced846",
   "metadata": {},
   "source": [
    "### 1.2 Calculate log returns, remove unused columns, and drop nulls\n"
   ]
  },
  {
   "cell_type": "code",
   "execution_count": 5,
   "id": "8753afdb",
   "metadata": {},
   "outputs": [],
   "source": [
    "df = np.log(prices) - np.log(prices.shift(1))\n",
    "df = df.iloc[1:, 0:]"
   ]
  },
  {
   "cell_type": "code",
   "execution_count": 6,
   "id": "65cc2e9d",
   "metadata": {},
   "outputs": [
    {
     "data": {
      "text/html": [
       "<div>\n",
       "<style scoped>\n",
       "    .dataframe tbody tr th:only-of-type {\n",
       "        vertical-align: middle;\n",
       "    }\n",
       "\n",
       "    .dataframe tbody tr th {\n",
       "        vertical-align: top;\n",
       "    }\n",
       "\n",
       "    .dataframe thead th {\n",
       "        text-align: right;\n",
       "    }\n",
       "</style>\n",
       "<table border=\"1\" class=\"dataframe\">\n",
       "  <thead>\n",
       "    <tr style=\"text-align: right;\">\n",
       "      <th>Symbols</th>\n",
       "      <th>SP500</th>\n",
       "      <th>Russell2000</th>\n",
       "    </tr>\n",
       "    <tr>\n",
       "      <th>Date</th>\n",
       "      <th></th>\n",
       "      <th></th>\n",
       "    </tr>\n",
       "  </thead>\n",
       "  <tbody>\n",
       "    <tr>\n",
       "      <th>2011-11-28</th>\n",
       "      <td>0.029</td>\n",
       "      <td>0.047</td>\n",
       "    </tr>\n",
       "    <tr>\n",
       "      <th>2011-11-29</th>\n",
       "      <td>0.002</td>\n",
       "      <td>-0.003</td>\n",
       "    </tr>\n",
       "    <tr>\n",
       "      <th>2011-11-30</th>\n",
       "      <td>0.042</td>\n",
       "      <td>0.058</td>\n",
       "    </tr>\n",
       "    <tr>\n",
       "      <th>2011-12-01</th>\n",
       "      <td>-0.002</td>\n",
       "      <td>-0.009</td>\n",
       "    </tr>\n",
       "    <tr>\n",
       "      <th>2011-12-02</th>\n",
       "      <td>-0.000</td>\n",
       "      <td>0.006</td>\n",
       "    </tr>\n",
       "  </tbody>\n",
       "</table>\n",
       "</div>"
      ],
      "text/plain": [
       "Symbols     SP500  Russell2000\n",
       "Date                          \n",
       "2011-11-28  0.029        0.047\n",
       "2011-11-29  0.002       -0.003\n",
       "2011-11-30  0.042        0.058\n",
       "2011-12-01 -0.002       -0.009\n",
       "2011-12-02 -0.000        0.006"
      ]
     },
     "execution_count": 6,
     "metadata": {},
     "output_type": "execute_result"
    }
   ],
   "source": [
    "df.head()"
   ]
  },
  {
   "cell_type": "markdown",
   "id": "ebaff125",
   "metadata": {},
   "source": [
    "### 1.3 Calculating Future Value of each Index\n"
   ]
  },
  {
   "cell_type": "code",
   "execution_count": 7,
   "id": "16605258",
   "metadata": {},
   "outputs": [
    {
     "data": {
      "text/plain": [
       "Symbols\n",
       "SP500         0.056\n",
       "Russell2000   0.050\n",
       "dtype: float64"
      ]
     },
     "execution_count": 7,
     "metadata": {},
     "output_type": "execute_result"
    }
   ],
   "source": [
    "df.mean() * 100"
   ]
  },
  {
   "cell_type": "code",
   "execution_count": 8,
   "id": "c8e1e9e4",
   "metadata": {},
   "outputs": [
    {
     "data": {
      "text/plain": [
       "Symbols\n",
       "SP500         4,053.569\n",
       "Russell2000   3,509.066\n",
       "dtype: float64"
      ]
     },
     "execution_count": 8,
     "metadata": {},
     "output_type": "execute_result"
    }
   ],
   "source": [
    "(1 + df.mean()) ** (252 * 10) * 1000"
   ]
  },
  {
   "cell_type": "markdown",
   "id": "6663db40",
   "metadata": {},
   "source": [
    "### 2.1 Price Volatility: High-Low\n"
   ]
  },
  {
   "cell_type": "code",
   "execution_count": 9,
   "id": "2d2aec25",
   "metadata": {},
   "outputs": [
    {
     "data": {
      "text/plain": [
       "Symbols\n",
       "SP500         4,704.540\n",
       "Russell2000   2,442.740\n",
       "dtype: float64"
      ]
     },
     "execution_count": 9,
     "metadata": {},
     "output_type": "execute_result"
    }
   ],
   "source": [
    "prices.max()"
   ]
  },
  {
   "cell_type": "code",
   "execution_count": 10,
   "id": "0bab2524",
   "metadata": {},
   "outputs": [
    {
     "data": {
      "text/plain": [
       "Symbols\n",
       "SP500         1,158.670\n",
       "Russell2000     666.160\n",
       "dtype: float64"
      ]
     },
     "execution_count": 10,
     "metadata": {},
     "output_type": "execute_result"
    }
   ],
   "source": [
    "prices.min()"
   ]
  },
  {
   "cell_type": "code",
   "execution_count": 11,
   "id": "1f38b024",
   "metadata": {},
   "outputs": [
    {
     "data": {
      "text/plain": [
       "Symbols\n",
       "SP500         3,545.870\n",
       "Russell2000   1,776.580\n",
       "dtype: float64"
      ]
     },
     "execution_count": 11,
     "metadata": {},
     "output_type": "execute_result"
    }
   ],
   "source": [
    "prices.max() - prices.min()"
   ]
  },
  {
   "cell_type": "code",
   "execution_count": 12,
   "id": "18916e16",
   "metadata": {},
   "outputs": [
    {
     "data": {
      "text/plain": [
       "Symbols\n",
       "SP500         159.640\n",
       "Russell2000   190.250\n",
       "dtype: float64"
      ]
     },
     "execution_count": 12,
     "metadata": {},
     "output_type": "execute_result"
    }
   ],
   "source": [
    "currYear = prices.loc[\n",
    "    date.today() - datetime.timedelta(365) : date.today()  # noqa E203\n",
    "]\n",
    "currYear.max() - currYear.min()"
   ]
  },
  {
   "cell_type": "code",
   "execution_count": 13,
   "id": "9a73e325",
   "metadata": {},
   "outputs": [
    {
     "data": {
      "text/plain": [
       "Symbols\n",
       "SP500         0.034\n",
       "Russell2000   0.082\n",
       "dtype: float64"
      ]
     },
     "execution_count": 13,
     "metadata": {},
     "output_type": "execute_result"
    }
   ],
   "source": [
    "(currYear.max() - currYear.min()) / prices.iloc[-1]"
   ]
  },
  {
   "cell_type": "markdown",
   "id": "14980835",
   "metadata": {},
   "source": [
    "### 2.2 Moving Averages \n",
    "#### 2.2.1 50-Day Moving Average"
   ]
  },
  {
   "cell_type": "code",
   "execution_count": 14,
   "id": "def86447",
   "metadata": {},
   "outputs": [
    {
     "data": {
      "text/plain": [
       "<AxesSubplot:xlabel='Date', ylabel='SP500'>"
      ]
     },
     "execution_count": 14,
     "metadata": {},
     "output_type": "execute_result"
    },
    {
     "data": {
      "image/png": "[encoded data removed]",
      "text/plain": [
       "<Figure size 1200x500 with 1 Axes>"
      ]
     },
     "metadata": {},
     "output_type": "display_data"
    }
   ],
   "source": [
    "prices[\"SP500 50 day_rolling_avg\"] = prices.SP500.rolling(50).mean()\n",
    "\n",
    "# set figure size\n",
    "plt.figure(figsize=(12, 5))\n",
    "\n",
    "# plot a simple time series plot\n",
    "# using seaborn.lineplot()\n",
    "sns.lineplot(x=\"Date\", y=\"SP500\", data=prices, label=\"Daily S&P 500 Prices\")\n",
    "\n",
    "\n",
    "# plot using rolling average\n",
    "sns.lineplot(x=\"Date\", y=\"SP500 50 day_rolling_avg\", data=prices, label=\"Rollingavg\")"
   ]
  },
  {
   "cell_type": "markdown",
   "id": "f7ea4e78",
   "metadata": {},
   "source": [
    "#### 2.2.2 50-Day Rolling Distance \n"
   ]
  },
  {
   "cell_type": "code",
   "execution_count": 15,
   "id": "bcb82df7",
   "metadata": {},
   "outputs": [
    {
     "data": {
      "text/plain": [
       "Symbols\n",
       "SP500                      0.027\n",
       "Russell2000                0.035\n",
       "SP500 50 day_rolling_avg   0.020\n",
       "dtype: float64"
      ]
     },
     "execution_count": 15,
     "metadata": {},
     "output_type": "execute_result"
    }
   ],
   "source": [
    "((abs(prices - prices.rolling(50).mean())) / prices).mean()"
   ]
  },
  {
   "cell_type": "markdown",
   "id": "89adaa25",
   "metadata": {},
   "source": [
    "### 2.3 Price Volatility: Standard Deviations\n"
   ]
  },
  {
   "cell_type": "code",
   "execution_count": 16,
   "id": "f46821db",
   "metadata": {},
   "outputs": [
    {
     "data": {
      "text/plain": [
       "Symbols\n",
       "SP500                      802.765\n",
       "Russell2000                384.850\n",
       "SP500 50 day_rolling_avg   769.487\n",
       "dtype: float64"
      ]
     },
     "execution_count": 16,
     "metadata": {},
     "output_type": "execute_result"
    }
   ],
   "source": [
    "prices.std()"
   ]
  },
  {
   "cell_type": "code",
   "execution_count": 17,
   "id": "35421849",
   "metadata": {},
   "outputs": [
    {
     "data": {
      "text/plain": [
       "Symbols\n",
       "SP500         0.010\n",
       "Russell2000   0.013\n",
       "dtype: float64"
      ]
     },
     "execution_count": 17,
     "metadata": {},
     "output_type": "execute_result"
    }
   ],
   "source": [
    "df.std()"
   ]
  },
  {
   "cell_type": "markdown",
   "id": "515ac6de",
   "metadata": {},
   "source": [
    "### 2.4 Writing a Comparison Function in Python\n"
   ]
  },
  {
   "cell_type": "code",
   "execution_count": 18,
   "id": "3623dcf7",
   "metadata": {},
   "outputs": [],
   "source": [
    "def investCompare(startTime, endTime, tickers):\n",
    "    # pull price data from yahoo -- (list(tickers.keys())) = ['^GSPC','^RUT']\n",
    "    prices = web.DataReader(list(tickers.keys()), \"yahoo\", startTime, endTime)[\n",
    "        \"Adj Close\"\n",
    "    ]\n",
    "    prices = prices.rename(columns=tickers)\n",
    "    returns = np.log(prices) - np.log(prices.shift(1))\n",
    "    returns = returns.iloc[1:, 0:]\n",
    "\n",
    "    # pull data into separate DataFrame, 52weeks to just look at the last 365 days of data for calculating our high/low metric\n",
    "    currYear = prices.loc[\n",
    "        date.today() - datetime.timedelta(365) : date.today()  # noqa E203\n",
    "    ]\n",
    "    highLow = (currYear.max() - currYear.min()) / prices.iloc[-1]\n",
    "    highLow = pd.DataFrame(highLow, columns=[\"HighMinusLow\"])\n",
    "\n",
    "    # Moving average volatility\n",
    "    MA = pd.DataFrame(\n",
    "        ((abs(prices - prices.rolling(50).mean())) / prices).mean(),\n",
    "        columns=[\"MovingAverageVolatility\"],\n",
    "    )\n",
    "\n",
    "    investments = pd.merge(highLow, MA, on=\"Symbols\")\n",
    "    investments = pd.merge(\n",
    "        investments,\n",
    "        pd.DataFrame(returns.std(), columns=[\"StandardDeviation\"]),\n",
    "        on=\"Symbols\",\n",
    "    )\n",
    "    investments = pd.merge(\n",
    "        investments,\n",
    "        pd.DataFrame(100 * returns.mean(), columns=[\"Daily Return Percentage\"]),\n",
    "        on=\"Symbols\",\n",
    "    )\n",
    "\n",
    "    return investments.round(3)"
   ]
  },
  {
   "cell_type": "code",
   "execution_count": 19,
   "id": "a6619794",
   "metadata": {},
   "outputs": [
    {
     "name": "stderr",
     "output_type": "stream",
     "text": [
      "C:\\Users\\25472\\anaconda3\\envs\\base2\\lib\\site-packages\\pandas_datareader\\base.py:272: SymbolWarning: Failed to read symbol: '^RUT', replacing with NaN.\n",
      "  warnings.warn(msg.format(sym), SymbolWarning)\n"
     ]
    },
    {
     "data": {
      "text/html": [
       "<div>\n",
       "<style scoped>\n",
       "    .dataframe tbody tr th:only-of-type {\n",
       "        vertical-align: middle;\n",
       "    }\n",
       "\n",
       "    .dataframe tbody tr th {\n",
       "        vertical-align: top;\n",
       "    }\n",
       "\n",
       "    .dataframe thead th {\n",
       "        text-align: right;\n",
       "    }\n",
       "</style>\n",
       "<table border=\"1\" class=\"dataframe\">\n",
       "  <thead>\n",
       "    <tr style=\"text-align: right;\">\n",
       "      <th></th>\n",
       "      <th>HighMinusLow</th>\n",
       "      <th>MovingAverageVolatility</th>\n",
       "      <th>StandardDeviation</th>\n",
       "      <th>Daily Return Percentage</th>\n",
       "    </tr>\n",
       "    <tr>\n",
       "      <th>Symbols</th>\n",
       "      <th></th>\n",
       "      <th></th>\n",
       "      <th></th>\n",
       "      <th></th>\n",
       "    </tr>\n",
       "  </thead>\n",
       "  <tbody>\n",
       "    <tr>\n",
       "      <th>SP500</th>\n",
       "      <td>0.325</td>\n",
       "      <td>0.042</td>\n",
       "      <td>0.016</td>\n",
       "      <td>0.020</td>\n",
       "    </tr>\n",
       "    <tr>\n",
       "      <th>Russell2000</th>\n",
       "      <td>NaN</td>\n",
       "      <td>NaN</td>\n",
       "      <td>NaN</td>\n",
       "      <td>NaN</td>\n",
       "    </tr>\n",
       "  </tbody>\n",
       "</table>\n",
       "</div>"
      ],
      "text/plain": [
       "             HighMinusLow  MovingAverageVolatility  StandardDeviation  \\\n",
       "Symbols                                                                 \n",
       "SP500               0.325                    0.042              0.016   \n",
       "Russell2000           NaN                      NaN                NaN   \n",
       "\n",
       "             Daily Return Percentage  \n",
       "Symbols                               \n",
       "SP500                          0.020  \n",
       "Russell2000                      NaN  "
      ]
     },
     "execution_count": 19,
     "metadata": {},
     "output_type": "execute_result"
    }
   ],
   "source": [
    "investCompare(\n",
    "    datetime.date(2020, 1, 1),\n",
    "    datetime.date.today(),\n",
    "    {\"^GSPC\": \"SP500\", \"^RUT\": \"Russell2000\"},\n",
    ")"
   ]
  },
  {
   "cell_type": "code",
   "execution_count": 20,
   "id": "8d0eb597",
   "metadata": {},
   "outputs": [
    {
     "name": "stderr",
     "output_type": "stream",
     "text": [
      "C:\\Users\\25472\\anaconda3\\envs\\base2\\lib\\site-packages\\pandas_datareader\\base.py:272: SymbolWarning: Failed to read symbol: '^GSPC', replacing with NaN.\n",
      "  warnings.warn(msg.format(sym), SymbolWarning)\n",
      "C:\\Users\\25472\\anaconda3\\envs\\base2\\lib\\site-packages\\pandas_datareader\\base.py:272: SymbolWarning: Failed to read symbol: '^RUT', replacing with NaN.\n",
      "  warnings.warn(msg.format(sym), SymbolWarning)\n"
     ]
    },
    {
     "data": {
      "text/html": [
       "<div>\n",
       "<style scoped>\n",
       "    .dataframe tbody tr th:only-of-type {\n",
       "        vertical-align: middle;\n",
       "    }\n",
       "\n",
       "    .dataframe tbody tr th {\n",
       "        vertical-align: top;\n",
       "    }\n",
       "\n",
       "    .dataframe thead th {\n",
       "        text-align: right;\n",
       "    }\n",
       "</style>\n",
       "<table border=\"1\" class=\"dataframe\">\n",
       "  <thead>\n",
       "    <tr style=\"text-align: right;\">\n",
       "      <th></th>\n",
       "      <th>HighMinusLow</th>\n",
       "      <th>MovingAverageVolatility</th>\n",
       "      <th>StandardDeviation</th>\n",
       "      <th>Daily Return Percentage</th>\n",
       "    </tr>\n",
       "    <tr>\n",
       "      <th>Symbols</th>\n",
       "      <th></th>\n",
       "      <th></th>\n",
       "      <th></th>\n",
       "      <th></th>\n",
       "    </tr>\n",
       "  </thead>\n",
       "  <tbody>\n",
       "    <tr>\n",
       "      <th>Apple</th>\n",
       "      <td>0.349</td>\n",
       "      <td>0.067</td>\n",
       "      <td>0.023</td>\n",
       "      <td>0.098</td>\n",
       "    </tr>\n",
       "    <tr>\n",
       "      <th>SP500</th>\n",
       "      <td>NaN</td>\n",
       "      <td>NaN</td>\n",
       "      <td>NaN</td>\n",
       "      <td>NaN</td>\n",
       "    </tr>\n",
       "    <tr>\n",
       "      <th>Russell2000</th>\n",
       "      <td>NaN</td>\n",
       "      <td>NaN</td>\n",
       "      <td>NaN</td>\n",
       "      <td>NaN</td>\n",
       "    </tr>\n",
       "  </tbody>\n",
       "</table>\n",
       "</div>"
      ],
      "text/plain": [
       "             HighMinusLow  MovingAverageVolatility  StandardDeviation  \\\n",
       "Symbols                                                                 \n",
       "Apple               0.349                    0.067              0.023   \n",
       "SP500                 NaN                      NaN                NaN   \n",
       "Russell2000           NaN                      NaN                NaN   \n",
       "\n",
       "             Daily Return Percentage  \n",
       "Symbols                               \n",
       "Apple                          0.098  \n",
       "SP500                            NaN  \n",
       "Russell2000                      NaN  "
      ]
     },
     "execution_count": 20,
     "metadata": {},
     "output_type": "execute_result"
    }
   ],
   "source": [
    "investCompare(\n",
    "    datetime.date(2020, 1, 1),\n",
    "    datetime.date.today(),\n",
    "    {\"^GSPC\": \"SP500\", \"^RUT\": \"Russell2000\", \"AAPL\": \"Apple\"},\n",
    ")"
   ]
  },
  {
   "cell_type": "markdown",
   "id": "02ef44c7",
   "metadata": {},
   "source": [
    "## 2.6 Comparing Growth vs. Value stocks\n"
   ]
  },
  {
   "cell_type": "code",
   "execution_count": 21,
   "id": "c08bef1a",
   "metadata": {},
   "outputs": [
    {
     "data": {
      "text/html": [
       "<div>\n",
       "<style scoped>\n",
       "    .dataframe tbody tr th:only-of-type {\n",
       "        vertical-align: middle;\n",
       "    }\n",
       "\n",
       "    .dataframe tbody tr th {\n",
       "        vertical-align: top;\n",
       "    }\n",
       "\n",
       "    .dataframe thead th {\n",
       "        text-align: right;\n",
       "    }\n",
       "</style>\n",
       "<table border=\"1\" class=\"dataframe\">\n",
       "  <thead>\n",
       "    <tr style=\"text-align: right;\">\n",
       "      <th></th>\n",
       "      <th>HighMinusLow</th>\n",
       "      <th>MovingAverageVolatility</th>\n",
       "      <th>StandardDeviation</th>\n",
       "      <th>Daily Return Percentage</th>\n",
       "    </tr>\n",
       "    <tr>\n",
       "      <th>Symbols</th>\n",
       "      <th></th>\n",
       "      <th></th>\n",
       "      <th></th>\n",
       "      <th></th>\n",
       "    </tr>\n",
       "  </thead>\n",
       "  <tbody>\n",
       "    <tr>\n",
       "      <th>Growth</th>\n",
       "      <td>0.524</td>\n",
       "      <td>0.054</td>\n",
       "      <td>0.019</td>\n",
       "      <td>0.027</td>\n",
       "    </tr>\n",
       "    <tr>\n",
       "      <th>Value</th>\n",
       "      <td>0.193</td>\n",
       "      <td>0.036</td>\n",
       "      <td>0.016</td>\n",
       "      <td>0.022</td>\n",
       "    </tr>\n",
       "  </tbody>\n",
       "</table>\n",
       "</div>"
      ],
      "text/plain": [
       "         HighMinusLow  MovingAverageVolatility  StandardDeviation  \\\n",
       "Symbols                                                             \n",
       "Growth          0.524                    0.054              0.019   \n",
       "Value           0.193                    0.036              0.016   \n",
       "\n",
       "         Daily Return Percentage  \n",
       "Symbols                           \n",
       "Growth                     0.027  \n",
       "Value                      0.022  "
      ]
     },
     "execution_count": 21,
     "metadata": {},
     "output_type": "execute_result"
    }
   ],
   "source": [
    "investCompare(\n",
    "    datetime.date(2020, 1, 1), datetime.date.today(), {\"VUG\": \"Growth\", \"VTV\": \"Value\"}\n",
    ")"
   ]
  },
  {
   "cell_type": "code",
   "execution_count": 22,
   "id": "823a657c",
   "metadata": {},
   "outputs": [
    {
     "name": "stderr",
     "output_type": "stream",
     "text": [
      "C:\\Users\\25472\\anaconda3\\envs\\base2\\lib\\site-packages\\pandas_datareader\\base.py:272: SymbolWarning: Failed to read symbol: 'VTV', replacing with NaN.\n",
      "  warnings.warn(msg.format(sym), SymbolWarning)\n"
     ]
    },
    {
     "data": {
      "text/html": [
       "<div>\n",
       "<style scoped>\n",
       "    .dataframe tbody tr th:only-of-type {\n",
       "        vertical-align: middle;\n",
       "    }\n",
       "\n",
       "    .dataframe tbody tr th {\n",
       "        vertical-align: top;\n",
       "    }\n",
       "\n",
       "    .dataframe thead th {\n",
       "        text-align: right;\n",
       "    }\n",
       "</style>\n",
       "<table border=\"1\" class=\"dataframe\">\n",
       "  <thead>\n",
       "    <tr style=\"text-align: right;\">\n",
       "      <th></th>\n",
       "      <th>HighMinusLow</th>\n",
       "      <th>MovingAverageVolatility</th>\n",
       "      <th>StandardDeviation</th>\n",
       "      <th>Daily Return Percentage</th>\n",
       "    </tr>\n",
       "    <tr>\n",
       "      <th>Symbols</th>\n",
       "      <th></th>\n",
       "      <th></th>\n",
       "      <th></th>\n",
       "      <th></th>\n",
       "    </tr>\n",
       "  </thead>\n",
       "  <tbody>\n",
       "    <tr>\n",
       "      <th>Growth</th>\n",
       "      <td>0.524</td>\n",
       "      <td>0.034</td>\n",
       "      <td>0.012</td>\n",
       "      <td>0.048</td>\n",
       "    </tr>\n",
       "    <tr>\n",
       "      <th>Value</th>\n",
       "      <td>NaN</td>\n",
       "      <td>NaN</td>\n",
       "      <td>NaN</td>\n",
       "      <td>NaN</td>\n",
       "    </tr>\n",
       "  </tbody>\n",
       "</table>\n",
       "</div>"
      ],
      "text/plain": [
       "         HighMinusLow  MovingAverageVolatility  StandardDeviation  \\\n",
       "Symbols                                                             \n",
       "Growth          0.524                    0.034              0.012   \n",
       "Value             NaN                      NaN                NaN   \n",
       "\n",
       "         Daily Return Percentage  \n",
       "Symbols                           \n",
       "Growth                     0.048  \n",
       "Value                        NaN  "
      ]
     },
     "execution_count": 22,
     "metadata": {},
     "output_type": "execute_result"
    }
   ],
   "source": [
    "investCompare(\n",
    "    datetime.date(2010, 1, 1), datetime.date.today(), {\"VUG\": \"Growth\", \"VTV\": \"Value\"}\n",
    ")"
   ]
  },
  {
   "cell_type": "markdown",
   "id": "f324fec1",
   "metadata": {},
   "source": [
    "## 2.7 Comparing Domestic vs. Foreign Stocks\n"
   ]
  },
  {
   "cell_type": "code",
   "execution_count": 23,
   "id": "dc5def75",
   "metadata": {},
   "outputs": [
    {
     "name": "stderr",
     "output_type": "stream",
     "text": [
      "C:\\Users\\25472\\anaconda3\\envs\\base2\\lib\\site-packages\\pandas_datareader\\base.py:272: SymbolWarning: Failed to read symbol: '^GSPC', replacing with NaN.\n",
      "  warnings.warn(msg.format(sym), SymbolWarning)\n"
     ]
    },
    {
     "data": {
      "text/html": [
       "<div>\n",
       "<style scoped>\n",
       "    .dataframe tbody tr th:only-of-type {\n",
       "        vertical-align: middle;\n",
       "    }\n",
       "\n",
       "    .dataframe tbody tr th {\n",
       "        vertical-align: top;\n",
       "    }\n",
       "\n",
       "    .dataframe thead th {\n",
       "        text-align: right;\n",
       "    }\n",
       "</style>\n",
       "<table border=\"1\" class=\"dataframe\">\n",
       "  <thead>\n",
       "    <tr style=\"text-align: right;\">\n",
       "      <th></th>\n",
       "      <th>HighMinusLow</th>\n",
       "      <th>MovingAverageVolatility</th>\n",
       "      <th>StandardDeviation</th>\n",
       "      <th>Daily Return Percentage</th>\n",
       "    </tr>\n",
       "    <tr>\n",
       "      <th>Symbols</th>\n",
       "      <th></th>\n",
       "      <th></th>\n",
       "      <th></th>\n",
       "      <th></th>\n",
       "    </tr>\n",
       "  </thead>\n",
       "  <tbody>\n",
       "    <tr>\n",
       "      <th>Europe ETF</th>\n",
       "      <td>0.457</td>\n",
       "      <td>0.045</td>\n",
       "      <td>0.016</td>\n",
       "      <td>-0.016</td>\n",
       "    </tr>\n",
       "    <tr>\n",
       "      <th>China ETF</th>\n",
       "      <td>0.734</td>\n",
       "      <td>0.054</td>\n",
       "      <td>0.019</td>\n",
       "      <td>-0.059</td>\n",
       "    </tr>\n",
       "    <tr>\n",
       "      <th>SP500</th>\n",
       "      <td>NaN</td>\n",
       "      <td>NaN</td>\n",
       "      <td>NaN</td>\n",
       "      <td>NaN</td>\n",
       "    </tr>\n",
       "  </tbody>\n",
       "</table>\n",
       "</div>"
      ],
      "text/plain": [
       "            HighMinusLow  MovingAverageVolatility  StandardDeviation  \\\n",
       "Symbols                                                                \n",
       "Europe ETF         0.457                    0.045              0.016   \n",
       "China ETF          0.734                    0.054              0.019   \n",
       "SP500                NaN                      NaN                NaN   \n",
       "\n",
       "            Daily Return Percentage  \n",
       "Symbols                              \n",
       "Europe ETF                   -0.016  \n",
       "China ETF                    -0.059  \n",
       "SP500                           NaN  "
      ]
     },
     "execution_count": 23,
     "metadata": {},
     "output_type": "execute_result"
    }
   ],
   "source": [
    "investCompare(\n",
    "    datetime.date(2020, 1, 1),\n",
    "    datetime.date.today(),\n",
    "    {\"^GSPC\": \"SP500\", \"SPEU\": \"Europe ETF\", \"GXC\": \"China ETF\"},\n",
    ")"
   ]
  },
  {
   "cell_type": "code",
   "execution_count": 24,
   "id": "f67638ec",
   "metadata": {},
   "outputs": [
    {
     "data": {
      "text/html": [
       "<div>\n",
       "<style scoped>\n",
       "    .dataframe tbody tr th:only-of-type {\n",
       "        vertical-align: middle;\n",
       "    }\n",
       "\n",
       "    .dataframe tbody tr th {\n",
       "        vertical-align: top;\n",
       "    }\n",
       "\n",
       "    .dataframe thead th {\n",
       "        text-align: right;\n",
       "    }\n",
       "</style>\n",
       "<table border=\"1\" class=\"dataframe\">\n",
       "  <thead>\n",
       "    <tr style=\"text-align: right;\">\n",
       "      <th></th>\n",
       "      <th>HighMinusLow</th>\n",
       "      <th>MovingAverageVolatility</th>\n",
       "      <th>StandardDeviation</th>\n",
       "      <th>Daily Return Percentage</th>\n",
       "    </tr>\n",
       "    <tr>\n",
       "      <th>Symbols</th>\n",
       "      <th></th>\n",
       "      <th></th>\n",
       "      <th></th>\n",
       "      <th></th>\n",
       "    </tr>\n",
       "  </thead>\n",
       "  <tbody>\n",
       "    <tr>\n",
       "      <th>SP500</th>\n",
       "      <td>0.325</td>\n",
       "      <td>0.029</td>\n",
       "      <td>0.011</td>\n",
       "      <td>0.037</td>\n",
       "    </tr>\n",
       "    <tr>\n",
       "      <th>Europe ETF</th>\n",
       "      <td>0.457</td>\n",
       "      <td>0.033</td>\n",
       "      <td>0.013</td>\n",
       "      <td>0.008</td>\n",
       "    </tr>\n",
       "    <tr>\n",
       "      <th>China ETF</th>\n",
       "      <td>0.734</td>\n",
       "      <td>0.045</td>\n",
       "      <td>0.016</td>\n",
       "      <td>0.005</td>\n",
       "    </tr>\n",
       "  </tbody>\n",
       "</table>\n",
       "</div>"
      ],
      "text/plain": [
       "            HighMinusLow  MovingAverageVolatility  StandardDeviation  \\\n",
       "Symbols                                                                \n",
       "SP500              0.325                    0.029              0.011   \n",
       "Europe ETF         0.457                    0.033              0.013   \n",
       "China ETF          0.734                    0.045              0.016   \n",
       "\n",
       "            Daily Return Percentage  \n",
       "Symbols                              \n",
       "SP500                         0.037  \n",
       "Europe ETF                    0.008  \n",
       "China ETF                     0.005  "
      ]
     },
     "execution_count": 24,
     "metadata": {},
     "output_type": "execute_result"
    }
   ],
   "source": [
    "investCompare(\n",
    "    datetime.date(2010, 1, 1),\n",
    "    datetime.date.today(),\n",
    "    {\"^GSPC\": \"SP500\", \"SPEU\": \"Europe ETF\", \"GXC\": \"China ETF\"},\n",
    ")"
   ]
  },
  {
   "cell_type": "code",
   "execution_count": null,
   "id": "6f1f628e",
   "metadata": {},
   "outputs": [],
   "source": []
  }
 ],
 "metadata": {
  "kernelspec": {
   "display_name": "Python 3 (ipykernel)",
   "language": "python",
   "name": "python3"
  },
  "language_info": {
   "codemirror_mode": {
    "name": "ipython",
    "version": 3
   },
   "file_extension": ".py",
   "mimetype": "text/x-python",
   "name": "python",
   "nbconvert_exporter": "python",
   "pygments_lexer": "ipython3",
   "version": "3.10.6"
  }
 },
 "nbformat": 4,
 "nbformat_minor": 5
}
